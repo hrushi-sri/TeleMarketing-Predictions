{
 "cells": [
  {
   "cell_type": "markdown",
   "id": "8e267e13",
   "metadata": {
    "papermill": {
     "duration": 0.139925,
     "end_time": "2021-11-05T10:52:44.645490",
     "exception": false,
     "start_time": "2021-11-05T10:52:44.505565",
     "status": "completed"
    },
    "tags": []
   },
   "source": [
    "# Bank Telemarketing predictions"
   ]
  },
  {
   "cell_type": "code",
   "execution_count": 1,
   "id": "1ba256f5",
   "metadata": {
    "execution": {
     "iopub.execute_input": "2021-11-05T10:52:45.228730Z",
     "iopub.status.busy": "2021-11-05T10:52:45.224780Z",
     "iopub.status.idle": "2021-11-05T10:52:46.269939Z",
     "shell.execute_reply": "2021-11-05T10:52:46.270859Z",
     "shell.execute_reply.started": "2021-11-05T09:06:39.704030Z"
    },
    "papermill": {
     "duration": 1.197426,
     "end_time": "2021-11-05T10:52:46.271083",
     "exception": false,
     "start_time": "2021-11-05T10:52:45.073657",
     "status": "completed"
    },
    "tags": []
   },
   "outputs": [],
   "source": [
    "# For Dataset handling\n",
    "import numpy as np\n",
    "import pandas as pd\n",
    "\n",
    "# For Checking Distribution Data\n",
    "from scipy.stats import shapiro\n",
    "\n",
    "# For Data Visualization\n",
    "import matplotlib.pyplot as plt\n",
    "import seaborn as sns\n",
    "\n",
    "import warnings\n",
    "warnings.filterwarnings(\"ignore\")"
   ]
  },
  {
   "cell_type": "code",
   "execution_count": 2,
   "id": "122bf9d4",
   "metadata": {
    "execution": {
     "iopub.execute_input": "2021-11-05T10:52:46.550291Z",
     "iopub.status.busy": "2021-11-05T10:52:46.549576Z",
     "iopub.status.idle": "2021-11-05T10:52:46.787985Z",
     "shell.execute_reply": "2021-11-05T10:52:46.787237Z",
     "shell.execute_reply.started": "2021-11-05T09:06:39.717151Z"
    },
    "papermill": {
     "duration": 0.382695,
     "end_time": "2021-11-05T10:52:46.788138",
     "exception": false,
     "start_time": "2021-11-05T10:52:46.405443",
     "status": "completed"
    },
    "tags": []
   },
   "outputs": [],
   "source": [
    "df = pd.read_csv('bank-additional-full.csv', delimiter=';')"
   ]
  },
  {
   "cell_type": "code",
   "execution_count": 3,
   "id": "45490d85",
   "metadata": {
    "execution": {
     "iopub.execute_input": "2021-11-05T10:52:47.075765Z",
     "iopub.status.busy": "2021-11-05T10:52:47.073062Z",
     "iopub.status.idle": "2021-11-05T10:52:47.077633Z",
     "shell.execute_reply": "2021-11-05T10:52:47.078178Z",
     "shell.execute_reply.started": "2021-11-05T09:06:39.852760Z"
    },
    "papermill": {
     "duration": 0.149001,
     "end_time": "2021-11-05T10:52:47.078408",
     "exception": false,
     "start_time": "2021-11-05T10:52:46.929407",
     "status": "completed"
    },
    "tags": []
   },
   "outputs": [
    {
     "data": {
      "text/plain": [
       "(41188, 21)"
      ]
     },
     "execution_count": 3,
     "metadata": {},
     "output_type": "execute_result"
    }
   ],
   "source": [
    "df.shape"
   ]
  },
  {
   "cell_type": "code",
   "execution_count": 4,
   "id": "2b035521",
   "metadata": {
    "execution": {
     "iopub.execute_input": "2021-11-05T10:52:47.361793Z",
     "iopub.status.busy": "2021-11-05T10:52:47.360970Z",
     "iopub.status.idle": "2021-11-05T10:52:47.398734Z",
     "shell.execute_reply": "2021-11-05T10:52:47.399293Z",
     "shell.execute_reply.started": "2021-11-05T09:06:39.858863Z"
    },
    "papermill": {
     "duration": 0.180058,
     "end_time": "2021-11-05T10:52:47.399512",
     "exception": false,
     "start_time": "2021-11-05T10:52:47.219454",
     "status": "completed"
    },
    "tags": []
   },
   "outputs": [
    {
     "data": {
      "text/html": [
       "<div>\n",
       "<style scoped>\n",
       "    .dataframe tbody tr th:only-of-type {\n",
       "        vertical-align: middle;\n",
       "    }\n",
       "\n",
       "    .dataframe tbody tr th {\n",
       "        vertical-align: top;\n",
       "    }\n",
       "\n",
       "    .dataframe thead th {\n",
       "        text-align: right;\n",
       "    }\n",
       "</style>\n",
       "<table border=\"1\" class=\"dataframe\">\n",
       "  <thead>\n",
       "    <tr style=\"text-align: right;\">\n",
       "      <th></th>\n",
       "      <th>age</th>\n",
       "      <th>job</th>\n",
       "      <th>marital</th>\n",
       "      <th>education</th>\n",
       "      <th>default</th>\n",
       "      <th>housing</th>\n",
       "      <th>loan</th>\n",
       "      <th>contact</th>\n",
       "      <th>month</th>\n",
       "      <th>day_of_week</th>\n",
       "      <th>...</th>\n",
       "      <th>campaign</th>\n",
       "      <th>pdays</th>\n",
       "      <th>previous</th>\n",
       "      <th>poutcome</th>\n",
       "      <th>emp.var.rate</th>\n",
       "      <th>cons.price.idx</th>\n",
       "      <th>cons.conf.idx</th>\n",
       "      <th>euribor3m</th>\n",
       "      <th>nr.employed</th>\n",
       "      <th>y</th>\n",
       "    </tr>\n",
       "  </thead>\n",
       "  <tbody>\n",
       "    <tr>\n",
       "      <th>0</th>\n",
       "      <td>56</td>\n",
       "      <td>housemaid</td>\n",
       "      <td>married</td>\n",
       "      <td>basic.4y</td>\n",
       "      <td>no</td>\n",
       "      <td>no</td>\n",
       "      <td>no</td>\n",
       "      <td>telephone</td>\n",
       "      <td>may</td>\n",
       "      <td>mon</td>\n",
       "      <td>...</td>\n",
       "      <td>1</td>\n",
       "      <td>999</td>\n",
       "      <td>0</td>\n",
       "      <td>nonexistent</td>\n",
       "      <td>1.1</td>\n",
       "      <td>93.994</td>\n",
       "      <td>-36.4</td>\n",
       "      <td>4.857</td>\n",
       "      <td>5191.0</td>\n",
       "      <td>no</td>\n",
       "    </tr>\n",
       "    <tr>\n",
       "      <th>1</th>\n",
       "      <td>57</td>\n",
       "      <td>services</td>\n",
       "      <td>married</td>\n",
       "      <td>high.school</td>\n",
       "      <td>unknown</td>\n",
       "      <td>no</td>\n",
       "      <td>no</td>\n",
       "      <td>telephone</td>\n",
       "      <td>may</td>\n",
       "      <td>mon</td>\n",
       "      <td>...</td>\n",
       "      <td>1</td>\n",
       "      <td>999</td>\n",
       "      <td>0</td>\n",
       "      <td>nonexistent</td>\n",
       "      <td>1.1</td>\n",
       "      <td>93.994</td>\n",
       "      <td>-36.4</td>\n",
       "      <td>4.857</td>\n",
       "      <td>5191.0</td>\n",
       "      <td>no</td>\n",
       "    </tr>\n",
       "    <tr>\n",
       "      <th>2</th>\n",
       "      <td>37</td>\n",
       "      <td>services</td>\n",
       "      <td>married</td>\n",
       "      <td>high.school</td>\n",
       "      <td>no</td>\n",
       "      <td>yes</td>\n",
       "      <td>no</td>\n",
       "      <td>telephone</td>\n",
       "      <td>may</td>\n",
       "      <td>mon</td>\n",
       "      <td>...</td>\n",
       "      <td>1</td>\n",
       "      <td>999</td>\n",
       "      <td>0</td>\n",
       "      <td>nonexistent</td>\n",
       "      <td>1.1</td>\n",
       "      <td>93.994</td>\n",
       "      <td>-36.4</td>\n",
       "      <td>4.857</td>\n",
       "      <td>5191.0</td>\n",
       "      <td>no</td>\n",
       "    </tr>\n",
       "    <tr>\n",
       "      <th>3</th>\n",
       "      <td>40</td>\n",
       "      <td>admin.</td>\n",
       "      <td>married</td>\n",
       "      <td>basic.6y</td>\n",
       "      <td>no</td>\n",
       "      <td>no</td>\n",
       "      <td>no</td>\n",
       "      <td>telephone</td>\n",
       "      <td>may</td>\n",
       "      <td>mon</td>\n",
       "      <td>...</td>\n",
       "      <td>1</td>\n",
       "      <td>999</td>\n",
       "      <td>0</td>\n",
       "      <td>nonexistent</td>\n",
       "      <td>1.1</td>\n",
       "      <td>93.994</td>\n",
       "      <td>-36.4</td>\n",
       "      <td>4.857</td>\n",
       "      <td>5191.0</td>\n",
       "      <td>no</td>\n",
       "    </tr>\n",
       "    <tr>\n",
       "      <th>4</th>\n",
       "      <td>56</td>\n",
       "      <td>services</td>\n",
       "      <td>married</td>\n",
       "      <td>high.school</td>\n",
       "      <td>no</td>\n",
       "      <td>no</td>\n",
       "      <td>yes</td>\n",
       "      <td>telephone</td>\n",
       "      <td>may</td>\n",
       "      <td>mon</td>\n",
       "      <td>...</td>\n",
       "      <td>1</td>\n",
       "      <td>999</td>\n",
       "      <td>0</td>\n",
       "      <td>nonexistent</td>\n",
       "      <td>1.1</td>\n",
       "      <td>93.994</td>\n",
       "      <td>-36.4</td>\n",
       "      <td>4.857</td>\n",
       "      <td>5191.0</td>\n",
       "      <td>no</td>\n",
       "    </tr>\n",
       "  </tbody>\n",
       "</table>\n",
       "<p>5 rows × 21 columns</p>\n",
       "</div>"
      ],
      "text/plain": [
       "   age        job  marital    education  default housing loan    contact  \\\n",
       "0   56  housemaid  married     basic.4y       no      no   no  telephone   \n",
       "1   57   services  married  high.school  unknown      no   no  telephone   \n",
       "2   37   services  married  high.school       no     yes   no  telephone   \n",
       "3   40     admin.  married     basic.6y       no      no   no  telephone   \n",
       "4   56   services  married  high.school       no      no  yes  telephone   \n",
       "\n",
       "  month day_of_week  ...  campaign  pdays  previous     poutcome emp.var.rate  \\\n",
       "0   may         mon  ...         1    999         0  nonexistent          1.1   \n",
       "1   may         mon  ...         1    999         0  nonexistent          1.1   \n",
       "2   may         mon  ...         1    999         0  nonexistent          1.1   \n",
       "3   may         mon  ...         1    999         0  nonexistent          1.1   \n",
       "4   may         mon  ...         1    999         0  nonexistent          1.1   \n",
       "\n",
       "   cons.price.idx  cons.conf.idx  euribor3m  nr.employed   y  \n",
       "0          93.994          -36.4      4.857       5191.0  no  \n",
       "1          93.994          -36.4      4.857       5191.0  no  \n",
       "2          93.994          -36.4      4.857       5191.0  no  \n",
       "3          93.994          -36.4      4.857       5191.0  no  \n",
       "4          93.994          -36.4      4.857       5191.0  no  \n",
       "\n",
       "[5 rows x 21 columns]"
      ]
     },
     "execution_count": 4,
     "metadata": {},
     "output_type": "execute_result"
    }
   ],
   "source": [
    "df.head()"
   ]
  },
  {
   "cell_type": "markdown",
   "id": "f4511b43",
   "metadata": {
    "papermill": {
     "duration": 0.142022,
     "end_time": "2021-11-05T10:52:47.685182",
     "exception": false,
     "start_time": "2021-11-05T10:52:47.543160",
     "status": "completed"
    },
    "tags": []
   },
   "source": [
    "## Checking Data Proportion"
   ]
  },
  {
   "cell_type": "code",
   "execution_count": 5,
   "id": "1f3e77af",
   "metadata": {
    "execution": {
     "iopub.execute_input": "2021-11-05T10:52:47.982409Z",
     "iopub.status.busy": "2021-11-05T10:52:47.981635Z",
     "iopub.status.idle": "2021-11-05T10:52:47.990237Z",
     "shell.execute_reply": "2021-11-05T10:52:47.989657Z",
     "shell.execute_reply.started": "2021-11-05T09:06:39.893123Z"
    },
    "papermill": {
     "duration": 0.164697,
     "end_time": "2021-11-05T10:52:47.990416",
     "exception": false,
     "start_time": "2021-11-05T10:52:47.825719",
     "status": "completed"
    },
    "tags": []
   },
   "outputs": [
    {
     "data": {
      "text/plain": [
       "no     88.73\n",
       "yes    11.27\n",
       "Name: y, dtype: float64"
      ]
     },
     "execution_count": 5,
     "metadata": {},
     "output_type": "execute_result"
    }
   ],
   "source": [
    "((df['y'].value_counts()/len(df))*100).round(2)"
   ]
  },
  {
   "cell_type": "code",
   "execution_count": 6,
   "id": "48bca710",
   "metadata": {
    "execution": {
     "iopub.execute_input": "2021-11-05T10:52:48.296274Z",
     "iopub.status.busy": "2021-11-05T10:52:48.295309Z",
     "iopub.status.idle": "2021-11-05T10:52:48.524872Z",
     "shell.execute_reply": "2021-11-05T10:52:48.525397Z",
     "shell.execute_reply.started": "2021-11-05T09:06:39.909651Z"
    },
    "papermill": {
     "duration": 0.39123,
     "end_time": "2021-11-05T10:52:48.525586",
     "exception": false,
     "start_time": "2021-11-05T10:52:48.134356",
     "status": "completed"
    },
    "tags": []
   },
   "outputs": [
    {
     "data": {
      "image/png": "[encoded data removed]",
      "text/plain": [
       "<Figure size 432x432 with 1 Axes>"
      ]
     },
     "metadata": {},
     "output_type": "display_data"
    }
   ],
   "source": [
    "sizes = list(df['y'].value_counts().sort_values().values)\n",
    "labels = list(df['y'].value_counts().sort_values().index)\n",
    "\n",
    "explode = [0, 0.1]\n",
    "\n",
    "plt.figure(figsize=(6,6))\n",
    "plt.pie(sizes, labels=labels, explode = explode,\n",
    "        autopct=lambda p:f'{p:.2f}%')\n",
    "plt.title('Deposit Succeed', fontsize=25)\n",
    "plt.tight_layout()\n",
    "plt.show()"
   ]
  },
  {
   "cell_type": "markdown",
   "id": "0caf4579",
   "metadata": {
    "papermill": {
     "duration": 0.140848,
     "end_time": "2021-11-05T10:52:48.807556",
     "exception": false,
     "start_time": "2021-11-05T10:52:48.666708",
     "status": "completed"
    },
    "tags": []
   },
   "source": [
    "We can see the data is imbalanced with proportion 88.73 % and 11.27 % for No and Yes anwers"
   ]
  },
  {
   "cell_type": "markdown",
   "id": "f8a6077e",
   "metadata": {
    "papermill": {
     "duration": 0.143501,
     "end_time": "2021-11-05T10:52:49.093468",
     "exception": false,
     "start_time": "2021-11-05T10:52:48.949967",
     "status": "completed"
    },
    "tags": []
   },
   "source": [
    "## Checking Distribution of Data"
   ]
  },
  {
   "cell_type": "code",
   "execution_count": 7,
   "id": "8d35b42e",
   "metadata": {},
   "outputs": [
    {
     "data": {
      "text/html": [
       "<div>\n",
       "<style scoped>\n",
       "    .dataframe tbody tr th:only-of-type {\n",
       "        vertical-align: middle;\n",
       "    }\n",
       "\n",
       "    .dataframe tbody tr th {\n",
       "        vertical-align: top;\n",
       "    }\n",
       "\n",
       "    .dataframe thead th {\n",
       "        text-align: right;\n",
       "    }\n",
       "</style>\n",
       "<table border=\"1\" class=\"dataframe\">\n",
       "  <thead>\n",
       "    <tr style=\"text-align: right;\">\n",
       "      <th></th>\n",
       "      <th>age</th>\n",
       "      <th>duration</th>\n",
       "      <th>campaign</th>\n",
       "      <th>pdays</th>\n",
       "      <th>previous</th>\n",
       "      <th>emp.var.rate</th>\n",
       "      <th>cons.price.idx</th>\n",
       "      <th>cons.conf.idx</th>\n",
       "      <th>euribor3m</th>\n",
       "      <th>nr.employed</th>\n",
       "    </tr>\n",
       "  </thead>\n",
       "  <tbody>\n",
       "    <tr>\n",
       "      <th>0</th>\n",
       "      <td>56</td>\n",
       "      <td>261</td>\n",
       "      <td>1</td>\n",
       "      <td>999</td>\n",
       "      <td>0</td>\n",
       "      <td>1.1</td>\n",
       "      <td>93.994</td>\n",
       "      <td>-36.4</td>\n",
       "      <td>4.857</td>\n",
       "      <td>5191.0</td>\n",
       "    </tr>\n",
       "    <tr>\n",
       "      <th>1</th>\n",
       "      <td>57</td>\n",
       "      <td>149</td>\n",
       "      <td>1</td>\n",
       "      <td>999</td>\n",
       "      <td>0</td>\n",
       "      <td>1.1</td>\n",
       "      <td>93.994</td>\n",
       "      <td>-36.4</td>\n",
       "      <td>4.857</td>\n",
       "      <td>5191.0</td>\n",
       "    </tr>\n",
       "    <tr>\n",
       "      <th>2</th>\n",
       "      <td>37</td>\n",
       "      <td>226</td>\n",
       "      <td>1</td>\n",
       "      <td>999</td>\n",
       "      <td>0</td>\n",
       "      <td>1.1</td>\n",
       "      <td>93.994</td>\n",
       "      <td>-36.4</td>\n",
       "      <td>4.857</td>\n",
       "      <td>5191.0</td>\n",
       "    </tr>\n",
       "    <tr>\n",
       "      <th>3</th>\n",
       "      <td>40</td>\n",
       "      <td>151</td>\n",
       "      <td>1</td>\n",
       "      <td>999</td>\n",
       "      <td>0</td>\n",
       "      <td>1.1</td>\n",
       "      <td>93.994</td>\n",
       "      <td>-36.4</td>\n",
       "      <td>4.857</td>\n",
       "      <td>5191.0</td>\n",
       "    </tr>\n",
       "    <tr>\n",
       "      <th>4</th>\n",
       "      <td>56</td>\n",
       "      <td>307</td>\n",
       "      <td>1</td>\n",
       "      <td>999</td>\n",
       "      <td>0</td>\n",
       "      <td>1.1</td>\n",
       "      <td>93.994</td>\n",
       "      <td>-36.4</td>\n",
       "      <td>4.857</td>\n",
       "      <td>5191.0</td>\n",
       "    </tr>\n",
       "  </tbody>\n",
       "</table>\n",
       "</div>"
      ],
      "text/plain": [
       "   age  duration  campaign  pdays  previous  emp.var.rate  cons.price.idx  \\\n",
       "0   56       261         1    999         0           1.1          93.994   \n",
       "1   57       149         1    999         0           1.1          93.994   \n",
       "2   37       226         1    999         0           1.1          93.994   \n",
       "3   40       151         1    999         0           1.1          93.994   \n",
       "4   56       307         1    999         0           1.1          93.994   \n",
       "\n",
       "   cons.conf.idx  euribor3m  nr.employed  \n",
       "0          -36.4      4.857       5191.0  \n",
       "1          -36.4      4.857       5191.0  \n",
       "2          -36.4      4.857       5191.0  \n",
       "3          -36.4      4.857       5191.0  \n",
       "4          -36.4      4.857       5191.0  "
      ]
     },
     "execution_count": 7,
     "metadata": {},
     "output_type": "execute_result"
    }
   ],
   "source": [
    "df_numeric=df.select_dtypes(include=np.number)\n",
    "df_numeric.head()"
   ]
  },
  {
   "cell_type": "code",
   "execution_count": 8,
   "id": "3b332d51",
   "metadata": {},
   "outputs": [
    {
     "data": {
      "text/html": [
       "<div>\n",
       "<style scoped>\n",
       "    .dataframe tbody tr th:only-of-type {\n",
       "        vertical-align: middle;\n",
       "    }\n",
       "\n",
       "    .dataframe tbody tr th {\n",
       "        vertical-align: top;\n",
       "    }\n",
       "\n",
       "    .dataframe thead th {\n",
       "        text-align: right;\n",
       "    }\n",
       "</style>\n",
       "<table border=\"1\" class=\"dataframe\">\n",
       "  <thead>\n",
       "    <tr style=\"text-align: right;\">\n",
       "      <th></th>\n",
       "      <th>job</th>\n",
       "      <th>marital</th>\n",
       "      <th>education</th>\n",
       "      <th>default</th>\n",
       "      <th>housing</th>\n",
       "      <th>loan</th>\n",
       "      <th>contact</th>\n",
       "      <th>month</th>\n",
       "      <th>day_of_week</th>\n",
       "      <th>poutcome</th>\n",
       "      <th>y</th>\n",
       "    </tr>\n",
       "  </thead>\n",
       "  <tbody>\n",
       "    <tr>\n",
       "      <th>0</th>\n",
       "      <td>housemaid</td>\n",
       "      <td>married</td>\n",
       "      <td>basic.4y</td>\n",
       "      <td>no</td>\n",
       "      <td>no</td>\n",
       "      <td>no</td>\n",
       "      <td>telephone</td>\n",
       "      <td>may</td>\n",
       "      <td>mon</td>\n",
       "      <td>nonexistent</td>\n",
       "      <td>no</td>\n",
       "    </tr>\n",
       "    <tr>\n",
       "      <th>1</th>\n",
       "      <td>services</td>\n",
       "      <td>married</td>\n",
       "      <td>high.school</td>\n",
       "      <td>unknown</td>\n",
       "      <td>no</td>\n",
       "      <td>no</td>\n",
       "      <td>telephone</td>\n",
       "      <td>may</td>\n",
       "      <td>mon</td>\n",
       "      <td>nonexistent</td>\n",
       "      <td>no</td>\n",
       "    </tr>\n",
       "    <tr>\n",
       "      <th>2</th>\n",
       "      <td>services</td>\n",
       "      <td>married</td>\n",
       "      <td>high.school</td>\n",
       "      <td>no</td>\n",
       "      <td>yes</td>\n",
       "      <td>no</td>\n",
       "      <td>telephone</td>\n",
       "      <td>may</td>\n",
       "      <td>mon</td>\n",
       "      <td>nonexistent</td>\n",
       "      <td>no</td>\n",
       "    </tr>\n",
       "    <tr>\n",
       "      <th>3</th>\n",
       "      <td>admin.</td>\n",
       "      <td>married</td>\n",
       "      <td>basic.6y</td>\n",
       "      <td>no</td>\n",
       "      <td>no</td>\n",
       "      <td>no</td>\n",
       "      <td>telephone</td>\n",
       "      <td>may</td>\n",
       "      <td>mon</td>\n",
       "      <td>nonexistent</td>\n",
       "      <td>no</td>\n",
       "    </tr>\n",
       "    <tr>\n",
       "      <th>4</th>\n",
       "      <td>services</td>\n",
       "      <td>married</td>\n",
       "      <td>high.school</td>\n",
       "      <td>no</td>\n",
       "      <td>no</td>\n",
       "      <td>yes</td>\n",
       "      <td>telephone</td>\n",
       "      <td>may</td>\n",
       "      <td>mon</td>\n",
       "      <td>nonexistent</td>\n",
       "      <td>no</td>\n",
       "    </tr>\n",
       "  </tbody>\n",
       "</table>\n",
       "</div>"
      ],
      "text/plain": [
       "         job  marital    education  default housing loan    contact month  \\\n",
       "0  housemaid  married     basic.4y       no      no   no  telephone   may   \n",
       "1   services  married  high.school  unknown      no   no  telephone   may   \n",
       "2   services  married  high.school       no     yes   no  telephone   may   \n",
       "3     admin.  married     basic.6y       no      no   no  telephone   may   \n",
       "4   services  married  high.school       no      no  yes  telephone   may   \n",
       "\n",
       "  day_of_week     poutcome   y  \n",
       "0         mon  nonexistent  no  \n",
       "1         mon  nonexistent  no  \n",
       "2         mon  nonexistent  no  \n",
       "3         mon  nonexistent  no  \n",
       "4         mon  nonexistent  no  "
      ]
     },
     "execution_count": 8,
     "metadata": {},
     "output_type": "execute_result"
    }
   ],
   "source": [
    "df_categorical=df.select_dtypes(include='object')\n",
    "df_categorical.head()"
   ]
  },
  {
   "cell_type": "code",
   "execution_count": 9,
   "id": "375db9e9",
   "metadata": {
    "execution": {
     "iopub.execute_input": "2021-11-05T10:52:49.393716Z",
     "iopub.status.busy": "2021-11-05T10:52:49.391957Z",
     "iopub.status.idle": "2021-11-05T10:52:49.397450Z",
     "shell.execute_reply": "2021-11-05T10:52:49.397946Z",
     "shell.execute_reply.started": "2021-11-05T09:06:40.040373Z"
    },
    "papermill": {
     "duration": 0.155321,
     "end_time": "2021-11-05T10:52:49.398151",
     "exception": false,
     "start_time": "2021-11-05T10:52:49.242830",
     "status": "completed"
    },
    "tags": []
   },
   "outputs": [],
   "source": [
    "cek = df_numeric.columns"
   ]
  },
  {
   "cell_type": "code",
   "execution_count": 10,
   "id": "22116797",
   "metadata": {
    "execution": {
     "iopub.execute_input": "2021-11-05T10:52:49.683861Z",
     "iopub.status.busy": "2021-11-05T10:52:49.683156Z",
     "iopub.status.idle": "2021-11-05T10:52:49.687770Z",
     "shell.execute_reply": "2021-11-05T10:52:49.688309Z",
     "shell.execute_reply.started": "2021-11-05T09:06:40.049692Z"
    },
    "papermill": {
     "duration": 0.149056,
     "end_time": "2021-11-05T10:52:49.688550",
     "exception": false,
     "start_time": "2021-11-05T10:52:49.539494",
     "status": "completed"
    },
    "tags": []
   },
   "outputs": [],
   "source": [
    "alpha = 0.05"
   ]
  },
  {
   "cell_type": "code",
   "execution_count": 11,
   "id": "03d06889",
   "metadata": {
    "execution": {
     "iopub.execute_input": "2021-11-05T10:52:49.978904Z",
     "iopub.status.busy": "2021-11-05T10:52:49.978074Z",
     "iopub.status.idle": "2021-11-05T10:52:50.009014Z",
     "shell.execute_reply": "2021-11-05T10:52:50.008026Z",
     "shell.execute_reply.started": "2021-11-05T09:06:40.062788Z"
    },
    "papermill": {
     "duration": 0.17548,
     "end_time": "2021-11-05T10:52:50.009221",
     "exception": false,
     "start_time": "2021-11-05T10:52:49.833741",
     "status": "completed"
    },
    "tags": []
   },
   "outputs": [
    {
     "name": "stdout",
     "output_type": "stream",
     "text": [
      "['age']\n",
      "test statistic 0.9572664499282837 p-value 0.0\n",
      "Not Normally distributed\n",
      "['duration']\n",
      "test statistic 0.7216588258743286 p-value 0.0\n",
      "Not Normally distributed\n",
      "['campaign']\n",
      "test statistic 0.5578195452690125 p-value 0.0\n",
      "Not Normally distributed\n",
      "['pdays']\n",
      "test statistic 0.18294060230255127 p-value 0.0\n",
      "Not Normally distributed\n",
      "['previous']\n",
      "test statistic 0.39124685525894165 p-value 0.0\n",
      "Not Normally distributed\n",
      "['emp.var.rate']\n",
      "test statistic 0.7622500658035278 p-value 0.0\n",
      "Not Normally distributed\n",
      "['cons.price.idx']\n",
      "test statistic 0.931542694568634 p-value 0.0\n",
      "Not Normally distributed\n",
      "['cons.conf.idx']\n",
      "test statistic 0.9239304661750793 p-value 0.0\n",
      "Not Normally distributed\n",
      "['euribor3m']\n",
      "test statistic 0.6861591339111328 p-value 0.0\n",
      "Not Normally distributed\n",
      "['nr.employed']\n",
      "test statistic 0.7875500917434692 p-value 0.0\n",
      "Not Normally distributed\n"
     ]
    }
   ],
   "source": [
    "for i in cek:\n",
    "    print ([i])\n",
    "    a, b = shapiro(df[i])\n",
    "    print(\"test statistic\", a, \"p-value\", b)\n",
    "    if b < alpha :\n",
    "        print(\"Not Normally distributed\")\n",
    "    else :\n",
    "        print(\"Normal distributed\")"
   ]
  },
  {
   "cell_type": "markdown",
   "id": "18d19fd6",
   "metadata": {
    "papermill": {
     "duration": 0.143444,
     "end_time": "2021-11-05T10:52:50.292436",
     "exception": false,
     "start_time": "2021-11-05T10:52:50.148992",
     "status": "completed"
    },
    "tags": []
   },
   "source": [
    "## Checking Data Info and Statistical Data"
   ]
  },
  {
   "cell_type": "code",
   "execution_count": 12,
   "id": "07b406fe",
   "metadata": {
    "execution": {
     "iopub.execute_input": "2021-11-05T10:52:50.577880Z",
     "iopub.status.busy": "2021-11-05T10:52:50.574757Z",
     "iopub.status.idle": "2021-11-05T10:52:50.760624Z",
     "shell.execute_reply": "2021-11-05T10:52:50.759911Z",
     "shell.execute_reply.started": "2021-11-05T09:06:40.098167Z"
    },
    "papermill": {
     "duration": 0.330635,
     "end_time": "2021-11-05T10:52:50.760788",
     "exception": false,
     "start_time": "2021-11-05T10:52:50.430153",
     "status": "completed"
    },
    "tags": []
   },
   "outputs": [
    {
     "name": "stdout",
     "output_type": "stream",
     "text": [
      "<class 'pandas.core.frame.DataFrame'>\n",
      "RangeIndex: 41188 entries, 0 to 41187\n",
      "Data columns (total 21 columns):\n",
      " #   Column          Non-Null Count  Dtype  \n",
      "---  ------          --------------  -----  \n",
      " 0   age             41188 non-null  int64  \n",
      " 1   job             41188 non-null  object \n",
      " 2   marital         41188 non-null  object \n",
      " 3   education       41188 non-null  object \n",
      " 4   default         41188 non-null  object \n",
      " 5   housing         41188 non-null  object \n",
      " 6   loan            41188 non-null  object \n",
      " 7   contact         41188 non-null  object \n",
      " 8   month           41188 non-null  object \n",
      " 9   day_of_week     41188 non-null  object \n",
      " 10  duration        41188 non-null  int64  \n",
      " 11  campaign        41188 non-null  int64  \n",
      " 12  pdays           41188 non-null  int64  \n",
      " 13  previous        41188 non-null  int64  \n",
      " 14  poutcome        41188 non-null  object \n",
      " 15  emp.var.rate    41188 non-null  float64\n",
      " 16  cons.price.idx  41188 non-null  float64\n",
      " 17  cons.conf.idx   41188 non-null  float64\n",
      " 18  euribor3m       41188 non-null  float64\n",
      " 19  nr.employed     41188 non-null  float64\n",
      " 20  y               41188 non-null  object \n",
      "dtypes: float64(5), int64(5), object(11)\n",
      "memory usage: 6.6+ MB\n"
     ]
    }
   ],
   "source": [
    "df.info()"
   ]
  },
  {
   "cell_type": "markdown",
   "id": "937ce8f5",
   "metadata": {
    "papermill": {
     "duration": 0.142388,
     "end_time": "2021-11-05T10:52:51.039517",
     "exception": false,
     "start_time": "2021-11-05T10:52:50.897129",
     "status": "completed"
    },
    "tags": []
   },
   "source": [
    "**Statistical Data for Numerical Features**"
   ]
  },
  {
   "cell_type": "code",
   "execution_count": 13,
   "id": "29fdca2e",
   "metadata": {
    "execution": {
     "iopub.execute_input": "2021-11-05T10:52:51.353361Z",
     "iopub.status.busy": "2021-11-05T10:52:51.352289Z",
     "iopub.status.idle": "2021-11-05T10:52:51.411784Z",
     "shell.execute_reply": "2021-11-05T10:52:51.411044Z",
     "shell.execute_reply.started": "2021-11-05T09:06:40.136138Z"
    },
    "papermill": {
     "duration": 0.227225,
     "end_time": "2021-11-05T10:52:51.411952",
     "exception": false,
     "start_time": "2021-11-05T10:52:51.184727",
     "status": "completed"
    },
    "tags": []
   },
   "outputs": [
    {
     "data": {
      "text/html": [
       "<div>\n",
       "<style scoped>\n",
       "    .dataframe tbody tr th:only-of-type {\n",
       "        vertical-align: middle;\n",
       "    }\n",
       "\n",
       "    .dataframe tbody tr th {\n",
       "        vertical-align: top;\n",
       "    }\n",
       "\n",
       "    .dataframe thead th {\n",
       "        text-align: right;\n",
       "    }\n",
       "</style>\n",
       "<table border=\"1\" class=\"dataframe\">\n",
       "  <thead>\n",
       "    <tr style=\"text-align: right;\">\n",
       "      <th></th>\n",
       "      <th>age</th>\n",
       "      <th>duration</th>\n",
       "      <th>campaign</th>\n",
       "      <th>pdays</th>\n",
       "      <th>previous</th>\n",
       "      <th>emp.var.rate</th>\n",
       "      <th>cons.price.idx</th>\n",
       "      <th>cons.conf.idx</th>\n",
       "      <th>euribor3m</th>\n",
       "      <th>nr.employed</th>\n",
       "    </tr>\n",
       "  </thead>\n",
       "  <tbody>\n",
       "    <tr>\n",
       "      <th>count</th>\n",
       "      <td>41188.00000</td>\n",
       "      <td>41188.000000</td>\n",
       "      <td>41188.000000</td>\n",
       "      <td>41188.000000</td>\n",
       "      <td>41188.000000</td>\n",
       "      <td>41188.000000</td>\n",
       "      <td>41188.000000</td>\n",
       "      <td>41188.000000</td>\n",
       "      <td>41188.000000</td>\n",
       "      <td>41188.000000</td>\n",
       "    </tr>\n",
       "    <tr>\n",
       "      <th>mean</th>\n",
       "      <td>40.02406</td>\n",
       "      <td>258.285010</td>\n",
       "      <td>2.567593</td>\n",
       "      <td>962.475454</td>\n",
       "      <td>0.172963</td>\n",
       "      <td>0.081886</td>\n",
       "      <td>93.575664</td>\n",
       "      <td>-40.502600</td>\n",
       "      <td>3.621291</td>\n",
       "      <td>5167.035911</td>\n",
       "    </tr>\n",
       "    <tr>\n",
       "      <th>std</th>\n",
       "      <td>10.42125</td>\n",
       "      <td>259.279249</td>\n",
       "      <td>2.770014</td>\n",
       "      <td>186.910907</td>\n",
       "      <td>0.494901</td>\n",
       "      <td>1.570960</td>\n",
       "      <td>0.578840</td>\n",
       "      <td>4.628198</td>\n",
       "      <td>1.734447</td>\n",
       "      <td>72.251528</td>\n",
       "    </tr>\n",
       "    <tr>\n",
       "      <th>min</th>\n",
       "      <td>17.00000</td>\n",
       "      <td>0.000000</td>\n",
       "      <td>1.000000</td>\n",
       "      <td>0.000000</td>\n",
       "      <td>0.000000</td>\n",
       "      <td>-3.400000</td>\n",
       "      <td>92.201000</td>\n",
       "      <td>-50.800000</td>\n",
       "      <td>0.634000</td>\n",
       "      <td>4963.600000</td>\n",
       "    </tr>\n",
       "    <tr>\n",
       "      <th>25%</th>\n",
       "      <td>32.00000</td>\n",
       "      <td>102.000000</td>\n",
       "      <td>1.000000</td>\n",
       "      <td>999.000000</td>\n",
       "      <td>0.000000</td>\n",
       "      <td>-1.800000</td>\n",
       "      <td>93.075000</td>\n",
       "      <td>-42.700000</td>\n",
       "      <td>1.344000</td>\n",
       "      <td>5099.100000</td>\n",
       "    </tr>\n",
       "    <tr>\n",
       "      <th>50%</th>\n",
       "      <td>38.00000</td>\n",
       "      <td>180.000000</td>\n",
       "      <td>2.000000</td>\n",
       "      <td>999.000000</td>\n",
       "      <td>0.000000</td>\n",
       "      <td>1.100000</td>\n",
       "      <td>93.749000</td>\n",
       "      <td>-41.800000</td>\n",
       "      <td>4.857000</td>\n",
       "      <td>5191.000000</td>\n",
       "    </tr>\n",
       "    <tr>\n",
       "      <th>75%</th>\n",
       "      <td>47.00000</td>\n",
       "      <td>319.000000</td>\n",
       "      <td>3.000000</td>\n",
       "      <td>999.000000</td>\n",
       "      <td>0.000000</td>\n",
       "      <td>1.400000</td>\n",
       "      <td>93.994000</td>\n",
       "      <td>-36.400000</td>\n",
       "      <td>4.961000</td>\n",
       "      <td>5228.100000</td>\n",
       "    </tr>\n",
       "    <tr>\n",
       "      <th>max</th>\n",
       "      <td>98.00000</td>\n",
       "      <td>4918.000000</td>\n",
       "      <td>56.000000</td>\n",
       "      <td>999.000000</td>\n",
       "      <td>7.000000</td>\n",
       "      <td>1.400000</td>\n",
       "      <td>94.767000</td>\n",
       "      <td>-26.900000</td>\n",
       "      <td>5.045000</td>\n",
       "      <td>5228.100000</td>\n",
       "    </tr>\n",
       "  </tbody>\n",
       "</table>\n",
       "</div>"
      ],
      "text/plain": [
       "               age      duration      campaign         pdays      previous  \\\n",
       "count  41188.00000  41188.000000  41188.000000  41188.000000  41188.000000   \n",
       "mean      40.02406    258.285010      2.567593    962.475454      0.172963   \n",
       "std       10.42125    259.279249      2.770014    186.910907      0.494901   \n",
       "min       17.00000      0.000000      1.000000      0.000000      0.000000   \n",
       "25%       32.00000    102.000000      1.000000    999.000000      0.000000   \n",
       "50%       38.00000    180.000000      2.000000    999.000000      0.000000   \n",
       "75%       47.00000    319.000000      3.000000    999.000000      0.000000   \n",
       "max       98.00000   4918.000000     56.000000    999.000000      7.000000   \n",
       "\n",
       "       emp.var.rate  cons.price.idx  cons.conf.idx     euribor3m   nr.employed  \n",
       "count  41188.000000    41188.000000   41188.000000  41188.000000  41188.000000  \n",
       "mean       0.081886       93.575664     -40.502600      3.621291   5167.035911  \n",
       "std        1.570960        0.578840       4.628198      1.734447     72.251528  \n",
       "min       -3.400000       92.201000     -50.800000      0.634000   4963.600000  \n",
       "25%       -1.800000       93.075000     -42.700000      1.344000   5099.100000  \n",
       "50%        1.100000       93.749000     -41.800000      4.857000   5191.000000  \n",
       "75%        1.400000       93.994000     -36.400000      4.961000   5228.100000  \n",
       "max        1.400000       94.767000     -26.900000      5.045000   5228.100000  "
      ]
     },
     "execution_count": 13,
     "metadata": {},
     "output_type": "execute_result"
    }
   ],
   "source": [
    "df.describe()"
   ]
  },
  {
   "cell_type": "markdown",
   "id": "6703e8d3",
   "metadata": {
    "papermill": {
     "duration": 0.145394,
     "end_time": "2021-11-05T10:52:51.703266",
     "exception": false,
     "start_time": "2021-11-05T10:52:51.557872",
     "status": "completed"
    },
    "tags": []
   },
   "source": [
    "**Statistical Data for Categorical Features**"
   ]
  },
  {
   "cell_type": "code",
   "execution_count": 14,
   "id": "eeb25453",
   "metadata": {
    "execution": {
     "iopub.execute_input": "2021-11-05T10:52:52.001592Z",
     "iopub.status.busy": "2021-11-05T10:52:52.000812Z",
     "iopub.status.idle": "2021-11-05T10:52:52.151476Z",
     "shell.execute_reply": "2021-11-05T10:52:52.152070Z",
     "shell.execute_reply.started": "2021-11-05T09:06:40.194381Z"
    },
    "papermill": {
     "duration": 0.303182,
     "end_time": "2021-11-05T10:52:52.152295",
     "exception": false,
     "start_time": "2021-11-05T10:52:51.849113",
     "status": "completed"
    },
    "tags": []
   },
   "outputs": [
    {
     "data": {
      "text/html": [
       "<div>\n",
       "<style scoped>\n",
       "    .dataframe tbody tr th:only-of-type {\n",
       "        vertical-align: middle;\n",
       "    }\n",
       "\n",
       "    .dataframe tbody tr th {\n",
       "        vertical-align: top;\n",
       "    }\n",
       "\n",
       "    .dataframe thead th {\n",
       "        text-align: right;\n",
       "    }\n",
       "</style>\n",
       "<table border=\"1\" class=\"dataframe\">\n",
       "  <thead>\n",
       "    <tr style=\"text-align: right;\">\n",
       "      <th></th>\n",
       "      <th>job</th>\n",
       "      <th>marital</th>\n",
       "      <th>education</th>\n",
       "      <th>default</th>\n",
       "      <th>housing</th>\n",
       "      <th>loan</th>\n",
       "      <th>contact</th>\n",
       "      <th>month</th>\n",
       "      <th>day_of_week</th>\n",
       "      <th>poutcome</th>\n",
       "      <th>y</th>\n",
       "    </tr>\n",
       "  </thead>\n",
       "  <tbody>\n",
       "    <tr>\n",
       "      <th>count</th>\n",
       "      <td>41188</td>\n",
       "      <td>41188</td>\n",
       "      <td>41188</td>\n",
       "      <td>41188</td>\n",
       "      <td>41188</td>\n",
       "      <td>41188</td>\n",
       "      <td>41188</td>\n",
       "      <td>41188</td>\n",
       "      <td>41188</td>\n",
       "      <td>41188</td>\n",
       "      <td>41188</td>\n",
       "    </tr>\n",
       "    <tr>\n",
       "      <th>unique</th>\n",
       "      <td>12</td>\n",
       "      <td>4</td>\n",
       "      <td>8</td>\n",
       "      <td>3</td>\n",
       "      <td>3</td>\n",
       "      <td>3</td>\n",
       "      <td>2</td>\n",
       "      <td>10</td>\n",
       "      <td>5</td>\n",
       "      <td>3</td>\n",
       "      <td>2</td>\n",
       "    </tr>\n",
       "    <tr>\n",
       "      <th>top</th>\n",
       "      <td>admin.</td>\n",
       "      <td>married</td>\n",
       "      <td>university.degree</td>\n",
       "      <td>no</td>\n",
       "      <td>yes</td>\n",
       "      <td>no</td>\n",
       "      <td>cellular</td>\n",
       "      <td>may</td>\n",
       "      <td>thu</td>\n",
       "      <td>nonexistent</td>\n",
       "      <td>no</td>\n",
       "    </tr>\n",
       "    <tr>\n",
       "      <th>freq</th>\n",
       "      <td>10422</td>\n",
       "      <td>24928</td>\n",
       "      <td>12168</td>\n",
       "      <td>32588</td>\n",
       "      <td>21576</td>\n",
       "      <td>33950</td>\n",
       "      <td>26144</td>\n",
       "      <td>13769</td>\n",
       "      <td>8623</td>\n",
       "      <td>35563</td>\n",
       "      <td>36548</td>\n",
       "    </tr>\n",
       "  </tbody>\n",
       "</table>\n",
       "</div>"
      ],
      "text/plain": [
       "           job  marital          education default housing   loan   contact  \\\n",
       "count    41188    41188              41188   41188   41188  41188     41188   \n",
       "unique      12        4                  8       3       3      3         2   \n",
       "top     admin.  married  university.degree      no     yes     no  cellular   \n",
       "freq     10422    24928              12168   32588   21576  33950     26144   \n",
       "\n",
       "        month day_of_week     poutcome      y  \n",
       "count   41188       41188        41188  41188  \n",
       "unique     10           5            3      2  \n",
       "top       may         thu  nonexistent     no  \n",
       "freq    13769        8623        35563  36548  "
      ]
     },
     "execution_count": 14,
     "metadata": {},
     "output_type": "execute_result"
    }
   ],
   "source": [
    "df.describe(include = 'object')"
   ]
  },
  {
   "cell_type": "markdown",
   "id": "adc9e8da",
   "metadata": {
    "papermill": {
     "duration": 0.142543,
     "end_time": "2021-11-05T10:52:53.242250",
     "exception": false,
     "start_time": "2021-11-05T10:52:53.099707",
     "status": "completed"
    },
    "tags": []
   },
   "source": [
    "# Data Cleaning"
   ]
  },
  {
   "cell_type": "markdown",
   "id": "82ef050a",
   "metadata": {
    "papermill": {
     "duration": 0.143929,
     "end_time": "2021-11-05T10:52:53.529023",
     "exception": false,
     "start_time": "2021-11-05T10:52:53.385094",
     "status": "completed"
    },
    "tags": []
   },
   "source": [
    "## check duplicate values"
   ]
  },
  {
   "cell_type": "code",
   "execution_count": 15,
   "id": "3b6c5896",
   "metadata": {
    "execution": {
     "iopub.execute_input": "2021-11-05T10:52:53.821054Z",
     "iopub.status.busy": "2021-11-05T10:52:53.820267Z",
     "iopub.status.idle": "2021-11-05T10:52:53.908030Z",
     "shell.execute_reply": "2021-11-05T10:52:53.908577Z",
     "shell.execute_reply.started": "2021-11-05T09:06:40.412374Z"
    },
    "papermill": {
     "duration": 0.237651,
     "end_time": "2021-11-05T10:52:53.908812",
     "exception": false,
     "start_time": "2021-11-05T10:52:53.671161",
     "status": "completed"
    },
    "scrolled": true,
    "tags": []
   },
   "outputs": [
    {
     "data": {
      "text/html": [
       "<div>\n",
       "<style scoped>\n",
       "    .dataframe tbody tr th:only-of-type {\n",
       "        vertical-align: middle;\n",
       "    }\n",
       "\n",
       "    .dataframe tbody tr th {\n",
       "        vertical-align: top;\n",
       "    }\n",
       "\n",
       "    .dataframe thead th {\n",
       "        text-align: right;\n",
       "    }\n",
       "</style>\n",
       "<table border=\"1\" class=\"dataframe\">\n",
       "  <thead>\n",
       "    <tr style=\"text-align: right;\">\n",
       "      <th></th>\n",
       "      <th>age</th>\n",
       "      <th>job</th>\n",
       "      <th>marital</th>\n",
       "      <th>education</th>\n",
       "      <th>default</th>\n",
       "      <th>housing</th>\n",
       "      <th>loan</th>\n",
       "      <th>contact</th>\n",
       "      <th>month</th>\n",
       "      <th>day_of_week</th>\n",
       "      <th>...</th>\n",
       "      <th>campaign</th>\n",
       "      <th>pdays</th>\n",
       "      <th>previous</th>\n",
       "      <th>poutcome</th>\n",
       "      <th>emp.var.rate</th>\n",
       "      <th>cons.price.idx</th>\n",
       "      <th>cons.conf.idx</th>\n",
       "      <th>euribor3m</th>\n",
       "      <th>nr.employed</th>\n",
       "      <th>y</th>\n",
       "    </tr>\n",
       "  </thead>\n",
       "  <tbody>\n",
       "    <tr>\n",
       "      <th>1266</th>\n",
       "      <td>39</td>\n",
       "      <td>blue-collar</td>\n",
       "      <td>married</td>\n",
       "      <td>basic.6y</td>\n",
       "      <td>no</td>\n",
       "      <td>no</td>\n",
       "      <td>no</td>\n",
       "      <td>telephone</td>\n",
       "      <td>may</td>\n",
       "      <td>thu</td>\n",
       "      <td>...</td>\n",
       "      <td>1</td>\n",
       "      <td>999</td>\n",
       "      <td>0</td>\n",
       "      <td>nonexistent</td>\n",
       "      <td>1.1</td>\n",
       "      <td>93.994</td>\n",
       "      <td>-36.4</td>\n",
       "      <td>4.855</td>\n",
       "      <td>5191.0</td>\n",
       "      <td>no</td>\n",
       "    </tr>\n",
       "    <tr>\n",
       "      <th>12261</th>\n",
       "      <td>36</td>\n",
       "      <td>retired</td>\n",
       "      <td>married</td>\n",
       "      <td>unknown</td>\n",
       "      <td>no</td>\n",
       "      <td>no</td>\n",
       "      <td>no</td>\n",
       "      <td>telephone</td>\n",
       "      <td>jul</td>\n",
       "      <td>thu</td>\n",
       "      <td>...</td>\n",
       "      <td>1</td>\n",
       "      <td>999</td>\n",
       "      <td>0</td>\n",
       "      <td>nonexistent</td>\n",
       "      <td>1.4</td>\n",
       "      <td>93.918</td>\n",
       "      <td>-42.7</td>\n",
       "      <td>4.966</td>\n",
       "      <td>5228.1</td>\n",
       "      <td>no</td>\n",
       "    </tr>\n",
       "    <tr>\n",
       "      <th>14234</th>\n",
       "      <td>27</td>\n",
       "      <td>technician</td>\n",
       "      <td>single</td>\n",
       "      <td>professional.course</td>\n",
       "      <td>no</td>\n",
       "      <td>no</td>\n",
       "      <td>no</td>\n",
       "      <td>cellular</td>\n",
       "      <td>jul</td>\n",
       "      <td>mon</td>\n",
       "      <td>...</td>\n",
       "      <td>2</td>\n",
       "      <td>999</td>\n",
       "      <td>0</td>\n",
       "      <td>nonexistent</td>\n",
       "      <td>1.4</td>\n",
       "      <td>93.918</td>\n",
       "      <td>-42.7</td>\n",
       "      <td>4.962</td>\n",
       "      <td>5228.1</td>\n",
       "      <td>no</td>\n",
       "    </tr>\n",
       "    <tr>\n",
       "      <th>16956</th>\n",
       "      <td>47</td>\n",
       "      <td>technician</td>\n",
       "      <td>divorced</td>\n",
       "      <td>high.school</td>\n",
       "      <td>no</td>\n",
       "      <td>yes</td>\n",
       "      <td>no</td>\n",
       "      <td>cellular</td>\n",
       "      <td>jul</td>\n",
       "      <td>thu</td>\n",
       "      <td>...</td>\n",
       "      <td>3</td>\n",
       "      <td>999</td>\n",
       "      <td>0</td>\n",
       "      <td>nonexistent</td>\n",
       "      <td>1.4</td>\n",
       "      <td>93.918</td>\n",
       "      <td>-42.7</td>\n",
       "      <td>4.962</td>\n",
       "      <td>5228.1</td>\n",
       "      <td>no</td>\n",
       "    </tr>\n",
       "    <tr>\n",
       "      <th>18465</th>\n",
       "      <td>32</td>\n",
       "      <td>technician</td>\n",
       "      <td>single</td>\n",
       "      <td>professional.course</td>\n",
       "      <td>no</td>\n",
       "      <td>yes</td>\n",
       "      <td>no</td>\n",
       "      <td>cellular</td>\n",
       "      <td>jul</td>\n",
       "      <td>thu</td>\n",
       "      <td>...</td>\n",
       "      <td>1</td>\n",
       "      <td>999</td>\n",
       "      <td>0</td>\n",
       "      <td>nonexistent</td>\n",
       "      <td>1.4</td>\n",
       "      <td>93.918</td>\n",
       "      <td>-42.7</td>\n",
       "      <td>4.968</td>\n",
       "      <td>5228.1</td>\n",
       "      <td>no</td>\n",
       "    </tr>\n",
       "    <tr>\n",
       "      <th>20216</th>\n",
       "      <td>55</td>\n",
       "      <td>services</td>\n",
       "      <td>married</td>\n",
       "      <td>high.school</td>\n",
       "      <td>unknown</td>\n",
       "      <td>no</td>\n",
       "      <td>no</td>\n",
       "      <td>cellular</td>\n",
       "      <td>aug</td>\n",
       "      <td>mon</td>\n",
       "      <td>...</td>\n",
       "      <td>1</td>\n",
       "      <td>999</td>\n",
       "      <td>0</td>\n",
       "      <td>nonexistent</td>\n",
       "      <td>1.4</td>\n",
       "      <td>93.444</td>\n",
       "      <td>-36.1</td>\n",
       "      <td>4.965</td>\n",
       "      <td>5228.1</td>\n",
       "      <td>no</td>\n",
       "    </tr>\n",
       "    <tr>\n",
       "      <th>20534</th>\n",
       "      <td>41</td>\n",
       "      <td>technician</td>\n",
       "      <td>married</td>\n",
       "      <td>professional.course</td>\n",
       "      <td>no</td>\n",
       "      <td>yes</td>\n",
       "      <td>no</td>\n",
       "      <td>cellular</td>\n",
       "      <td>aug</td>\n",
       "      <td>tue</td>\n",
       "      <td>...</td>\n",
       "      <td>1</td>\n",
       "      <td>999</td>\n",
       "      <td>0</td>\n",
       "      <td>nonexistent</td>\n",
       "      <td>1.4</td>\n",
       "      <td>93.444</td>\n",
       "      <td>-36.1</td>\n",
       "      <td>4.966</td>\n",
       "      <td>5228.1</td>\n",
       "      <td>no</td>\n",
       "    </tr>\n",
       "    <tr>\n",
       "      <th>25217</th>\n",
       "      <td>39</td>\n",
       "      <td>admin.</td>\n",
       "      <td>married</td>\n",
       "      <td>university.degree</td>\n",
       "      <td>no</td>\n",
       "      <td>no</td>\n",
       "      <td>no</td>\n",
       "      <td>cellular</td>\n",
       "      <td>nov</td>\n",
       "      <td>tue</td>\n",
       "      <td>...</td>\n",
       "      <td>2</td>\n",
       "      <td>999</td>\n",
       "      <td>0</td>\n",
       "      <td>nonexistent</td>\n",
       "      <td>-0.1</td>\n",
       "      <td>93.200</td>\n",
       "      <td>-42.0</td>\n",
       "      <td>4.153</td>\n",
       "      <td>5195.8</td>\n",
       "      <td>no</td>\n",
       "    </tr>\n",
       "    <tr>\n",
       "      <th>28477</th>\n",
       "      <td>24</td>\n",
       "      <td>services</td>\n",
       "      <td>single</td>\n",
       "      <td>high.school</td>\n",
       "      <td>no</td>\n",
       "      <td>yes</td>\n",
       "      <td>no</td>\n",
       "      <td>cellular</td>\n",
       "      <td>apr</td>\n",
       "      <td>tue</td>\n",
       "      <td>...</td>\n",
       "      <td>1</td>\n",
       "      <td>999</td>\n",
       "      <td>0</td>\n",
       "      <td>nonexistent</td>\n",
       "      <td>-1.8</td>\n",
       "      <td>93.075</td>\n",
       "      <td>-47.1</td>\n",
       "      <td>1.423</td>\n",
       "      <td>5099.1</td>\n",
       "      <td>no</td>\n",
       "    </tr>\n",
       "    <tr>\n",
       "      <th>32516</th>\n",
       "      <td>35</td>\n",
       "      <td>admin.</td>\n",
       "      <td>married</td>\n",
       "      <td>university.degree</td>\n",
       "      <td>no</td>\n",
       "      <td>yes</td>\n",
       "      <td>no</td>\n",
       "      <td>cellular</td>\n",
       "      <td>may</td>\n",
       "      <td>fri</td>\n",
       "      <td>...</td>\n",
       "      <td>4</td>\n",
       "      <td>999</td>\n",
       "      <td>0</td>\n",
       "      <td>nonexistent</td>\n",
       "      <td>-1.8</td>\n",
       "      <td>92.893</td>\n",
       "      <td>-46.2</td>\n",
       "      <td>1.313</td>\n",
       "      <td>5099.1</td>\n",
       "      <td>no</td>\n",
       "    </tr>\n",
       "    <tr>\n",
       "      <th>36951</th>\n",
       "      <td>45</td>\n",
       "      <td>admin.</td>\n",
       "      <td>married</td>\n",
       "      <td>university.degree</td>\n",
       "      <td>no</td>\n",
       "      <td>no</td>\n",
       "      <td>no</td>\n",
       "      <td>cellular</td>\n",
       "      <td>jul</td>\n",
       "      <td>thu</td>\n",
       "      <td>...</td>\n",
       "      <td>1</td>\n",
       "      <td>999</td>\n",
       "      <td>0</td>\n",
       "      <td>nonexistent</td>\n",
       "      <td>-2.9</td>\n",
       "      <td>92.469</td>\n",
       "      <td>-33.6</td>\n",
       "      <td>1.072</td>\n",
       "      <td>5076.2</td>\n",
       "      <td>yes</td>\n",
       "    </tr>\n",
       "    <tr>\n",
       "      <th>38281</th>\n",
       "      <td>71</td>\n",
       "      <td>retired</td>\n",
       "      <td>single</td>\n",
       "      <td>university.degree</td>\n",
       "      <td>no</td>\n",
       "      <td>no</td>\n",
       "      <td>no</td>\n",
       "      <td>telephone</td>\n",
       "      <td>oct</td>\n",
       "      <td>tue</td>\n",
       "      <td>...</td>\n",
       "      <td>1</td>\n",
       "      <td>999</td>\n",
       "      <td>0</td>\n",
       "      <td>nonexistent</td>\n",
       "      <td>-3.4</td>\n",
       "      <td>92.431</td>\n",
       "      <td>-26.9</td>\n",
       "      <td>0.742</td>\n",
       "      <td>5017.5</td>\n",
       "      <td>no</td>\n",
       "    </tr>\n",
       "  </tbody>\n",
       "</table>\n",
       "<p>12 rows × 21 columns</p>\n",
       "</div>"
      ],
      "text/plain": [
       "       age          job   marital            education  default housing loan  \\\n",
       "1266    39  blue-collar   married             basic.6y       no      no   no   \n",
       "12261   36      retired   married              unknown       no      no   no   \n",
       "14234   27   technician    single  professional.course       no      no   no   \n",
       "16956   47   technician  divorced          high.school       no     yes   no   \n",
       "18465   32   technician    single  professional.course       no     yes   no   \n",
       "20216   55     services   married          high.school  unknown      no   no   \n",
       "20534   41   technician   married  professional.course       no     yes   no   \n",
       "25217   39       admin.   married    university.degree       no      no   no   \n",
       "28477   24     services    single          high.school       no     yes   no   \n",
       "32516   35       admin.   married    university.degree       no     yes   no   \n",
       "36951   45       admin.   married    university.degree       no      no   no   \n",
       "38281   71      retired    single    university.degree       no      no   no   \n",
       "\n",
       "         contact month day_of_week  ...  campaign  pdays  previous  \\\n",
       "1266   telephone   may         thu  ...         1    999         0   \n",
       "12261  telephone   jul         thu  ...         1    999         0   \n",
       "14234   cellular   jul         mon  ...         2    999         0   \n",
       "16956   cellular   jul         thu  ...         3    999         0   \n",
       "18465   cellular   jul         thu  ...         1    999         0   \n",
       "20216   cellular   aug         mon  ...         1    999         0   \n",
       "20534   cellular   aug         tue  ...         1    999         0   \n",
       "25217   cellular   nov         tue  ...         2    999         0   \n",
       "28477   cellular   apr         tue  ...         1    999         0   \n",
       "32516   cellular   may         fri  ...         4    999         0   \n",
       "36951   cellular   jul         thu  ...         1    999         0   \n",
       "38281  telephone   oct         tue  ...         1    999         0   \n",
       "\n",
       "          poutcome emp.var.rate  cons.price.idx  cons.conf.idx  euribor3m  \\\n",
       "1266   nonexistent          1.1          93.994          -36.4      4.855   \n",
       "12261  nonexistent          1.4          93.918          -42.7      4.966   \n",
       "14234  nonexistent          1.4          93.918          -42.7      4.962   \n",
       "16956  nonexistent          1.4          93.918          -42.7      4.962   \n",
       "18465  nonexistent          1.4          93.918          -42.7      4.968   \n",
       "20216  nonexistent          1.4          93.444          -36.1      4.965   \n",
       "20534  nonexistent          1.4          93.444          -36.1      4.966   \n",
       "25217  nonexistent         -0.1          93.200          -42.0      4.153   \n",
       "28477  nonexistent         -1.8          93.075          -47.1      1.423   \n",
       "32516  nonexistent         -1.8          92.893          -46.2      1.313   \n",
       "36951  nonexistent         -2.9          92.469          -33.6      1.072   \n",
       "38281  nonexistent         -3.4          92.431          -26.9      0.742   \n",
       "\n",
       "       nr.employed    y  \n",
       "1266        5191.0   no  \n",
       "12261       5228.1   no  \n",
       "14234       5228.1   no  \n",
       "16956       5228.1   no  \n",
       "18465       5228.1   no  \n",
       "20216       5228.1   no  \n",
       "20534       5228.1   no  \n",
       "25217       5195.8   no  \n",
       "28477       5099.1   no  \n",
       "32516       5099.1   no  \n",
       "36951       5076.2  yes  \n",
       "38281       5017.5   no  \n",
       "\n",
       "[12 rows x 21 columns]"
      ]
     },
     "execution_count": 15,
     "metadata": {},
     "output_type": "execute_result"
    }
   ],
   "source": [
    "df[df.duplicated()]"
   ]
  },
  {
   "cell_type": "code",
   "execution_count": 16,
   "id": "39c15058",
   "metadata": {
    "execution": {
     "iopub.execute_input": "2021-11-05T10:52:54.203932Z",
     "iopub.status.busy": "2021-11-05T10:52:54.203185Z",
     "iopub.status.idle": "2021-11-05T10:52:54.330518Z",
     "shell.execute_reply": "2021-11-05T10:52:54.329831Z",
     "shell.execute_reply.started": "2021-11-05T09:06:40.483657Z"
    },
    "papermill": {
     "duration": 0.275444,
     "end_time": "2021-11-05T10:52:54.330711",
     "exception": false,
     "start_time": "2021-11-05T10:52:54.055267",
     "status": "completed"
    },
    "tags": []
   },
   "outputs": [
    {
     "name": "stdout",
     "output_type": "stream",
     "text": [
      "<class 'pandas.core.frame.DataFrame'>\n",
      "Int64Index: 41176 entries, 0 to 41187\n",
      "Data columns (total 21 columns):\n",
      " #   Column          Non-Null Count  Dtype  \n",
      "---  ------          --------------  -----  \n",
      " 0   age             41176 non-null  int64  \n",
      " 1   job             41176 non-null  object \n",
      " 2   marital         41176 non-null  object \n",
      " 3   education       41176 non-null  object \n",
      " 4   default         41176 non-null  object \n",
      " 5   housing         41176 non-null  object \n",
      " 6   loan            41176 non-null  object \n",
      " 7   contact         41176 non-null  object \n",
      " 8   month           41176 non-null  object \n",
      " 9   day_of_week     41176 non-null  object \n",
      " 10  duration        41176 non-null  int64  \n",
      " 11  campaign        41176 non-null  int64  \n",
      " 12  pdays           41176 non-null  int64  \n",
      " 13  previous        41176 non-null  int64  \n",
      " 14  poutcome        41176 non-null  object \n",
      " 15  emp.var.rate    41176 non-null  float64\n",
      " 16  cons.price.idx  41176 non-null  float64\n",
      " 17  cons.conf.idx   41176 non-null  float64\n",
      " 18  euribor3m       41176 non-null  float64\n",
      " 19  nr.employed     41176 non-null  float64\n",
      " 20  y               41176 non-null  object \n",
      "dtypes: float64(5), int64(5), object(11)\n",
      "memory usage: 6.9+ MB\n"
     ]
    }
   ],
   "source": [
    "df.drop_duplicates(keep='first',inplace=True)\n",
    "df.info()"
   ]
  },
  {
   "cell_type": "markdown",
   "id": "fe0751ba",
   "metadata": {
    "papermill": {
     "duration": 0.138755,
     "end_time": "2021-11-05T10:52:54.613239",
     "exception": false,
     "start_time": "2021-11-05T10:52:54.474484",
     "status": "completed"
    },
    "tags": []
   },
   "source": [
    "## Handling Missing Value"
   ]
  },
  {
   "cell_type": "code",
   "execution_count": 17,
   "id": "5f9b6578",
   "metadata": {
    "execution": {
     "iopub.execute_input": "2021-11-05T10:52:54.899977Z",
     "iopub.status.busy": "2021-11-05T10:52:54.899225Z",
     "iopub.status.idle": "2021-11-05T10:52:54.923828Z",
     "shell.execute_reply": "2021-11-05T10:52:54.924540Z",
     "shell.execute_reply.started": "2021-11-05T09:06:40.567767Z"
    },
    "papermill": {
     "duration": 0.171509,
     "end_time": "2021-11-05T10:52:54.924775",
     "exception": false,
     "start_time": "2021-11-05T10:52:54.753266",
     "status": "completed"
    },
    "tags": []
   },
   "outputs": [],
   "source": [
    "for column in ['job','marital','education','default', 'housing', 'loan']:\n",
    "    df[column] = df[column].replace('unknown', np.NaN)"
   ]
  },
  {
   "cell_type": "code",
   "execution_count": 18,
   "id": "ddd6b067",
   "metadata": {
    "execution": {
     "iopub.execute_input": "2021-11-05T10:52:55.223979Z",
     "iopub.status.busy": "2021-11-05T10:52:55.223272Z",
     "iopub.status.idle": "2021-11-05T10:52:55.283115Z",
     "shell.execute_reply": "2021-11-05T10:52:55.282500Z",
     "shell.execute_reply.started": "2021-11-05T09:06:40.586298Z"
    },
    "papermill": {
     "duration": 0.214571,
     "end_time": "2021-11-05T10:52:55.283276",
     "exception": false,
     "start_time": "2021-11-05T10:52:55.068705",
     "status": "completed"
    },
    "tags": []
   },
   "outputs": [
    {
     "data": {
      "text/plain": [
       "age                  0\n",
       "job                330\n",
       "marital             80\n",
       "education         1730\n",
       "default           8596\n",
       "housing            990\n",
       "loan               990\n",
       "contact              0\n",
       "month                0\n",
       "day_of_week          0\n",
       "duration             0\n",
       "campaign             0\n",
       "pdays                0\n",
       "previous             0\n",
       "poutcome             0\n",
       "emp.var.rate         0\n",
       "cons.price.idx       0\n",
       "cons.conf.idx        0\n",
       "euribor3m            0\n",
       "nr.employed          0\n",
       "y                    0\n",
       "dtype: int64"
      ]
     },
     "execution_count": 18,
     "metadata": {},
     "output_type": "execute_result"
    }
   ],
   "source": [
    "df.isna().sum()"
   ]
  },
  {
   "cell_type": "code",
   "execution_count": 19,
   "id": "d2499eda",
   "metadata": {
    "execution": {
     "iopub.execute_input": "2021-11-05T10:52:55.580440Z",
     "iopub.status.busy": "2021-11-05T10:52:55.579650Z",
     "iopub.status.idle": "2021-11-05T10:52:55.650839Z",
     "shell.execute_reply": "2021-11-05T10:52:55.650176Z",
     "shell.execute_reply.started": "2021-11-05T09:06:40.619914Z"
    },
    "papermill": {
     "duration": 0.220292,
     "end_time": "2021-11-05T10:52:55.651002",
     "exception": false,
     "start_time": "2021-11-05T10:52:55.430710",
     "status": "completed"
    },
    "tags": []
   },
   "outputs": [],
   "source": [
    "for column in ['job','marital','education','default', 'housing', 'loan']:\n",
    "    df[column].fillna(df[column].mode()[0], inplace=True)"
   ]
  },
  {
   "cell_type": "code",
   "execution_count": 20,
   "id": "a2fc15a0",
   "metadata": {
    "execution": {
     "iopub.execute_input": "2021-11-05T10:52:55.949255Z",
     "iopub.status.busy": "2021-11-05T10:52:55.948510Z",
     "iopub.status.idle": "2021-11-05T10:52:56.007239Z",
     "shell.execute_reply": "2021-11-05T10:52:56.006668Z",
     "shell.execute_reply.started": "2021-11-05T09:06:40.656925Z"
    },
    "papermill": {
     "duration": 0.212645,
     "end_time": "2021-11-05T10:52:56.007402",
     "exception": false,
     "start_time": "2021-11-05T10:52:55.794757",
     "status": "completed"
    },
    "tags": []
   },
   "outputs": [
    {
     "data": {
      "text/plain": [
       "age               0\n",
       "job               0\n",
       "marital           0\n",
       "education         0\n",
       "default           0\n",
       "housing           0\n",
       "loan              0\n",
       "contact           0\n",
       "month             0\n",
       "day_of_week       0\n",
       "duration          0\n",
       "campaign          0\n",
       "pdays             0\n",
       "previous          0\n",
       "poutcome          0\n",
       "emp.var.rate      0\n",
       "cons.price.idx    0\n",
       "cons.conf.idx     0\n",
       "euribor3m         0\n",
       "nr.employed       0\n",
       "y                 0\n",
       "dtype: int64"
      ]
     },
     "execution_count": 20,
     "metadata": {},
     "output_type": "execute_result"
    }
   ],
   "source": [
    "df.isna().sum()"
   ]
  },
  {
   "cell_type": "markdown",
   "id": "67235e30",
   "metadata": {
    "papermill": {
     "duration": 0.144693,
     "end_time": "2021-11-05T10:52:56.295176",
     "exception": false,
     "start_time": "2021-11-05T10:52:56.150483",
     "status": "completed"
    },
    "tags": []
   },
   "source": [
    "# Data Correlation and Outliers"
   ]
  },
  {
   "cell_type": "markdown",
   "id": "fa19f0b1",
   "metadata": {
    "papermill": {
     "duration": 0.142948,
     "end_time": "2021-11-05T10:52:56.582942",
     "exception": false,
     "start_time": "2021-11-05T10:52:56.439994",
     "status": "completed"
    },
    "tags": []
   },
   "source": [
    "we need to check the correlation of each features towards label 'y'. Besides, doing correlation checking for Feature Selection and EDA, this also would help to decide how to handle it if there is outliers"
   ]
  },
  {
   "cell_type": "markdown",
   "id": "be2981b9",
   "metadata": {
    "papermill": {
     "duration": 0.147284,
     "end_time": "2021-11-05T10:52:56.876961",
     "exception": false,
     "start_time": "2021-11-05T10:52:56.729677",
     "status": "completed"
    },
    "tags": []
   },
   "source": [
    "the correlation ratio is a measure of the curvilinear relationship between the statistical dispersion within individual categories"
   ]
  },
  {
   "cell_type": "markdown",
   "id": "3e4c56c7",
   "metadata": {},
   "source": [
    "## Correlation Matrix"
   ]
  },
  {
   "cell_type": "code",
   "execution_count": 21,
   "id": "fe5e0804",
   "metadata": {},
   "outputs": [
    {
     "data": {
      "image/png": "[encoded data removed]",
      "text/plain": [
       "<Figure size 1008x864 with 2 Axes>"
      ]
     },
     "metadata": {
      "needs_background": "light"
     },
     "output_type": "display_data"
    }
   ],
   "source": [
    "cm = df[df.select_dtypes(['int64', 'float64']).columns].corr()\n",
    "\n",
    "f , ax = plt.subplots(figsize = (14,12))\n",
    "sns.heatmap(cm, cbar=True, \n",
    "            annot=True, \n",
    "            square=True, \n",
    "            fmt='.2g', \n",
    "            annot_kws={'size': 10},\n",
    "           )\n",
    "ax.set_xticklabels(ax.get_xticklabels(),rotation=40)\n",
    "ax.set_yticklabels(ax.get_yticklabels(),rotation=0)\n",
    "\n",
    "plt.show()"
   ]
  },
  {
   "cell_type": "markdown",
   "id": "16635b81",
   "metadata": {
    "papermill": {
     "duration": 0.142119,
     "end_time": "2021-11-05T10:52:57.163855",
     "exception": false,
     "start_time": "2021-11-05T10:52:57.021736",
     "status": "completed"
    },
    "tags": []
   },
   "source": [
    "## Handling Outliers"
   ]
  },
  {
   "cell_type": "markdown",
   "id": "c8fe4811",
   "metadata": {
    "papermill": {
     "duration": 0.151234,
     "end_time": "2021-11-05T10:52:57.460620",
     "exception": false,
     "start_time": "2021-11-05T10:52:57.309386",
     "status": "completed"
    },
    "tags": []
   },
   "source": [
    "### Finding outliers"
   ]
  },
  {
   "cell_type": "markdown",
   "id": "3d164522",
   "metadata": {
    "papermill": {
     "duration": 0.1471,
     "end_time": "2021-11-05T10:52:57.757499",
     "exception": false,
     "start_time": "2021-11-05T10:52:57.610399",
     "status": "completed"
    },
    "tags": []
   },
   "source": [
    "- From result in statistical data (point D.3), we checked outliers for Age, Campaign and cons.conf.idx features\n",
    "- From correlation ratio, we got correlation value for Age and Campaign as much as 0.03 and 0.07 accordingly."
   ]
  },
  {
   "cell_type": "markdown",
   "id": "d0024ea1",
   "metadata": {
    "papermill": {
     "duration": 0.14973,
     "end_time": "2021-11-05T10:52:58.052875",
     "exception": false,
     "start_time": "2021-11-05T10:52:57.903145",
     "status": "completed"
    },
    "tags": []
   },
   "source": [
    "### 1. Age"
   ]
  },
  {
   "cell_type": "code",
   "execution_count": 22,
   "id": "5c8e34dd",
   "metadata": {
    "execution": {
     "iopub.execute_input": "2021-11-05T10:52:58.360124Z",
     "iopub.status.busy": "2021-11-05T10:52:58.359104Z",
     "iopub.status.idle": "2021-11-05T10:52:58.568782Z",
     "shell.execute_reply": "2021-11-05T10:52:58.569339Z",
     "shell.execute_reply.started": "2021-11-05T09:06:47.946572Z"
    },
    "papermill": {
     "duration": 0.36243,
     "end_time": "2021-11-05T10:52:58.569540",
     "exception": false,
     "start_time": "2021-11-05T10:52:58.207110",
     "status": "completed"
    },
    "tags": []
   },
   "outputs": [
    {
     "data": {
      "image/png": "[encoded data removed]",
      "text/plain": [
       "<Figure size 864x576 with 1 Axes>"
      ]
     },
     "metadata": {
      "needs_background": "light"
     },
     "output_type": "display_data"
    }
   ],
   "source": [
    "plt.figure(figsize=(12,8))\n",
    "sns.boxplot(data=df, x=\"age\", hue='y')\n",
    "\n",
    "plt.show()"
   ]
  },
  {
   "cell_type": "markdown",
   "id": "3a785da3",
   "metadata": {
    "papermill": {
     "duration": 0.14943,
     "end_time": "2021-11-05T10:52:58.869732",
     "exception": false,
     "start_time": "2021-11-05T10:52:58.720302",
     "status": "completed"
    },
    "tags": []
   },
   "source": [
    "After knowing the outliers of age features, we need to know how diverse age outliers towards \"job\" features because \"job\" features has the highest crammers v correlation score and it might be impacted if we remove the outliers"
   ]
  },
  {
   "cell_type": "code",
   "execution_count": 23,
   "id": "556122bb",
   "metadata": {
    "execution": {
     "iopub.execute_input": "2021-11-05T10:52:59.168196Z",
     "iopub.status.busy": "2021-11-05T10:52:59.167456Z",
     "iopub.status.idle": "2021-11-05T10:53:00.010154Z",
     "shell.execute_reply": "2021-11-05T10:53:00.009571Z",
     "shell.execute_reply.started": "2021-11-05T09:07:08.444785Z"
    },
    "papermill": {
     "duration": 0.993568,
     "end_time": "2021-11-05T10:53:00.010305",
     "exception": false,
     "start_time": "2021-11-05T10:52:59.016737",
     "status": "completed"
    },
    "tags": []
   },
   "outputs": [
    {
     "data": {
      "text/plain": [
       "<AxesSubplot:xlabel='age', ylabel='job'>"
      ]
     },
     "execution_count": 23,
     "metadata": {},
     "output_type": "execute_result"
    },
    {
     "data": {
      "image/png": "[encoded data removed]",
      "text/plain": [
       "<Figure size 864x576 with 1 Axes>"
      ]
     },
     "metadata": {
      "needs_background": "light"
     },
     "output_type": "display_data"
    }
   ],
   "source": [
    "plt.figure(figsize=(12,8))\n",
    "sns.boxplot(data=df, x=\"age\", y=\"job\", hue='y')"
   ]
  },
  {
   "cell_type": "markdown",
   "id": "83cce1dc",
   "metadata": {
    "papermill": {
     "duration": 0.143942,
     "end_time": "2021-11-05T10:53:00.301504",
     "exception": false,
     "start_time": "2021-11-05T10:53:00.157562",
     "status": "completed"
    },
    "tags": []
   },
   "source": [
    "We could see that job crammer's v correlation is decrease if we remove age outliers. Thus, we're NOT removing outliers in \"age\" features"
   ]
  },
  {
   "cell_type": "markdown",
   "id": "afd3bf8c",
   "metadata": {
    "papermill": {
     "duration": 0.14882,
     "end_time": "2021-11-05T10:53:00.597071",
     "exception": false,
     "start_time": "2021-11-05T10:53:00.448251",
     "status": "completed"
    },
    "tags": []
   },
   "source": [
    "### 2. Campaign"
   ]
  },
  {
   "cell_type": "code",
   "execution_count": 24,
   "id": "ddf97081",
   "metadata": {
    "execution": {
     "iopub.execute_input": "2021-11-05T10:53:00.916962Z",
     "iopub.status.busy": "2021-11-05T10:53:00.916029Z",
     "iopub.status.idle": "2021-11-05T10:53:01.093049Z",
     "shell.execute_reply": "2021-11-05T10:53:01.093564Z",
     "shell.execute_reply.started": "2021-11-05T09:07:21.798083Z"
    },
    "papermill": {
     "duration": 0.353207,
     "end_time": "2021-11-05T10:53:01.093768",
     "exception": false,
     "start_time": "2021-11-05T10:53:00.740561",
     "status": "completed"
    },
    "tags": []
   },
   "outputs": [
    {
     "data": {
      "image/png": "[encoded data removed]",
      "text/plain": [
       "<Figure size 864x576 with 1 Axes>"
      ]
     },
     "metadata": {
      "needs_background": "light"
     },
     "output_type": "display_data"
    }
   ],
   "source": [
    "plt.figure(figsize=(12,8))\n",
    "sns.boxplot(data=df, x=\"campaign\", hue='y')\n",
    "\n",
    "plt.show()"
   ]
  },
  {
   "cell_type": "markdown",
   "id": "8e880ccd",
   "metadata": {
    "papermill": {
     "duration": 0.170721,
     "end_time": "2021-11-05T10:53:01.474606",
     "exception": false,
     "start_time": "2021-11-05T10:53:01.303885",
     "status": "completed"
    },
    "tags": []
   },
   "source": [
    "### 3. cons.conf.idx"
   ]
  },
  {
   "cell_type": "code",
   "execution_count": 25,
   "id": "4e5af848",
   "metadata": {
    "execution": {
     "iopub.execute_input": "2021-11-05T10:53:01.788956Z",
     "iopub.status.busy": "2021-11-05T10:53:01.787821Z",
     "iopub.status.idle": "2021-11-05T10:53:01.968541Z",
     "shell.execute_reply": "2021-11-05T10:53:01.969041Z",
     "shell.execute_reply.started": "2021-11-05T09:07:21.986864Z"
    },
    "papermill": {
     "duration": 0.334654,
     "end_time": "2021-11-05T10:53:01.969226",
     "exception": false,
     "start_time": "2021-11-05T10:53:01.634572",
     "status": "completed"
    },
    "tags": []
   },
   "outputs": [
    {
     "data": {
      "image/png": "[encoded data removed]",
      "text/plain": [
       "<Figure size 864x576 with 1 Axes>"
      ]
     },
     "metadata": {
      "needs_background": "light"
     },
     "output_type": "display_data"
    }
   ],
   "source": [
    "plt.figure(figsize=(12,8))\n",
    "sns.boxplot(data=df, x=\"cons.conf.idx\", hue='y')\n",
    "\n",
    "plt.show()"
   ]
  },
  {
   "cell_type": "code",
   "execution_count": 26,
   "id": "011ec137",
   "metadata": {
    "execution": {
     "iopub.execute_input": "2021-11-05T10:53:02.297951Z",
     "iopub.status.busy": "2021-11-05T10:53:02.297181Z",
     "iopub.status.idle": "2021-11-05T10:53:03.467259Z",
     "shell.execute_reply": "2021-11-05T10:53:03.466642Z",
     "shell.execute_reply.started": "2021-11-05T09:07:22.163630Z"
    },
    "papermill": {
     "duration": 1.350847,
     "end_time": "2021-11-05T10:53:03.467486",
     "exception": false,
     "start_time": "2021-11-05T10:53:02.116639",
     "status": "completed"
    },
    "tags": []
   },
   "outputs": [
    {
     "data": {
      "text/plain": [
       "<AxesSubplot:xlabel='cons.conf.idx', ylabel='job'>"
      ]
     },
     "execution_count": 26,
     "metadata": {},
     "output_type": "execute_result"
    },
    {
     "data": {
      "image/png": "[encoded data removed]",
      "text/plain": [
       "<Figure size 864x576 with 1 Axes>"
      ]
     },
     "metadata": {
      "needs_background": "light"
     },
     "output_type": "display_data"
    }
   ],
   "source": [
    "plt.figure(figsize=(12,8))\n",
    "sns.boxplot(data=df, x=\"cons.conf.idx\", y=\"job\", hue='y')"
   ]
  },
  {
   "cell_type": "markdown",
   "id": "798cc384",
   "metadata": {
    "papermill": {
     "duration": 0.153557,
     "end_time": "2021-11-05T10:53:03.775154",
     "exception": false,
     "start_time": "2021-11-05T10:53:03.621597",
     "status": "completed"
    },
    "tags": []
   },
   "source": [
    "We could see that job crammer's v correlation is decrease if we remove cons.conf.idx outliers. Thus, we're NOT removing outliers in \"cons.conf.idx\" features"
   ]
  },
  {
   "cell_type": "markdown",
   "id": "71064de2",
   "metadata": {
    "papermill": {
     "duration": 0.149622,
     "end_time": "2021-11-05T10:53:04.074771",
     "exception": false,
     "start_time": "2021-11-05T10:53:03.925149",
     "status": "completed"
    },
    "tags": []
   },
   "source": [
    "# Exploratory Data Analysis"
   ]
  },
  {
   "cell_type": "code",
   "execution_count": 27,
   "id": "cc782b68",
   "metadata": {
    "execution": {
     "iopub.execute_input": "2021-11-05T10:53:04.383469Z",
     "iopub.status.busy": "2021-11-05T10:53:04.382421Z",
     "iopub.status.idle": "2021-11-05T10:53:04.386019Z",
     "shell.execute_reply": "2021-11-05T10:53:04.386526Z",
     "shell.execute_reply.started": "2021-11-05T09:07:23.117516Z"
    },
    "papermill": {
     "duration": 0.159409,
     "end_time": "2021-11-05T10:53:04.386717",
     "exception": false,
     "start_time": "2021-11-05T10:53:04.227308",
     "status": "completed"
    },
    "tags": []
   },
   "outputs": [],
   "source": [
    "## checking data pattern of each column "
   ]
  },
  {
   "cell_type": "code",
   "execution_count": 28,
   "id": "85621723",
   "metadata": {
    "execution": {
     "iopub.execute_input": "2021-11-05T10:53:04.689580Z",
     "iopub.status.busy": "2021-11-05T10:53:04.688598Z",
     "iopub.status.idle": "2021-11-05T10:53:04.722885Z",
     "shell.execute_reply": "2021-11-05T10:53:04.723388Z",
     "shell.execute_reply.started": "2021-11-05T09:07:36.745364Z"
    },
    "papermill": {
     "duration": 0.189128,
     "end_time": "2021-11-05T10:53:04.723581",
     "exception": false,
     "start_time": "2021-11-05T10:53:04.534453",
     "status": "completed"
    },
    "tags": []
   },
   "outputs": [],
   "source": [
    "df['y'] = df['y'].apply(lambda y: 1 if y == 'yes' else 0)"
   ]
  },
  {
   "cell_type": "markdown",
   "id": "5192fd27",
   "metadata": {
    "papermill": {
     "duration": 0.148747,
     "end_time": "2021-11-05T10:53:05.022455",
     "exception": false,
     "start_time": "2021-11-05T10:53:04.873708",
     "status": "completed"
    },
    "tags": []
   },
   "source": [
    "## Which customer age group is the most targeted on previous campaign  ?"
   ]
  },
  {
   "cell_type": "markdown",
   "id": "3a190a35",
   "metadata": {
    "papermill": {
     "duration": 0.152001,
     "end_time": "2021-11-05T10:53:05.327798",
     "exception": false,
     "start_time": "2021-11-05T10:53:05.175797",
     "status": "completed"
    },
    "tags": []
   },
   "source": [
    "We categorize age into 3 groups :\n",
    "16 - 31 = Young Adult\n",
    "32 - 46 = Adult\n",
    "47 - 100 = Elderly"
   ]
  },
  {
   "cell_type": "code",
   "execution_count": 29,
   "id": "7ef57b17",
   "metadata": {
    "execution": {
     "iopub.execute_input": "2021-11-05T10:53:05.642432Z",
     "iopub.status.busy": "2021-11-05T10:53:05.641363Z",
     "iopub.status.idle": "2021-11-05T10:53:05.646071Z",
     "shell.execute_reply": "2021-11-05T10:53:05.646591Z",
     "shell.execute_reply.started": "2021-11-05T09:07:36.773735Z"
    },
    "papermill": {
     "duration": 0.165234,
     "end_time": "2021-11-05T10:53:05.647190",
     "exception": false,
     "start_time": "2021-11-05T10:53:05.481956",
     "status": "completed"
    },
    "tags": []
   },
   "outputs": [],
   "source": [
    "bin_age = [16, 32, 47, 100]\n",
    "label_age = ['Young Adult', 'Adult', 'Elderly']"
   ]
  },
  {
   "cell_type": "code",
   "execution_count": 30,
   "id": "d84804b5",
   "metadata": {
    "execution": {
     "iopub.execute_input": "2021-11-05T10:53:05.953136Z",
     "iopub.status.busy": "2021-11-05T10:53:05.952123Z",
     "iopub.status.idle": "2021-11-05T10:53:05.960553Z",
     "shell.execute_reply": "2021-11-05T10:53:05.961091Z",
     "shell.execute_reply.started": "2021-11-05T09:07:36.780900Z"
    },
    "papermill": {
     "duration": 0.163152,
     "end_time": "2021-11-05T10:53:05.961283",
     "exception": false,
     "start_time": "2021-11-05T10:53:05.798131",
     "status": "completed"
    },
    "tags": []
   },
   "outputs": [],
   "source": [
    "df['age_group'] = pd.cut(df['age'], bins=bin_age, labels=label_age)"
   ]
  },
  {
   "cell_type": "code",
   "execution_count": 31,
   "id": "df937c39",
   "metadata": {
    "execution": {
     "iopub.execute_input": "2021-11-05T10:53:06.275707Z",
     "iopub.status.busy": "2021-11-05T10:53:06.274613Z",
     "iopub.status.idle": "2021-11-05T10:53:06.283784Z",
     "shell.execute_reply": "2021-11-05T10:53:06.284868Z",
     "shell.execute_reply.started": "2021-11-05T09:07:36.797797Z"
    },
    "papermill": {
     "duration": 0.170237,
     "end_time": "2021-11-05T10:53:06.285124",
     "exception": false,
     "start_time": "2021-11-05T10:53:06.114887",
     "status": "completed"
    },
    "tags": []
   },
   "outputs": [
    {
     "data": {
      "text/plain": [
       "Adult          20132\n",
       "Young Adult    11173\n",
       "Elderly         9871\n",
       "Name: age_group, dtype: int64"
      ]
     },
     "execution_count": 31,
     "metadata": {},
     "output_type": "execute_result"
    }
   ],
   "source": [
    "df['age_group'].value_counts()"
   ]
  },
  {
   "cell_type": "code",
   "execution_count": 32,
   "id": "41b32cdc",
   "metadata": {
    "execution": {
     "iopub.execute_input": "2021-11-05T10:53:06.595373Z",
     "iopub.status.busy": "2021-11-05T10:53:06.594261Z",
     "iopub.status.idle": "2021-11-05T10:53:06.621233Z",
     "shell.execute_reply": "2021-11-05T10:53:06.620188Z",
     "shell.execute_reply.started": "2021-11-05T09:07:36.812986Z"
    },
    "papermill": {
     "duration": 0.182658,
     "end_time": "2021-11-05T10:53:06.621551",
     "exception": false,
     "start_time": "2021-11-05T10:53:06.438893",
     "status": "completed"
    },
    "tags": []
   },
   "outputs": [
    {
     "data": {
      "text/html": [
       "<div>\n",
       "<style scoped>\n",
       "    .dataframe tbody tr th:only-of-type {\n",
       "        vertical-align: middle;\n",
       "    }\n",
       "\n",
       "    .dataframe tbody tr th {\n",
       "        vertical-align: top;\n",
       "    }\n",
       "\n",
       "    .dataframe thead th {\n",
       "        text-align: right;\n",
       "    }\n",
       "</style>\n",
       "<table border=\"1\" class=\"dataframe\">\n",
       "  <thead>\n",
       "    <tr style=\"text-align: right;\">\n",
       "      <th></th>\n",
       "      <th>age</th>\n",
       "      <th>job</th>\n",
       "      <th>marital</th>\n",
       "      <th>education</th>\n",
       "      <th>default</th>\n",
       "      <th>housing</th>\n",
       "      <th>loan</th>\n",
       "      <th>contact</th>\n",
       "      <th>month</th>\n",
       "      <th>day_of_week</th>\n",
       "      <th>...</th>\n",
       "      <th>pdays</th>\n",
       "      <th>previous</th>\n",
       "      <th>poutcome</th>\n",
       "      <th>emp.var.rate</th>\n",
       "      <th>cons.price.idx</th>\n",
       "      <th>cons.conf.idx</th>\n",
       "      <th>euribor3m</th>\n",
       "      <th>nr.employed</th>\n",
       "      <th>y</th>\n",
       "      <th>age_group</th>\n",
       "    </tr>\n",
       "  </thead>\n",
       "  <tbody>\n",
       "    <tr>\n",
       "      <th>0</th>\n",
       "      <td>56</td>\n",
       "      <td>housemaid</td>\n",
       "      <td>married</td>\n",
       "      <td>basic.4y</td>\n",
       "      <td>no</td>\n",
       "      <td>no</td>\n",
       "      <td>no</td>\n",
       "      <td>telephone</td>\n",
       "      <td>may</td>\n",
       "      <td>mon</td>\n",
       "      <td>...</td>\n",
       "      <td>999</td>\n",
       "      <td>0</td>\n",
       "      <td>nonexistent</td>\n",
       "      <td>1.1</td>\n",
       "      <td>93.994</td>\n",
       "      <td>-36.4</td>\n",
       "      <td>4.857</td>\n",
       "      <td>5191.0</td>\n",
       "      <td>0</td>\n",
       "      <td>Elderly</td>\n",
       "    </tr>\n",
       "    <tr>\n",
       "      <th>1</th>\n",
       "      <td>57</td>\n",
       "      <td>services</td>\n",
       "      <td>married</td>\n",
       "      <td>high.school</td>\n",
       "      <td>no</td>\n",
       "      <td>no</td>\n",
       "      <td>no</td>\n",
       "      <td>telephone</td>\n",
       "      <td>may</td>\n",
       "      <td>mon</td>\n",
       "      <td>...</td>\n",
       "      <td>999</td>\n",
       "      <td>0</td>\n",
       "      <td>nonexistent</td>\n",
       "      <td>1.1</td>\n",
       "      <td>93.994</td>\n",
       "      <td>-36.4</td>\n",
       "      <td>4.857</td>\n",
       "      <td>5191.0</td>\n",
       "      <td>0</td>\n",
       "      <td>Elderly</td>\n",
       "    </tr>\n",
       "    <tr>\n",
       "      <th>2</th>\n",
       "      <td>37</td>\n",
       "      <td>services</td>\n",
       "      <td>married</td>\n",
       "      <td>high.school</td>\n",
       "      <td>no</td>\n",
       "      <td>yes</td>\n",
       "      <td>no</td>\n",
       "      <td>telephone</td>\n",
       "      <td>may</td>\n",
       "      <td>mon</td>\n",
       "      <td>...</td>\n",
       "      <td>999</td>\n",
       "      <td>0</td>\n",
       "      <td>nonexistent</td>\n",
       "      <td>1.1</td>\n",
       "      <td>93.994</td>\n",
       "      <td>-36.4</td>\n",
       "      <td>4.857</td>\n",
       "      <td>5191.0</td>\n",
       "      <td>0</td>\n",
       "      <td>Adult</td>\n",
       "    </tr>\n",
       "    <tr>\n",
       "      <th>3</th>\n",
       "      <td>40</td>\n",
       "      <td>admin.</td>\n",
       "      <td>married</td>\n",
       "      <td>basic.6y</td>\n",
       "      <td>no</td>\n",
       "      <td>no</td>\n",
       "      <td>no</td>\n",
       "      <td>telephone</td>\n",
       "      <td>may</td>\n",
       "      <td>mon</td>\n",
       "      <td>...</td>\n",
       "      <td>999</td>\n",
       "      <td>0</td>\n",
       "      <td>nonexistent</td>\n",
       "      <td>1.1</td>\n",
       "      <td>93.994</td>\n",
       "      <td>-36.4</td>\n",
       "      <td>4.857</td>\n",
       "      <td>5191.0</td>\n",
       "      <td>0</td>\n",
       "      <td>Adult</td>\n",
       "    </tr>\n",
       "    <tr>\n",
       "      <th>4</th>\n",
       "      <td>56</td>\n",
       "      <td>services</td>\n",
       "      <td>married</td>\n",
       "      <td>high.school</td>\n",
       "      <td>no</td>\n",
       "      <td>no</td>\n",
       "      <td>yes</td>\n",
       "      <td>telephone</td>\n",
       "      <td>may</td>\n",
       "      <td>mon</td>\n",
       "      <td>...</td>\n",
       "      <td>999</td>\n",
       "      <td>0</td>\n",
       "      <td>nonexistent</td>\n",
       "      <td>1.1</td>\n",
       "      <td>93.994</td>\n",
       "      <td>-36.4</td>\n",
       "      <td>4.857</td>\n",
       "      <td>5191.0</td>\n",
       "      <td>0</td>\n",
       "      <td>Elderly</td>\n",
       "    </tr>\n",
       "  </tbody>\n",
       "</table>\n",
       "<p>5 rows × 22 columns</p>\n",
       "</div>"
      ],
      "text/plain": [
       "   age        job  marital    education default housing loan    contact month  \\\n",
       "0   56  housemaid  married     basic.4y      no      no   no  telephone   may   \n",
       "1   57   services  married  high.school      no      no   no  telephone   may   \n",
       "2   37   services  married  high.school      no     yes   no  telephone   may   \n",
       "3   40     admin.  married     basic.6y      no      no   no  telephone   may   \n",
       "4   56   services  married  high.school      no      no  yes  telephone   may   \n",
       "\n",
       "  day_of_week  ...  pdays  previous     poutcome  emp.var.rate cons.price.idx  \\\n",
       "0         mon  ...    999         0  nonexistent           1.1         93.994   \n",
       "1         mon  ...    999         0  nonexistent           1.1         93.994   \n",
       "2         mon  ...    999         0  nonexistent           1.1         93.994   \n",
       "3         mon  ...    999         0  nonexistent           1.1         93.994   \n",
       "4         mon  ...    999         0  nonexistent           1.1         93.994   \n",
       "\n",
       "   cons.conf.idx  euribor3m  nr.employed  y  age_group  \n",
       "0          -36.4      4.857       5191.0  0    Elderly  \n",
       "1          -36.4      4.857       5191.0  0    Elderly  \n",
       "2          -36.4      4.857       5191.0  0      Adult  \n",
       "3          -36.4      4.857       5191.0  0      Adult  \n",
       "4          -36.4      4.857       5191.0  0    Elderly  \n",
       "\n",
       "[5 rows x 22 columns]"
      ]
     },
     "execution_count": 32,
     "metadata": {},
     "output_type": "execute_result"
    }
   ],
   "source": [
    "df.head()"
   ]
  },
  {
   "cell_type": "code",
   "execution_count": 33,
   "id": "e5cefc1e",
   "metadata": {
    "execution": {
     "iopub.execute_input": "2021-11-05T10:53:06.936604Z",
     "iopub.status.busy": "2021-11-05T10:53:06.935617Z",
     "iopub.status.idle": "2021-11-05T10:53:07.226558Z",
     "shell.execute_reply": "2021-11-05T10:53:07.225696Z",
     "shell.execute_reply.started": "2021-11-05T09:07:36.844784Z"
    },
    "papermill": {
     "duration": 0.450818,
     "end_time": "2021-11-05T10:53:07.226719",
     "exception": false,
     "start_time": "2021-11-05T10:53:06.775901",
     "status": "completed"
    },
    "tags": []
   },
   "outputs": [
    {
     "data": {
      "image/png": "[encoded data removed]",
      "text/plain": [
       "<Figure size 1080x576 with 1 Axes>"
      ]
     },
     "metadata": {
      "needs_background": "light"
     },
     "output_type": "display_data"
    }
   ],
   "source": [
    "plt.figure(figsize=(15, 8))\n",
    "sns.countplot(x=df[\"age_group\"],hue=df[\"y\"], data=df, palette='mako')\n",
    "plt.title('Age Group Comparison')\n",
    "plt.show()"
   ]
  },
  {
   "cell_type": "code",
   "execution_count": 34,
   "id": "8f74a25c",
   "metadata": {
    "execution": {
     "iopub.execute_input": "2021-11-05T10:53:07.541587Z",
     "iopub.status.busy": "2021-11-05T10:53:07.540418Z",
     "iopub.status.idle": "2021-11-05T10:53:07.577644Z",
     "shell.execute_reply": "2021-11-05T10:53:07.577043Z",
     "shell.execute_reply.started": "2021-11-05T09:07:37.125029Z"
    },
    "papermill": {
     "duration": 0.194203,
     "end_time": "2021-11-05T10:53:07.577799",
     "exception": false,
     "start_time": "2021-11-05T10:53:07.383596",
     "status": "completed"
    },
    "tags": []
   },
   "outputs": [
    {
     "data": {
      "text/html": [
       "<div>\n",
       "<style scoped>\n",
       "    .dataframe tbody tr th:only-of-type {\n",
       "        vertical-align: middle;\n",
       "    }\n",
       "\n",
       "    .dataframe tbody tr th {\n",
       "        vertical-align: top;\n",
       "    }\n",
       "\n",
       "    .dataframe thead th {\n",
       "        text-align: right;\n",
       "    }\n",
       "</style>\n",
       "<table border=\"1\" class=\"dataframe\">\n",
       "  <thead>\n",
       "    <tr style=\"text-align: right;\">\n",
       "      <th>y</th>\n",
       "      <th>0</th>\n",
       "      <th>1</th>\n",
       "    </tr>\n",
       "    <tr>\n",
       "      <th>age_group</th>\n",
       "      <th></th>\n",
       "      <th></th>\n",
       "    </tr>\n",
       "  </thead>\n",
       "  <tbody>\n",
       "    <tr>\n",
       "      <th>Young Adult</th>\n",
       "      <td>86.32</td>\n",
       "      <td>13.68</td>\n",
       "    </tr>\n",
       "    <tr>\n",
       "      <th>Elderly</th>\n",
       "      <td>86.62</td>\n",
       "      <td>13.38</td>\n",
       "    </tr>\n",
       "    <tr>\n",
       "      <th>Adult</th>\n",
       "      <td>91.11</td>\n",
       "      <td>8.89</td>\n",
       "    </tr>\n",
       "  </tbody>\n",
       "</table>\n",
       "</div>"
      ],
      "text/plain": [
       "y                0      1\n",
       "age_group                \n",
       "Young Adult  86.32  13.68\n",
       "Elderly      86.62  13.38\n",
       "Adult        91.11   8.89"
      ]
     },
     "execution_count": 34,
     "metadata": {},
     "output_type": "execute_result"
    }
   ],
   "source": [
    "age = ((pd.crosstab(index= df[\"age_group\"], columns= df[\"y\"], normalize=\"index\"))*100).round(2)\n",
    "age\n",
    "age.sort_values(1,ascending=False)"
   ]
  },
  {
   "cell_type": "markdown",
   "id": "e192d366",
   "metadata": {
    "papermill": {
     "duration": 0.149106,
     "end_time": "2021-11-05T10:53:07.878815",
     "exception": false,
     "start_time": "2021-11-05T10:53:07.729709",
     "status": "completed"
    },
    "tags": []
   },
   "source": [
    "Young adult and elderly people have the highest percentage in opening the bank account"
   ]
  },
  {
   "cell_type": "markdown",
   "id": "05349d54",
   "metadata": {
    "papermill": {
     "duration": 0.164798,
     "end_time": "2021-11-05T10:53:08.201506",
     "exception": false,
     "start_time": "2021-11-05T10:53:08.036708",
     "status": "completed"
    },
    "tags": []
   },
   "source": [
    "## Does marital status impact on decision opening term deposit ?"
   ]
  },
  {
   "cell_type": "code",
   "execution_count": 35,
   "id": "2cd85c4c",
   "metadata": {
    "execution": {
     "iopub.execute_input": "2021-11-05T10:53:08.516925Z",
     "iopub.status.busy": "2021-11-05T10:53:08.514640Z",
     "iopub.status.idle": "2021-11-05T10:53:08.528210Z",
     "shell.execute_reply": "2021-11-05T10:53:08.528795Z",
     "shell.execute_reply.started": "2021-11-05T09:07:37.159700Z"
    },
    "papermill": {
     "duration": 0.17143,
     "end_time": "2021-11-05T10:53:08.528987",
     "exception": false,
     "start_time": "2021-11-05T10:53:08.357557",
     "status": "completed"
    },
    "tags": []
   },
   "outputs": [
    {
     "data": {
      "text/plain": [
       "married     25001\n",
       "single      11564\n",
       "divorced     4611\n",
       "Name: marital, dtype: int64"
      ]
     },
     "execution_count": 35,
     "metadata": {},
     "output_type": "execute_result"
    }
   ],
   "source": [
    "df['marital'].value_counts()"
   ]
  },
  {
   "cell_type": "code",
   "execution_count": 36,
   "id": "adfe4113",
   "metadata": {
    "execution": {
     "iopub.execute_input": "2021-11-05T10:53:08.836222Z",
     "iopub.status.busy": "2021-11-05T10:53:08.834997Z",
     "iopub.status.idle": "2021-11-05T10:53:08.847673Z",
     "shell.execute_reply": "2021-11-05T10:53:08.846573Z",
     "shell.execute_reply.started": "2021-11-05T09:07:37.169858Z"
    },
    "papermill": {
     "duration": 0.168465,
     "end_time": "2021-11-05T10:53:08.847918",
     "exception": false,
     "start_time": "2021-11-05T10:53:08.679453",
     "status": "completed"
    },
    "tags": []
   },
   "outputs": [],
   "source": [
    "df['Marital_Status'] =  df['marital'].map({'married' : 'married','single': 'not married','divorced':'not married'})"
   ]
  },
  {
   "cell_type": "code",
   "execution_count": 37,
   "id": "13ad3ec7",
   "metadata": {
    "execution": {
     "iopub.execute_input": "2021-11-05T10:53:09.161766Z",
     "iopub.status.busy": "2021-11-05T10:53:09.159307Z",
     "iopub.status.idle": "2021-11-05T10:53:09.164985Z",
     "shell.execute_reply": "2021-11-05T10:53:09.164408Z",
     "shell.execute_reply.started": "2021-11-05T09:07:37.187841Z"
    },
    "papermill": {
     "duration": 0.169573,
     "end_time": "2021-11-05T10:53:09.165126",
     "exception": false,
     "start_time": "2021-11-05T10:53:08.995553",
     "status": "completed"
    },
    "tags": []
   },
   "outputs": [
    {
     "data": {
      "text/plain": [
       "married        25001\n",
       "not married    16175\n",
       "Name: Marital_Status, dtype: int64"
      ]
     },
     "execution_count": 37,
     "metadata": {},
     "output_type": "execute_result"
    }
   ],
   "source": [
    "df['Marital_Status'].value_counts()"
   ]
  },
  {
   "cell_type": "code",
   "execution_count": 38,
   "id": "221b3f01",
   "metadata": {
    "execution": {
     "iopub.execute_input": "2021-11-05T10:53:09.503472Z",
     "iopub.status.busy": "2021-11-05T10:53:09.496223Z",
     "iopub.status.idle": "2021-11-05T10:53:09.831310Z",
     "shell.execute_reply": "2021-11-05T10:53:09.830016Z",
     "shell.execute_reply.started": "2021-11-05T09:07:37.206136Z"
    },
    "papermill": {
     "duration": 0.508879,
     "end_time": "2021-11-05T10:53:09.831533",
     "exception": false,
     "start_time": "2021-11-05T10:53:09.322654",
     "status": "completed"
    },
    "tags": []
   },
   "outputs": [
    {
     "data": {
      "image/png": "[encoded data removed]",
      "text/plain": [
       "<Figure size 1080x576 with 1 Axes>"
      ]
     },
     "metadata": {
      "needs_background": "light"
     },
     "output_type": "display_data"
    }
   ],
   "source": [
    "plt.figure(figsize=(15, 8))\n",
    "sns.countplot(x=df[\"Marital_Status\"],hue=df[\"y\"], data=df, palette='mako')\n",
    "plt.title('Marital Status Comparison')\n",
    "plt.show()"
   ]
  },
  {
   "cell_type": "code",
   "execution_count": 39,
   "id": "91d09a24",
   "metadata": {
    "execution": {
     "iopub.execute_input": "2021-11-05T10:53:10.149468Z",
     "iopub.status.busy": "2021-11-05T10:53:10.148730Z",
     "iopub.status.idle": "2021-11-05T10:53:10.179043Z",
     "shell.execute_reply": "2021-11-05T10:53:10.179620Z",
     "shell.execute_reply.started": "2021-11-05T09:07:37.475861Z"
    },
    "papermill": {
     "duration": 0.189821,
     "end_time": "2021-11-05T10:53:10.179815",
     "exception": false,
     "start_time": "2021-11-05T10:53:09.989994",
     "status": "completed"
    },
    "tags": []
   },
   "outputs": [
    {
     "data": {
      "text/html": [
       "<div>\n",
       "<style scoped>\n",
       "    .dataframe tbody tr th:only-of-type {\n",
       "        vertical-align: middle;\n",
       "    }\n",
       "\n",
       "    .dataframe tbody tr th {\n",
       "        vertical-align: top;\n",
       "    }\n",
       "\n",
       "    .dataframe thead th {\n",
       "        text-align: right;\n",
       "    }\n",
       "</style>\n",
       "<table border=\"1\" class=\"dataframe\">\n",
       "  <thead>\n",
       "    <tr style=\"text-align: right;\">\n",
       "      <th>y</th>\n",
       "      <th>0</th>\n",
       "      <th>1</th>\n",
       "    </tr>\n",
       "    <tr>\n",
       "      <th>Marital_Status</th>\n",
       "      <th></th>\n",
       "      <th></th>\n",
       "    </tr>\n",
       "  </thead>\n",
       "  <tbody>\n",
       "    <tr>\n",
       "      <th>not married</th>\n",
       "      <td>87.04</td>\n",
       "      <td>12.96</td>\n",
       "    </tr>\n",
       "    <tr>\n",
       "      <th>married</th>\n",
       "      <td>89.83</td>\n",
       "      <td>10.17</td>\n",
       "    </tr>\n",
       "  </tbody>\n",
       "</table>\n",
       "</div>"
      ],
      "text/plain": [
       "y                   0      1\n",
       "Marital_Status              \n",
       "not married     87.04  12.96\n",
       "married         89.83  10.17"
      ]
     },
     "execution_count": 39,
     "metadata": {},
     "output_type": "execute_result"
    }
   ],
   "source": [
    "Marital = ((pd.crosstab(index= df[\"Marital_Status\"], columns= df[\"y\"], normalize=\"index\"))*100).round(2)\n",
    "Marital.sort_values(1,ascending=False)"
   ]
  },
  {
   "cell_type": "markdown",
   "id": "e384f9b9",
   "metadata": {
    "papermill": {
     "duration": 0.15683,
     "end_time": "2021-11-05T10:53:10.491128",
     "exception": false,
     "start_time": "2021-11-05T10:53:10.334298",
     "status": "completed"
    },
    "tags": []
   },
   "source": [
    "Married people tend to opening the deposit with the percentage of 10.17% and not married with 12.96%"
   ]
  },
  {
   "cell_type": "markdown",
   "id": "bcc8a00b",
   "metadata": {
    "papermill": {
     "duration": 0.154201,
     "end_time": "2021-11-05T10:53:10.797372",
     "exception": false,
     "start_time": "2021-11-05T10:53:10.643171",
     "status": "completed"
    },
    "tags": []
   },
   "source": [
    "## Which job type tend to open the term deposit ?"
   ]
  },
  {
   "cell_type": "code",
   "execution_count": 40,
   "id": "b14d4323",
   "metadata": {
    "execution": {
     "iopub.execute_input": "2021-11-05T10:53:11.114984Z",
     "iopub.status.busy": "2021-11-05T10:53:11.114258Z",
     "iopub.status.idle": "2021-11-05T10:53:11.127890Z",
     "shell.execute_reply": "2021-11-05T10:53:11.128467Z",
     "shell.execute_reply.started": "2021-11-05T09:07:37.505766Z"
    },
    "papermill": {
     "duration": 0.177773,
     "end_time": "2021-11-05T10:53:11.128693",
     "exception": false,
     "start_time": "2021-11-05T10:53:10.950920",
     "status": "completed"
    },
    "tags": []
   },
   "outputs": [
    {
     "data": {
      "text/plain": [
       "admin.           10749\n",
       "blue-collar       9253\n",
       "technician        6739\n",
       "services          3967\n",
       "management        2924\n",
       "retired           1718\n",
       "entrepreneur      1456\n",
       "self-employed     1421\n",
       "housemaid         1060\n",
       "unemployed        1014\n",
       "student            875\n",
       "Name: job, dtype: int64"
      ]
     },
     "execution_count": 40,
     "metadata": {},
     "output_type": "execute_result"
    }
   ],
   "source": [
    "df['job'].value_counts()"
   ]
  },
  {
   "cell_type": "code",
   "execution_count": 41,
   "id": "0062bfa7",
   "metadata": {
    "execution": {
     "iopub.execute_input": "2021-11-05T10:53:11.455283Z",
     "iopub.status.busy": "2021-11-05T10:53:11.447471Z",
     "iopub.status.idle": "2021-11-05T10:53:11.472423Z",
     "shell.execute_reply": "2021-11-05T10:53:11.473012Z",
     "shell.execute_reply.started": "2021-11-05T09:07:37.520757Z"
    },
    "papermill": {
     "duration": 0.185522,
     "end_time": "2021-11-05T10:53:11.473226",
     "exception": false,
     "start_time": "2021-11-05T10:53:11.287704",
     "status": "completed"
    },
    "tags": []
   },
   "outputs": [
    {
     "data": {
      "text/plain": [
       "admin.           10749\n",
       "blue-collar       9253\n",
       "technician        6739\n",
       "services          3967\n",
       "management        2924\n",
       "self-employed     2877\n",
       "retired           1718\n",
       "housemaid         1060\n",
       "unemployed        1014\n",
       "student            875\n",
       "Name: Job_Type, dtype: int64"
      ]
     },
     "execution_count": 41,
     "metadata": {},
     "output_type": "execute_result"
    }
   ],
   "source": [
    "job_map = { 'entrepreneur' : 'self-employed'\n",
    "    \n",
    "}\n",
    "\n",
    "df['Job_Type'] = df['job'].replace(job_map)\n",
    "df['Job_Type'].value_counts()"
   ]
  },
  {
   "cell_type": "code",
   "execution_count": 42,
   "id": "7ab0f0ba",
   "metadata": {
    "execution": {
     "iopub.execute_input": "2021-11-05T10:53:11.793858Z",
     "iopub.status.busy": "2021-11-05T10:53:11.784860Z",
     "iopub.status.idle": "2021-11-05T10:53:12.224974Z",
     "shell.execute_reply": "2021-11-05T10:53:12.224388Z",
     "shell.execute_reply.started": "2021-11-05T09:07:37.540322Z"
    },
    "papermill": {
     "duration": 0.597575,
     "end_time": "2021-11-05T10:53:12.225135",
     "exception": false,
     "start_time": "2021-11-05T10:53:11.627560",
     "status": "completed"
    },
    "tags": []
   },
   "outputs": [
    {
     "data": {
      "image/png": "[encoded data removed]",
      "text/plain": [
       "<Figure size 1080x576 with 1 Axes>"
      ]
     },
     "metadata": {
      "needs_background": "light"
     },
     "output_type": "display_data"
    }
   ],
   "source": [
    "plt.figure(figsize=(15, 8))\n",
    "sns.countplot(x=df[\"Job_Type\"],hue=df[\"y\"], data=df, palette='mako')\n",
    "plt.title('Job Type Comparison')\n",
    "plt.show()"
   ]
  },
  {
   "cell_type": "code",
   "execution_count": 43,
   "id": "12cbcdd7",
   "metadata": {
    "execution": {
     "iopub.execute_input": "2021-11-05T10:53:12.548831Z",
     "iopub.status.busy": "2021-11-05T10:53:12.547300Z",
     "iopub.status.idle": "2021-11-05T10:53:12.581496Z",
     "shell.execute_reply": "2021-11-05T10:53:12.581994Z",
     "shell.execute_reply.started": "2021-11-05T09:07:37.888311Z"
    },
    "papermill": {
     "duration": 0.197287,
     "end_time": "2021-11-05T10:53:12.582186",
     "exception": false,
     "start_time": "2021-11-05T10:53:12.384899",
     "status": "completed"
    },
    "tags": []
   },
   "outputs": [
    {
     "data": {
      "text/html": [
       "<div>\n",
       "<style scoped>\n",
       "    .dataframe tbody tr th:only-of-type {\n",
       "        vertical-align: middle;\n",
       "    }\n",
       "\n",
       "    .dataframe tbody tr th {\n",
       "        vertical-align: top;\n",
       "    }\n",
       "\n",
       "    .dataframe thead th {\n",
       "        text-align: right;\n",
       "    }\n",
       "</style>\n",
       "<table border=\"1\" class=\"dataframe\">\n",
       "  <thead>\n",
       "    <tr style=\"text-align: right;\">\n",
       "      <th>y</th>\n",
       "      <th>0</th>\n",
       "      <th>1</th>\n",
       "    </tr>\n",
       "    <tr>\n",
       "      <th>Job_Type</th>\n",
       "      <th></th>\n",
       "      <th></th>\n",
       "    </tr>\n",
       "  </thead>\n",
       "  <tbody>\n",
       "    <tr>\n",
       "      <th>student</th>\n",
       "      <td>68.57</td>\n",
       "      <td>31.43</td>\n",
       "    </tr>\n",
       "    <tr>\n",
       "      <th>retired</th>\n",
       "      <td>74.74</td>\n",
       "      <td>25.26</td>\n",
       "    </tr>\n",
       "    <tr>\n",
       "      <th>unemployed</th>\n",
       "      <td>85.80</td>\n",
       "      <td>14.20</td>\n",
       "    </tr>\n",
       "    <tr>\n",
       "      <th>admin.</th>\n",
       "      <td>87.09</td>\n",
       "      <td>12.91</td>\n",
       "    </tr>\n",
       "    <tr>\n",
       "      <th>management</th>\n",
       "      <td>88.78</td>\n",
       "      <td>11.22</td>\n",
       "    </tr>\n",
       "    <tr>\n",
       "      <th>technician</th>\n",
       "      <td>89.17</td>\n",
       "      <td>10.83</td>\n",
       "    </tr>\n",
       "    <tr>\n",
       "      <th>housemaid</th>\n",
       "      <td>90.00</td>\n",
       "      <td>10.00</td>\n",
       "    </tr>\n",
       "    <tr>\n",
       "      <th>self-employed</th>\n",
       "      <td>90.51</td>\n",
       "      <td>9.49</td>\n",
       "    </tr>\n",
       "    <tr>\n",
       "      <th>services</th>\n",
       "      <td>91.86</td>\n",
       "      <td>8.14</td>\n",
       "    </tr>\n",
       "    <tr>\n",
       "      <th>blue-collar</th>\n",
       "      <td>93.10</td>\n",
       "      <td>6.90</td>\n",
       "    </tr>\n",
       "  </tbody>\n",
       "</table>\n",
       "</div>"
      ],
      "text/plain": [
       "y                  0      1\n",
       "Job_Type                   \n",
       "student        68.57  31.43\n",
       "retired        74.74  25.26\n",
       "unemployed     85.80  14.20\n",
       "admin.         87.09  12.91\n",
       "management     88.78  11.22\n",
       "technician     89.17  10.83\n",
       "housemaid      90.00  10.00\n",
       "self-employed  90.51   9.49\n",
       "services       91.86   8.14\n",
       "blue-collar    93.10   6.90"
      ]
     },
     "execution_count": 43,
     "metadata": {},
     "output_type": "execute_result"
    }
   ],
   "source": [
    "job = (pd.crosstab(index=df[\"Job_Type\"], columns= df[\"y\"], normalize= \"index\") *100).round(2)\n",
    "job.sort_values(1, ascending=False)"
   ]
  },
  {
   "cell_type": "markdown",
   "id": "2032e3aa",
   "metadata": {
    "papermill": {
     "duration": 0.155834,
     "end_time": "2021-11-05T10:53:12.897953",
     "exception": false,
     "start_time": "2021-11-05T10:53:12.742119",
     "status": "completed"
    },
    "tags": []
   },
   "source": [
    "We can conclude that Job type Student, Retired and Unemployed customer are top 3 job type of customer who agree to open deposit term"
   ]
  },
  {
   "cell_type": "markdown",
   "id": "a8d63858",
   "metadata": {
    "papermill": {
     "duration": 0.165317,
     "end_time": "2021-11-05T10:53:19.167869",
     "exception": false,
     "start_time": "2021-11-05T10:53:19.002552",
     "status": "completed"
    },
    "tags": []
   },
   "source": [
    "# How socio economic attribute impact on customer decision ?"
   ]
  },
  {
   "cell_type": "code",
   "execution_count": 44,
   "id": "7086c832",
   "metadata": {
    "execution": {
     "iopub.execute_input": "2021-11-05T10:53:19.504587Z",
     "iopub.status.busy": "2021-11-05T10:53:19.503261Z",
     "iopub.status.idle": "2021-11-05T10:53:19.533383Z",
     "shell.execute_reply": "2021-11-05T10:53:19.532548Z",
     "shell.execute_reply.started": "2021-11-05T09:07:39.521700Z"
    },
    "papermill": {
     "duration": 0.203804,
     "end_time": "2021-11-05T10:53:19.533579",
     "exception": false,
     "start_time": "2021-11-05T10:53:19.329775",
     "status": "completed"
    },
    "tags": []
   },
   "outputs": [
    {
     "data": {
      "text/html": [
       "<div>\n",
       "<style scoped>\n",
       "    .dataframe tbody tr th:only-of-type {\n",
       "        vertical-align: middle;\n",
       "    }\n",
       "\n",
       "    .dataframe tbody tr th {\n",
       "        vertical-align: top;\n",
       "    }\n",
       "\n",
       "    .dataframe thead th {\n",
       "        text-align: right;\n",
       "    }\n",
       "</style>\n",
       "<table border=\"1\" class=\"dataframe\">\n",
       "  <thead>\n",
       "    <tr style=\"text-align: right;\">\n",
       "      <th></th>\n",
       "      <th>pdays</th>\n",
       "      <th>emp.var.rate</th>\n",
       "      <th>cons.price.idx</th>\n",
       "      <th>cons.conf.idx</th>\n",
       "      <th>euribor3m</th>\n",
       "      <th>nr.employed</th>\n",
       "    </tr>\n",
       "  </thead>\n",
       "  <tbody>\n",
       "    <tr>\n",
       "      <th>0</th>\n",
       "      <td>999</td>\n",
       "      <td>1.1</td>\n",
       "      <td>93.994</td>\n",
       "      <td>-36.4</td>\n",
       "      <td>4.857</td>\n",
       "      <td>5191.0</td>\n",
       "    </tr>\n",
       "    <tr>\n",
       "      <th>1</th>\n",
       "      <td>999</td>\n",
       "      <td>1.1</td>\n",
       "      <td>93.994</td>\n",
       "      <td>-36.4</td>\n",
       "      <td>4.857</td>\n",
       "      <td>5191.0</td>\n",
       "    </tr>\n",
       "    <tr>\n",
       "      <th>2</th>\n",
       "      <td>999</td>\n",
       "      <td>1.1</td>\n",
       "      <td>93.994</td>\n",
       "      <td>-36.4</td>\n",
       "      <td>4.857</td>\n",
       "      <td>5191.0</td>\n",
       "    </tr>\n",
       "    <tr>\n",
       "      <th>3</th>\n",
       "      <td>999</td>\n",
       "      <td>1.1</td>\n",
       "      <td>93.994</td>\n",
       "      <td>-36.4</td>\n",
       "      <td>4.857</td>\n",
       "      <td>5191.0</td>\n",
       "    </tr>\n",
       "    <tr>\n",
       "      <th>4</th>\n",
       "      <td>999</td>\n",
       "      <td>1.1</td>\n",
       "      <td>93.994</td>\n",
       "      <td>-36.4</td>\n",
       "      <td>4.857</td>\n",
       "      <td>5191.0</td>\n",
       "    </tr>\n",
       "  </tbody>\n",
       "</table>\n",
       "</div>"
      ],
      "text/plain": [
       "   pdays  emp.var.rate  cons.price.idx  cons.conf.idx  euribor3m  nr.employed\n",
       "0    999           1.1          93.994          -36.4      4.857       5191.0\n",
       "1    999           1.1          93.994          -36.4      4.857       5191.0\n",
       "2    999           1.1          93.994          -36.4      4.857       5191.0\n",
       "3    999           1.1          93.994          -36.4      4.857       5191.0\n",
       "4    999           1.1          93.994          -36.4      4.857       5191.0"
      ]
     },
     "execution_count": 44,
     "metadata": {},
     "output_type": "execute_result"
    }
   ],
   "source": [
    "socio_economic = df.select_dtypes(['int64', 'float64'])\n",
    "socio_economic = socio_economic.drop(columns=['age','duration','campaign','previous','y'])\n",
    "socio_economic.head()"
   ]
  },
  {
   "cell_type": "code",
   "execution_count": 45,
   "id": "e096eeac",
   "metadata": {
    "execution": {
     "iopub.execute_input": "2021-11-05T10:53:19.863039Z",
     "iopub.status.busy": "2021-11-05T10:53:19.862307Z",
     "iopub.status.idle": "2021-11-05T10:53:21.661379Z",
     "shell.execute_reply": "2021-11-05T10:53:21.660670Z",
     "shell.execute_reply.started": "2021-11-05T09:07:39.555437Z"
    },
    "papermill": {
     "duration": 1.963109,
     "end_time": "2021-11-05T10:53:21.661541",
     "exception": false,
     "start_time": "2021-11-05T10:53:19.698432",
     "status": "completed"
    },
    "tags": []
   },
   "outputs": [
    {
     "data": {
      "image/png": "[encoded data removed]",
      "text/plain": [
       "<Figure size 1440x1224 with 9 Axes>"
      ]
     },
     "metadata": {
      "needs_background": "light"
     },
     "output_type": "display_data"
    }
   ],
   "source": [
    "fig, ax = plt.subplots(3,3, figsize=(20,17))\n",
    "\n",
    "socio_economic\n",
    "\n",
    "ax = ax.ravel()\n",
    "position = 0\n",
    "for i in socio_economic:\n",
    "    \n",
    "    #order = df[i].value_counts().index\n",
    "    sns.histplot(data=socio_economic, x=socio_economic[i], ax=ax[position], hue=df['y'], palette='GnBu', bins=8)\n",
    "    ax[position].tick_params(labelrotation=90)\n",
    "    ax[position].set_title(i, fontdict={'fontsize':17})\n",
    "    \n",
    "    position += 1\n",
    "\n",
    "plt.subplots_adjust(hspace=0.7)\n",
    "\n",
    "plt.show()"
   ]
  },
  {
   "cell_type": "markdown",
   "id": "7b36ab3e",
   "metadata": {
    "papermill": {
     "duration": 0.16311,
     "end_time": "2021-11-05T10:53:21.988983",
     "exception": false,
     "start_time": "2021-11-05T10:53:21.825873",
     "status": "completed"
    },
    "tags": []
   },
   "source": [
    "# Based on previous campaign, when is the best time customer tend to say \"yes\" ?"
   ]
  },
  {
   "cell_type": "code",
   "execution_count": 46,
   "id": "8ea20d92",
   "metadata": {
    "execution": {
     "iopub.execute_input": "2021-11-05T10:53:22.320677Z",
     "iopub.status.busy": "2021-11-05T10:53:22.319915Z",
     "iopub.status.idle": "2021-11-05T10:53:22.324641Z",
     "shell.execute_reply": "2021-11-05T10:53:22.325156Z",
     "shell.execute_reply.started": "2021-11-05T09:07:41.130457Z"
    },
    "papermill": {
     "duration": 0.176555,
     "end_time": "2021-11-05T10:53:22.325358",
     "exception": false,
     "start_time": "2021-11-05T10:53:22.148803",
     "status": "completed"
    },
    "tags": []
   },
   "outputs": [
    {
     "data": {
      "text/plain": [
       "array(['may', 'jun', 'jul', 'aug', 'oct', 'nov', 'dec', 'mar', 'apr',\n",
       "       'sep'], dtype=object)"
      ]
     },
     "execution_count": 46,
     "metadata": {},
     "output_type": "execute_result"
    }
   ],
   "source": [
    "df['month'].unique()"
   ]
  },
  {
   "cell_type": "code",
   "execution_count": 47,
   "id": "1dc26026",
   "metadata": {
    "execution": {
     "iopub.execute_input": "2021-11-05T10:53:22.658763Z",
     "iopub.status.busy": "2021-11-05T10:53:22.657696Z",
     "iopub.status.idle": "2021-11-05T10:53:23.076356Z",
     "shell.execute_reply": "2021-11-05T10:53:23.076877Z",
     "shell.execute_reply.started": "2021-11-05T09:07:41.142229Z"
    },
    "papermill": {
     "duration": 0.592657,
     "end_time": "2021-11-05T10:53:23.077092",
     "exception": false,
     "start_time": "2021-11-05T10:53:22.484435",
     "status": "completed"
    },
    "tags": []
   },
   "outputs": [
    {
     "data": {
      "image/png": "[encoded data removed]",
      "text/plain": [
       "<Figure size 1080x576 with 1 Axes>"
      ]
     },
     "metadata": {
      "needs_background": "light"
     },
     "output_type": "display_data"
    }
   ],
   "source": [
    "plt.figure(figsize=(15, 8))\n",
    "sns.countplot(data=df, x=df['month'], hue='y', palette='GnBu')\n",
    "plt.title('Month v/s Y')\n",
    "plt.show()\n"
   ]
  },
  {
   "cell_type": "code",
   "execution_count": 48,
   "id": "979e20a6",
   "metadata": {
    "execution": {
     "iopub.execute_input": "2021-11-05T10:53:23.418691Z",
     "iopub.status.busy": "2021-11-05T10:53:23.417867Z",
     "iopub.status.idle": "2021-11-05T10:53:23.449233Z",
     "shell.execute_reply": "2021-11-05T10:53:23.449837Z",
     "shell.execute_reply.started": "2021-11-05T09:07:41.490326Z"
    },
    "papermill": {
     "duration": 0.204495,
     "end_time": "2021-11-05T10:53:23.450043",
     "exception": false,
     "start_time": "2021-11-05T10:53:23.245548",
     "status": "completed"
    },
    "tags": []
   },
   "outputs": [
    {
     "data": {
      "text/html": [
       "<div>\n",
       "<style scoped>\n",
       "    .dataframe tbody tr th:only-of-type {\n",
       "        vertical-align: middle;\n",
       "    }\n",
       "\n",
       "    .dataframe tbody tr th {\n",
       "        vertical-align: top;\n",
       "    }\n",
       "\n",
       "    .dataframe thead th {\n",
       "        text-align: right;\n",
       "    }\n",
       "</style>\n",
       "<table border=\"1\" class=\"dataframe\">\n",
       "  <thead>\n",
       "    <tr style=\"text-align: right;\">\n",
       "      <th>y</th>\n",
       "      <th>0</th>\n",
       "      <th>1</th>\n",
       "    </tr>\n",
       "    <tr>\n",
       "      <th>month</th>\n",
       "      <th></th>\n",
       "      <th></th>\n",
       "    </tr>\n",
       "  </thead>\n",
       "  <tbody>\n",
       "    <tr>\n",
       "      <th>mar</th>\n",
       "      <td>49.45</td>\n",
       "      <td>50.55</td>\n",
       "    </tr>\n",
       "    <tr>\n",
       "      <th>dec</th>\n",
       "      <td>51.10</td>\n",
       "      <td>48.90</td>\n",
       "    </tr>\n",
       "    <tr>\n",
       "      <th>sep</th>\n",
       "      <td>55.09</td>\n",
       "      <td>44.91</td>\n",
       "    </tr>\n",
       "    <tr>\n",
       "      <th>oct</th>\n",
       "      <td>56.07</td>\n",
       "      <td>43.93</td>\n",
       "    </tr>\n",
       "    <tr>\n",
       "      <th>apr</th>\n",
       "      <td>79.51</td>\n",
       "      <td>20.49</td>\n",
       "    </tr>\n",
       "    <tr>\n",
       "      <th>aug</th>\n",
       "      <td>89.39</td>\n",
       "      <td>10.61</td>\n",
       "    </tr>\n",
       "    <tr>\n",
       "      <th>jun</th>\n",
       "      <td>89.49</td>\n",
       "      <td>10.51</td>\n",
       "    </tr>\n",
       "    <tr>\n",
       "      <th>nov</th>\n",
       "      <td>89.85</td>\n",
       "      <td>10.15</td>\n",
       "    </tr>\n",
       "    <tr>\n",
       "      <th>jul</th>\n",
       "      <td>90.96</td>\n",
       "      <td>9.04</td>\n",
       "    </tr>\n",
       "    <tr>\n",
       "      <th>may</th>\n",
       "      <td>93.56</td>\n",
       "      <td>6.44</td>\n",
       "    </tr>\n",
       "  </tbody>\n",
       "</table>\n",
       "</div>"
      ],
      "text/plain": [
       "y          0      1\n",
       "month              \n",
       "mar    49.45  50.55\n",
       "dec    51.10  48.90\n",
       "sep    55.09  44.91\n",
       "oct    56.07  43.93\n",
       "apr    79.51  20.49\n",
       "aug    89.39  10.61\n",
       "jun    89.49  10.51\n",
       "nov    89.85  10.15\n",
       "jul    90.96   9.04\n",
       "may    93.56   6.44"
      ]
     },
     "execution_count": 48,
     "metadata": {},
     "output_type": "execute_result"
    }
   ],
   "source": [
    "month = (pd.crosstab(index=df[\"month\"], columns= df[\"y\"], normalize= \"index\") *100).round(2)\n",
    "month.sort_values(1, ascending=False)"
   ]
  },
  {
   "cell_type": "markdown",
   "id": "c29f3ac9",
   "metadata": {
    "papermill": {
     "duration": 0.161196,
     "end_time": "2021-11-05T10:53:23.779624",
     "exception": false,
     "start_time": "2021-11-05T10:53:23.618428",
     "status": "completed"
    },
    "tags": []
   },
   "source": [
    "The highest percentage (50.55%) customer tend to say yes is on March, followed by December and September in the second and third place"
   ]
  },
  {
   "cell_type": "code",
   "execution_count": 49,
   "id": "68e22cd9",
   "metadata": {
    "execution": {
     "iopub.execute_input": "2021-11-05T10:53:24.128716Z",
     "iopub.status.busy": "2021-11-05T10:53:24.128011Z",
     "iopub.status.idle": "2021-11-05T10:53:24.164044Z",
     "shell.execute_reply": "2021-11-05T10:53:24.163383Z",
     "shell.execute_reply.started": "2021-11-05T09:07:41.521740Z"
    },
    "papermill": {
     "duration": 0.218222,
     "end_time": "2021-11-05T10:53:24.164214",
     "exception": false,
     "start_time": "2021-11-05T10:53:23.945992",
     "status": "completed"
    },
    "tags": []
   },
   "outputs": [
    {
     "data": {
      "text/html": [
       "<div>\n",
       "<style scoped>\n",
       "    .dataframe tbody tr th:only-of-type {\n",
       "        vertical-align: middle;\n",
       "    }\n",
       "\n",
       "    .dataframe tbody tr th {\n",
       "        vertical-align: top;\n",
       "    }\n",
       "\n",
       "    .dataframe thead th {\n",
       "        text-align: right;\n",
       "    }\n",
       "</style>\n",
       "<table border=\"1\" class=\"dataframe\">\n",
       "  <thead>\n",
       "    <tr style=\"text-align: right;\">\n",
       "      <th></th>\n",
       "      <th>y</th>\n",
       "      <th>0</th>\n",
       "      <th>1</th>\n",
       "    </tr>\n",
       "    <tr>\n",
       "      <th>month</th>\n",
       "      <th>day_of_week</th>\n",
       "      <th></th>\n",
       "      <th></th>\n",
       "    </tr>\n",
       "  </thead>\n",
       "  <tbody>\n",
       "    <tr>\n",
       "      <th>dec</th>\n",
       "      <th>tue</th>\n",
       "      <td>40.00</td>\n",
       "      <td>60.00</td>\n",
       "    </tr>\n",
       "    <tr>\n",
       "      <th rowspan=\"2\" valign=\"top\">mar</th>\n",
       "      <th>wed</th>\n",
       "      <td>40.00</td>\n",
       "      <td>60.00</td>\n",
       "    </tr>\n",
       "    <tr>\n",
       "      <th>tue</th>\n",
       "      <td>40.00</td>\n",
       "      <td>60.00</td>\n",
       "    </tr>\n",
       "    <tr>\n",
       "      <th>dec</th>\n",
       "      <th>wed</th>\n",
       "      <td>40.00</td>\n",
       "      <td>60.00</td>\n",
       "    </tr>\n",
       "    <tr>\n",
       "      <th>mar</th>\n",
       "      <th>fri</th>\n",
       "      <td>47.87</td>\n",
       "      <td>52.13</td>\n",
       "    </tr>\n",
       "  </tbody>\n",
       "</table>\n",
       "</div>"
      ],
      "text/plain": [
       "y                      0      1\n",
       "month day_of_week              \n",
       "dec   tue          40.00  60.00\n",
       "mar   wed          40.00  60.00\n",
       "      tue          40.00  60.00\n",
       "dec   wed          40.00  60.00\n",
       "mar   fri          47.87  52.13"
      ]
     },
     "execution_count": 49,
     "metadata": {},
     "output_type": "execute_result"
    }
   ],
   "source": [
    "comb = (pd.crosstab(index=[df[\"month\"],df[\"day_of_week\"]], columns= df[\"y\"], normalize= \"index\")*100).round(2)\n",
    "comb.sort_values(1, ascending=False).head(5)"
   ]
  },
  {
   "cell_type": "markdown",
   "id": "4ed96e78",
   "metadata": {
    "papermill": {
     "duration": 0.164793,
     "end_time": "2021-11-05T10:53:24.521371",
     "exception": false,
     "start_time": "2021-11-05T10:53:24.356578",
     "status": "completed"
    },
    "tags": []
   },
   "source": [
    "- We can see that December on Tuesday and Wednesday are the day when past campaign was getting the highest proportion of \"yes\" answer\n",
    "- Following by March on Tuesday and Wednesday as well"
   ]
  },
  {
   "cell_type": "markdown",
   "id": "5fd0dbb3",
   "metadata": {
    "papermill": {
     "duration": 0.172155,
     "end_time": "2021-11-05T10:53:26.398747",
     "exception": false,
     "start_time": "2021-11-05T10:53:26.226592",
     "status": "completed"
    },
    "tags": []
   },
   "source": [
    "# G. Modelling"
   ]
  },
  {
   "cell_type": "markdown",
   "id": "dc9537a7",
   "metadata": {
    "papermill": {
     "duration": 0.168219,
     "end_time": "2021-11-05T10:53:26.741414",
     "exception": false,
     "start_time": "2021-11-05T10:53:26.573195",
     "status": "completed"
    },
    "tags": []
   },
   "source": [
    "## Handling Categorical Feature for Machine Learning"
   ]
  },
  {
   "cell_type": "code",
   "execution_count": 50,
   "id": "0666c7ca",
   "metadata": {
    "execution": {
     "iopub.execute_input": "2021-11-05T10:53:27.082520Z",
     "iopub.status.busy": "2021-11-05T10:53:27.081691Z",
     "iopub.status.idle": "2021-11-05T10:53:27.153301Z",
     "shell.execute_reply": "2021-11-05T10:53:27.153829Z",
     "shell.execute_reply.started": "2021-11-05T09:07:42.336274Z"
    },
    "papermill": {
     "duration": 0.247083,
     "end_time": "2021-11-05T10:53:27.154009",
     "exception": false,
     "start_time": "2021-11-05T10:53:26.906926",
     "status": "completed"
    },
    "tags": []
   },
   "outputs": [
    {
     "data": {
      "text/plain": [
       "age               0\n",
       "job               0\n",
       "marital           0\n",
       "education         0\n",
       "default           0\n",
       "housing           0\n",
       "loan              0\n",
       "contact           0\n",
       "month             0\n",
       "day_of_week       0\n",
       "duration          0\n",
       "campaign          0\n",
       "pdays             0\n",
       "previous          0\n",
       "poutcome          0\n",
       "emp.var.rate      0\n",
       "cons.price.idx    0\n",
       "cons.conf.idx     0\n",
       "euribor3m         0\n",
       "nr.employed       0\n",
       "y                 0\n",
       "age_group         0\n",
       "Marital_Status    0\n",
       "Job_Type          0\n",
       "dtype: int64"
      ]
     },
     "execution_count": 50,
     "metadata": {},
     "output_type": "execute_result"
    }
   ],
   "source": [
    "df.isna().sum()"
   ]
  },
  {
   "cell_type": "markdown",
   "id": "a69c3044",
   "metadata": {
    "papermill": {
     "duration": 0.169516,
     "end_time": "2021-11-05T10:53:27.486202",
     "exception": false,
     "start_time": "2021-11-05T10:53:27.316686",
     "status": "completed"
    },
    "tags": []
   },
   "source": [
    "in this section all data we got from EDA analysis the will be handled to be used for Machine Learning, which will be tranform into numerical, we will use 3 encoding type to handle categorical data\n",
    "\n",
    "- Binary Encoding\n",
    "- Ordinal Encoding\n",
    "- One-hot Encoding "
   ]
  },
  {
   "cell_type": "markdown",
   "id": "294239f8",
   "metadata": {
    "papermill": {
     "duration": 0.172176,
     "end_time": "2021-11-05T10:53:27.827988",
     "exception": false,
     "start_time": "2021-11-05T10:53:27.655812",
     "status": "completed"
    },
    "tags": []
   },
   "source": [
    "in this section we analyse the categorical feature to be then handled, and choosing between which encoder will be used"
   ]
  },
  {
   "cell_type": "code",
   "execution_count": 51,
   "id": "ec49091d",
   "metadata": {
    "execution": {
     "iopub.execute_input": "2021-11-05T10:53:28.186670Z",
     "iopub.status.busy": "2021-11-05T10:53:28.185638Z",
     "iopub.status.idle": "2021-11-05T10:53:28.589571Z",
     "shell.execute_reply": "2021-11-05T10:53:28.588831Z",
     "shell.execute_reply.started": "2021-11-05T09:07:42.373230Z"
    },
    "papermill": {
     "duration": 0.587769,
     "end_time": "2021-11-05T10:53:28.589734",
     "exception": false,
     "start_time": "2021-11-05T10:53:28.001965",
     "status": "completed"
    },
    "tags": []
   },
   "outputs": [],
   "source": [
    "from sklearn.model_selection import train_test_split,GridSearchCV,RandomizedSearchCV,StratifiedKFold\n",
    "from sklearn.pipeline import Pipeline\n",
    "from sklearn.impute import SimpleImputer\n",
    "from sklearn.preprocessing import RobustScaler,PolynomialFeatures,PowerTransformer,OneHotEncoder\n",
    "from sklearn.compose import ColumnTransformer"
   ]
  },
  {
   "cell_type": "code",
   "execution_count": 52,
   "id": "f5779e46",
   "metadata": {
    "execution": {
     "iopub.execute_input": "2021-11-05T10:53:28.929547Z",
     "iopub.status.busy": "2021-11-05T10:53:28.928845Z",
     "iopub.status.idle": "2021-11-05T10:53:28.955681Z",
     "shell.execute_reply": "2021-11-05T10:53:28.956420Z",
     "shell.execute_reply.started": "2021-11-05T09:07:42.828111Z"
    },
    "papermill": {
     "duration": 0.200207,
     "end_time": "2021-11-05T10:53:28.956619",
     "exception": false,
     "start_time": "2021-11-05T10:53:28.756412",
     "status": "completed"
    },
    "tags": []
   },
   "outputs": [
    {
     "data": {
      "text/html": [
       "<div>\n",
       "<style scoped>\n",
       "    .dataframe tbody tr th:only-of-type {\n",
       "        vertical-align: middle;\n",
       "    }\n",
       "\n",
       "    .dataframe tbody tr th {\n",
       "        vertical-align: top;\n",
       "    }\n",
       "\n",
       "    .dataframe thead th {\n",
       "        text-align: right;\n",
       "    }\n",
       "</style>\n",
       "<table border=\"1\" class=\"dataframe\">\n",
       "  <thead>\n",
       "    <tr style=\"text-align: right;\">\n",
       "      <th></th>\n",
       "      <th>age</th>\n",
       "      <th>job</th>\n",
       "      <th>marital</th>\n",
       "      <th>education</th>\n",
       "      <th>default</th>\n",
       "      <th>housing</th>\n",
       "      <th>loan</th>\n",
       "      <th>contact</th>\n",
       "      <th>month</th>\n",
       "      <th>day_of_week</th>\n",
       "      <th>...</th>\n",
       "      <th>poutcome</th>\n",
       "      <th>emp.var.rate</th>\n",
       "      <th>cons.price.idx</th>\n",
       "      <th>cons.conf.idx</th>\n",
       "      <th>euribor3m</th>\n",
       "      <th>nr.employed</th>\n",
       "      <th>y</th>\n",
       "      <th>age_group</th>\n",
       "      <th>Marital_Status</th>\n",
       "      <th>Job_Type</th>\n",
       "    </tr>\n",
       "  </thead>\n",
       "  <tbody>\n",
       "    <tr>\n",
       "      <th>0</th>\n",
       "      <td>56</td>\n",
       "      <td>housemaid</td>\n",
       "      <td>married</td>\n",
       "      <td>basic.4y</td>\n",
       "      <td>no</td>\n",
       "      <td>no</td>\n",
       "      <td>no</td>\n",
       "      <td>telephone</td>\n",
       "      <td>may</td>\n",
       "      <td>mon</td>\n",
       "      <td>...</td>\n",
       "      <td>nonexistent</td>\n",
       "      <td>1.1</td>\n",
       "      <td>93.994</td>\n",
       "      <td>-36.4</td>\n",
       "      <td>4.857</td>\n",
       "      <td>5191.0</td>\n",
       "      <td>0</td>\n",
       "      <td>Elderly</td>\n",
       "      <td>married</td>\n",
       "      <td>housemaid</td>\n",
       "    </tr>\n",
       "    <tr>\n",
       "      <th>1</th>\n",
       "      <td>57</td>\n",
       "      <td>services</td>\n",
       "      <td>married</td>\n",
       "      <td>high.school</td>\n",
       "      <td>no</td>\n",
       "      <td>no</td>\n",
       "      <td>no</td>\n",
       "      <td>telephone</td>\n",
       "      <td>may</td>\n",
       "      <td>mon</td>\n",
       "      <td>...</td>\n",
       "      <td>nonexistent</td>\n",
       "      <td>1.1</td>\n",
       "      <td>93.994</td>\n",
       "      <td>-36.4</td>\n",
       "      <td>4.857</td>\n",
       "      <td>5191.0</td>\n",
       "      <td>0</td>\n",
       "      <td>Elderly</td>\n",
       "      <td>married</td>\n",
       "      <td>services</td>\n",
       "    </tr>\n",
       "    <tr>\n",
       "      <th>2</th>\n",
       "      <td>37</td>\n",
       "      <td>services</td>\n",
       "      <td>married</td>\n",
       "      <td>high.school</td>\n",
       "      <td>no</td>\n",
       "      <td>yes</td>\n",
       "      <td>no</td>\n",
       "      <td>telephone</td>\n",
       "      <td>may</td>\n",
       "      <td>mon</td>\n",
       "      <td>...</td>\n",
       "      <td>nonexistent</td>\n",
       "      <td>1.1</td>\n",
       "      <td>93.994</td>\n",
       "      <td>-36.4</td>\n",
       "      <td>4.857</td>\n",
       "      <td>5191.0</td>\n",
       "      <td>0</td>\n",
       "      <td>Adult</td>\n",
       "      <td>married</td>\n",
       "      <td>services</td>\n",
       "    </tr>\n",
       "    <tr>\n",
       "      <th>3</th>\n",
       "      <td>40</td>\n",
       "      <td>admin.</td>\n",
       "      <td>married</td>\n",
       "      <td>basic.6y</td>\n",
       "      <td>no</td>\n",
       "      <td>no</td>\n",
       "      <td>no</td>\n",
       "      <td>telephone</td>\n",
       "      <td>may</td>\n",
       "      <td>mon</td>\n",
       "      <td>...</td>\n",
       "      <td>nonexistent</td>\n",
       "      <td>1.1</td>\n",
       "      <td>93.994</td>\n",
       "      <td>-36.4</td>\n",
       "      <td>4.857</td>\n",
       "      <td>5191.0</td>\n",
       "      <td>0</td>\n",
       "      <td>Adult</td>\n",
       "      <td>married</td>\n",
       "      <td>admin.</td>\n",
       "    </tr>\n",
       "    <tr>\n",
       "      <th>4</th>\n",
       "      <td>56</td>\n",
       "      <td>services</td>\n",
       "      <td>married</td>\n",
       "      <td>high.school</td>\n",
       "      <td>no</td>\n",
       "      <td>no</td>\n",
       "      <td>yes</td>\n",
       "      <td>telephone</td>\n",
       "      <td>may</td>\n",
       "      <td>mon</td>\n",
       "      <td>...</td>\n",
       "      <td>nonexistent</td>\n",
       "      <td>1.1</td>\n",
       "      <td>93.994</td>\n",
       "      <td>-36.4</td>\n",
       "      <td>4.857</td>\n",
       "      <td>5191.0</td>\n",
       "      <td>0</td>\n",
       "      <td>Elderly</td>\n",
       "      <td>married</td>\n",
       "      <td>services</td>\n",
       "    </tr>\n",
       "  </tbody>\n",
       "</table>\n",
       "<p>5 rows × 24 columns</p>\n",
       "</div>"
      ],
      "text/plain": [
       "   age        job  marital    education default housing loan    contact month  \\\n",
       "0   56  housemaid  married     basic.4y      no      no   no  telephone   may   \n",
       "1   57   services  married  high.school      no      no   no  telephone   may   \n",
       "2   37   services  married  high.school      no     yes   no  telephone   may   \n",
       "3   40     admin.  married     basic.6y      no      no   no  telephone   may   \n",
       "4   56   services  married  high.school      no      no  yes  telephone   may   \n",
       "\n",
       "  day_of_week  ...     poutcome  emp.var.rate  cons.price.idx  cons.conf.idx  \\\n",
       "0         mon  ...  nonexistent           1.1          93.994          -36.4   \n",
       "1         mon  ...  nonexistent           1.1          93.994          -36.4   \n",
       "2         mon  ...  nonexistent           1.1          93.994          -36.4   \n",
       "3         mon  ...  nonexistent           1.1          93.994          -36.4   \n",
       "4         mon  ...  nonexistent           1.1          93.994          -36.4   \n",
       "\n",
       "  euribor3m  nr.employed  y  age_group  Marital_Status   Job_Type  \n",
       "0     4.857       5191.0  0    Elderly         married  housemaid  \n",
       "1     4.857       5191.0  0    Elderly         married   services  \n",
       "2     4.857       5191.0  0      Adult         married   services  \n",
       "3     4.857       5191.0  0      Adult         married     admin.  \n",
       "4     4.857       5191.0  0    Elderly         married   services  \n",
       "\n",
       "[5 rows x 24 columns]"
      ]
     },
     "execution_count": 52,
     "metadata": {},
     "output_type": "execute_result"
    }
   ],
   "source": [
    "df.head()"
   ]
  },
  {
   "cell_type": "markdown",
   "id": "08ac60bf",
   "metadata": {
    "papermill": {
     "duration": 0.172691,
     "end_time": "2021-11-05T10:53:29.306447",
     "exception": false,
     "start_time": "2021-11-05T10:53:29.133756",
     "status": "completed"
    },
    "tags": []
   },
   "source": [
    "Drop unused column for machine learning"
   ]
  },
  {
   "cell_type": "code",
   "execution_count": 53,
   "id": "cadfa8f1",
   "metadata": {
    "execution": {
     "iopub.execute_input": "2021-11-05T10:53:29.652693Z",
     "iopub.status.busy": "2021-11-05T10:53:29.651919Z",
     "iopub.status.idle": "2021-11-05T10:53:29.683256Z",
     "shell.execute_reply": "2021-11-05T10:53:29.682694Z",
     "shell.execute_reply.started": "2021-11-05T09:07:42.858231Z"
    },
    "papermill": {
     "duration": 0.203162,
     "end_time": "2021-11-05T10:53:29.683446",
     "exception": false,
     "start_time": "2021-11-05T10:53:29.480284",
     "status": "completed"
    },
    "tags": []
   },
   "outputs": [],
   "source": [
    "df = df.drop(columns=[\"month\"])\n",
    "df = df.drop(columns=[\"day_of_week\"])\n",
    "df = df.drop(columns=[\"duration\"])\n",
    "df = df.drop(columns=[\"campaign\"])"
   ]
  },
  {
   "cell_type": "code",
   "execution_count": 54,
   "id": "1c412416",
   "metadata": {
    "execution": {
     "iopub.execute_input": "2021-11-05T10:53:30.038779Z",
     "iopub.status.busy": "2021-11-05T10:53:30.037851Z",
     "iopub.status.idle": "2021-11-05T10:53:30.041985Z",
     "shell.execute_reply": "2021-11-05T10:53:30.041364Z",
     "shell.execute_reply.started": "2021-11-05T09:07:42.891405Z"
    },
    "papermill": {
     "duration": 0.194757,
     "end_time": "2021-11-05T10:53:30.042127",
     "exception": false,
     "start_time": "2021-11-05T10:53:29.847370",
     "status": "completed"
    },
    "tags": []
   },
   "outputs": [
    {
     "data": {
      "text/html": [
       "<div>\n",
       "<style scoped>\n",
       "    .dataframe tbody tr th:only-of-type {\n",
       "        vertical-align: middle;\n",
       "    }\n",
       "\n",
       "    .dataframe tbody tr th {\n",
       "        vertical-align: top;\n",
       "    }\n",
       "\n",
       "    .dataframe thead th {\n",
       "        text-align: right;\n",
       "    }\n",
       "</style>\n",
       "<table border=\"1\" class=\"dataframe\">\n",
       "  <thead>\n",
       "    <tr style=\"text-align: right;\">\n",
       "      <th></th>\n",
       "      <th>age</th>\n",
       "      <th>job</th>\n",
       "      <th>marital</th>\n",
       "      <th>education</th>\n",
       "      <th>default</th>\n",
       "      <th>housing</th>\n",
       "      <th>loan</th>\n",
       "      <th>contact</th>\n",
       "      <th>pdays</th>\n",
       "      <th>previous</th>\n",
       "      <th>poutcome</th>\n",
       "      <th>emp.var.rate</th>\n",
       "      <th>cons.price.idx</th>\n",
       "      <th>cons.conf.idx</th>\n",
       "      <th>euribor3m</th>\n",
       "      <th>nr.employed</th>\n",
       "      <th>y</th>\n",
       "      <th>age_group</th>\n",
       "      <th>Marital_Status</th>\n",
       "      <th>Job_Type</th>\n",
       "    </tr>\n",
       "  </thead>\n",
       "  <tbody>\n",
       "    <tr>\n",
       "      <th>0</th>\n",
       "      <td>56</td>\n",
       "      <td>housemaid</td>\n",
       "      <td>married</td>\n",
       "      <td>basic.4y</td>\n",
       "      <td>no</td>\n",
       "      <td>no</td>\n",
       "      <td>no</td>\n",
       "      <td>telephone</td>\n",
       "      <td>999</td>\n",
       "      <td>0</td>\n",
       "      <td>nonexistent</td>\n",
       "      <td>1.1</td>\n",
       "      <td>93.994</td>\n",
       "      <td>-36.4</td>\n",
       "      <td>4.857</td>\n",
       "      <td>5191.0</td>\n",
       "      <td>0</td>\n",
       "      <td>Elderly</td>\n",
       "      <td>married</td>\n",
       "      <td>housemaid</td>\n",
       "    </tr>\n",
       "    <tr>\n",
       "      <th>1</th>\n",
       "      <td>57</td>\n",
       "      <td>services</td>\n",
       "      <td>married</td>\n",
       "      <td>high.school</td>\n",
       "      <td>no</td>\n",
       "      <td>no</td>\n",
       "      <td>no</td>\n",
       "      <td>telephone</td>\n",
       "      <td>999</td>\n",
       "      <td>0</td>\n",
       "      <td>nonexistent</td>\n",
       "      <td>1.1</td>\n",
       "      <td>93.994</td>\n",
       "      <td>-36.4</td>\n",
       "      <td>4.857</td>\n",
       "      <td>5191.0</td>\n",
       "      <td>0</td>\n",
       "      <td>Elderly</td>\n",
       "      <td>married</td>\n",
       "      <td>services</td>\n",
       "    </tr>\n",
       "    <tr>\n",
       "      <th>2</th>\n",
       "      <td>37</td>\n",
       "      <td>services</td>\n",
       "      <td>married</td>\n",
       "      <td>high.school</td>\n",
       "      <td>no</td>\n",
       "      <td>yes</td>\n",
       "      <td>no</td>\n",
       "      <td>telephone</td>\n",
       "      <td>999</td>\n",
       "      <td>0</td>\n",
       "      <td>nonexistent</td>\n",
       "      <td>1.1</td>\n",
       "      <td>93.994</td>\n",
       "      <td>-36.4</td>\n",
       "      <td>4.857</td>\n",
       "      <td>5191.0</td>\n",
       "      <td>0</td>\n",
       "      <td>Adult</td>\n",
       "      <td>married</td>\n",
       "      <td>services</td>\n",
       "    </tr>\n",
       "    <tr>\n",
       "      <th>3</th>\n",
       "      <td>40</td>\n",
       "      <td>admin.</td>\n",
       "      <td>married</td>\n",
       "      <td>basic.6y</td>\n",
       "      <td>no</td>\n",
       "      <td>no</td>\n",
       "      <td>no</td>\n",
       "      <td>telephone</td>\n",
       "      <td>999</td>\n",
       "      <td>0</td>\n",
       "      <td>nonexistent</td>\n",
       "      <td>1.1</td>\n",
       "      <td>93.994</td>\n",
       "      <td>-36.4</td>\n",
       "      <td>4.857</td>\n",
       "      <td>5191.0</td>\n",
       "      <td>0</td>\n",
       "      <td>Adult</td>\n",
       "      <td>married</td>\n",
       "      <td>admin.</td>\n",
       "    </tr>\n",
       "    <tr>\n",
       "      <th>4</th>\n",
       "      <td>56</td>\n",
       "      <td>services</td>\n",
       "      <td>married</td>\n",
       "      <td>high.school</td>\n",
       "      <td>no</td>\n",
       "      <td>no</td>\n",
       "      <td>yes</td>\n",
       "      <td>telephone</td>\n",
       "      <td>999</td>\n",
       "      <td>0</td>\n",
       "      <td>nonexistent</td>\n",
       "      <td>1.1</td>\n",
       "      <td>93.994</td>\n",
       "      <td>-36.4</td>\n",
       "      <td>4.857</td>\n",
       "      <td>5191.0</td>\n",
       "      <td>0</td>\n",
       "      <td>Elderly</td>\n",
       "      <td>married</td>\n",
       "      <td>services</td>\n",
       "    </tr>\n",
       "  </tbody>\n",
       "</table>\n",
       "</div>"
      ],
      "text/plain": [
       "   age        job  marital    education default housing loan    contact  \\\n",
       "0   56  housemaid  married     basic.4y      no      no   no  telephone   \n",
       "1   57   services  married  high.school      no      no   no  telephone   \n",
       "2   37   services  married  high.school      no     yes   no  telephone   \n",
       "3   40     admin.  married     basic.6y      no      no   no  telephone   \n",
       "4   56   services  married  high.school      no      no  yes  telephone   \n",
       "\n",
       "   pdays  previous     poutcome  emp.var.rate  cons.price.idx  cons.conf.idx  \\\n",
       "0    999         0  nonexistent           1.1          93.994          -36.4   \n",
       "1    999         0  nonexistent           1.1          93.994          -36.4   \n",
       "2    999         0  nonexistent           1.1          93.994          -36.4   \n",
       "3    999         0  nonexistent           1.1          93.994          -36.4   \n",
       "4    999         0  nonexistent           1.1          93.994          -36.4   \n",
       "\n",
       "   euribor3m  nr.employed  y age_group Marital_Status   Job_Type  \n",
       "0      4.857       5191.0  0   Elderly        married  housemaid  \n",
       "1      4.857       5191.0  0   Elderly        married   services  \n",
       "2      4.857       5191.0  0     Adult        married   services  \n",
       "3      4.857       5191.0  0     Adult        married     admin.  \n",
       "4      4.857       5191.0  0   Elderly        married   services  "
      ]
     },
     "execution_count": 54,
     "metadata": {},
     "output_type": "execute_result"
    }
   ],
   "source": [
    "df.head()"
   ]
  },
  {
   "cell_type": "code",
   "execution_count": 55,
   "id": "50d1be63",
   "metadata": {
    "execution": {
     "iopub.execute_input": "2021-11-05T10:53:30.380041Z",
     "iopub.status.busy": "2021-11-05T10:53:30.379267Z",
     "iopub.status.idle": "2021-11-05T10:53:30.390238Z",
     "shell.execute_reply": "2021-11-05T10:53:30.389682Z",
     "shell.execute_reply.started": "2021-11-05T09:07:42.921094Z"
    },
    "papermill": {
     "duration": 0.181899,
     "end_time": "2021-11-05T10:53:30.390431",
     "exception": false,
     "start_time": "2021-11-05T10:53:30.208532",
     "status": "completed"
    },
    "tags": []
   },
   "outputs": [
    {
     "data": {
      "text/plain": [
       "no     34928\n",
       "yes     6248\n",
       "Name: loan, dtype: int64"
      ]
     },
     "execution_count": 55,
     "metadata": {},
     "output_type": "execute_result"
    }
   ],
   "source": [
    "df['loan'].value_counts()"
   ]
  },
  {
   "cell_type": "code",
   "execution_count": 56,
   "id": "91adbf69",
   "metadata": {},
   "outputs": [
    {
     "data": {
      "text/plain": [
       "university.degree      13894\n",
       "high.school             9512\n",
       "basic.9y                6045\n",
       "professional.course     5240\n",
       "basic.4y                4176\n",
       "basic.6y                2291\n",
       "illiterate                18\n",
       "Name: education, dtype: int64"
      ]
     },
     "execution_count": 56,
     "metadata": {},
     "output_type": "execute_result"
    }
   ],
   "source": [
    "df['education'].value_counts()"
   ]
  },
  {
   "cell_type": "code",
   "execution_count": 57,
   "id": "d0361266",
   "metadata": {},
   "outputs": [
    {
     "data": {
      "text/plain": [
       "school                 22024\n",
       "university.degree      13894\n",
       "professional.course     5240\n",
       "illiterate                18\n",
       "Name: Edu_Cat, dtype: int64"
      ]
     },
     "execution_count": 57,
     "metadata": {},
     "output_type": "execute_result"
    }
   ],
   "source": [
    "edu_map = { 'high.school' : 'school', 'basic.9y' : 'school', 'basic.4y' : 'school', 'basic.6y' : 'school'\n",
    "    \n",
    "}\n",
    "\n",
    "df['Edu_Cat'] = df['education'].replace(edu_map)\n",
    "df['Edu_Cat'].value_counts()"
   ]
  },
  {
   "cell_type": "code",
   "execution_count": 58,
   "id": "cb108677",
   "metadata": {},
   "outputs": [],
   "source": [
    "def pcat(x):\n",
    "    if x == 999:\n",
    "        return 'Never'\n",
    "    else:\n",
    "        return 'Yes'"
   ]
  },
  {
   "cell_type": "code",
   "execution_count": 59,
   "id": "4b26a2c6",
   "metadata": {},
   "outputs": [],
   "source": [
    "df['pdays'] = df['pdays'].apply(pcat)"
   ]
  },
  {
   "cell_type": "code",
   "execution_count": 60,
   "id": "81247ba3",
   "metadata": {
    "execution": {
     "iopub.execute_input": "2021-11-05T10:53:30.739177Z",
     "iopub.status.busy": "2021-11-05T10:53:30.738488Z",
     "iopub.status.idle": "2021-11-05T10:53:30.769567Z",
     "shell.execute_reply": "2021-11-05T10:53:30.770077Z",
     "shell.execute_reply.started": "2021-11-05T09:07:42.937951Z"
    },
    "papermill": {
     "duration": 0.208522,
     "end_time": "2021-11-05T10:53:30.770295",
     "exception": false,
     "start_time": "2021-11-05T10:53:30.561773",
     "status": "completed"
    },
    "tags": []
   },
   "outputs": [],
   "source": [
    "df = df.drop(columns=[\"age\"])\n",
    "df = df.drop(columns=[\"job\"])\n",
    "df = df.drop(columns=[\"marital\"])\n",
    "df = df.drop(columns=[\"education\"])\n",
    "df = df.drop(columns=[\"nr.employed\"])"
   ]
  },
  {
   "cell_type": "code",
   "execution_count": 61,
   "id": "720c80f3",
   "metadata": {
    "execution": {
     "iopub.execute_input": "2021-11-05T10:53:31.126354Z",
     "iopub.status.busy": "2021-11-05T10:53:31.124795Z",
     "iopub.status.idle": "2021-11-05T10:53:31.146867Z",
     "shell.execute_reply": "2021-11-05T10:53:31.147508Z",
     "shell.execute_reply.started": "2021-11-05T09:07:42.973922Z"
    },
    "papermill": {
     "duration": 0.202419,
     "end_time": "2021-11-05T10:53:31.147694",
     "exception": false,
     "start_time": "2021-11-05T10:53:30.945275",
     "status": "completed"
    },
    "tags": []
   },
   "outputs": [
    {
     "data": {
      "text/html": [
       "<div>\n",
       "<style scoped>\n",
       "    .dataframe tbody tr th:only-of-type {\n",
       "        vertical-align: middle;\n",
       "    }\n",
       "\n",
       "    .dataframe tbody tr th {\n",
       "        vertical-align: top;\n",
       "    }\n",
       "\n",
       "    .dataframe thead th {\n",
       "        text-align: right;\n",
       "    }\n",
       "</style>\n",
       "<table border=\"1\" class=\"dataframe\">\n",
       "  <thead>\n",
       "    <tr style=\"text-align: right;\">\n",
       "      <th></th>\n",
       "      <th>default</th>\n",
       "      <th>housing</th>\n",
       "      <th>loan</th>\n",
       "      <th>contact</th>\n",
       "      <th>pdays</th>\n",
       "      <th>previous</th>\n",
       "      <th>poutcome</th>\n",
       "      <th>emp.var.rate</th>\n",
       "      <th>cons.price.idx</th>\n",
       "      <th>cons.conf.idx</th>\n",
       "      <th>euribor3m</th>\n",
       "      <th>y</th>\n",
       "      <th>age_group</th>\n",
       "      <th>Marital_Status</th>\n",
       "      <th>Job_Type</th>\n",
       "      <th>Edu_Cat</th>\n",
       "    </tr>\n",
       "  </thead>\n",
       "  <tbody>\n",
       "    <tr>\n",
       "      <th>0</th>\n",
       "      <td>no</td>\n",
       "      <td>no</td>\n",
       "      <td>no</td>\n",
       "      <td>telephone</td>\n",
       "      <td>Never</td>\n",
       "      <td>0</td>\n",
       "      <td>nonexistent</td>\n",
       "      <td>1.1</td>\n",
       "      <td>93.994</td>\n",
       "      <td>-36.4</td>\n",
       "      <td>4.857</td>\n",
       "      <td>0</td>\n",
       "      <td>Elderly</td>\n",
       "      <td>married</td>\n",
       "      <td>housemaid</td>\n",
       "      <td>school</td>\n",
       "    </tr>\n",
       "    <tr>\n",
       "      <th>1</th>\n",
       "      <td>no</td>\n",
       "      <td>no</td>\n",
       "      <td>no</td>\n",
       "      <td>telephone</td>\n",
       "      <td>Never</td>\n",
       "      <td>0</td>\n",
       "      <td>nonexistent</td>\n",
       "      <td>1.1</td>\n",
       "      <td>93.994</td>\n",
       "      <td>-36.4</td>\n",
       "      <td>4.857</td>\n",
       "      <td>0</td>\n",
       "      <td>Elderly</td>\n",
       "      <td>married</td>\n",
       "      <td>services</td>\n",
       "      <td>school</td>\n",
       "    </tr>\n",
       "    <tr>\n",
       "      <th>2</th>\n",
       "      <td>no</td>\n",
       "      <td>yes</td>\n",
       "      <td>no</td>\n",
       "      <td>telephone</td>\n",
       "      <td>Never</td>\n",
       "      <td>0</td>\n",
       "      <td>nonexistent</td>\n",
       "      <td>1.1</td>\n",
       "      <td>93.994</td>\n",
       "      <td>-36.4</td>\n",
       "      <td>4.857</td>\n",
       "      <td>0</td>\n",
       "      <td>Adult</td>\n",
       "      <td>married</td>\n",
       "      <td>services</td>\n",
       "      <td>school</td>\n",
       "    </tr>\n",
       "    <tr>\n",
       "      <th>3</th>\n",
       "      <td>no</td>\n",
       "      <td>no</td>\n",
       "      <td>no</td>\n",
       "      <td>telephone</td>\n",
       "      <td>Never</td>\n",
       "      <td>0</td>\n",
       "      <td>nonexistent</td>\n",
       "      <td>1.1</td>\n",
       "      <td>93.994</td>\n",
       "      <td>-36.4</td>\n",
       "      <td>4.857</td>\n",
       "      <td>0</td>\n",
       "      <td>Adult</td>\n",
       "      <td>married</td>\n",
       "      <td>admin.</td>\n",
       "      <td>school</td>\n",
       "    </tr>\n",
       "    <tr>\n",
       "      <th>4</th>\n",
       "      <td>no</td>\n",
       "      <td>no</td>\n",
       "      <td>yes</td>\n",
       "      <td>telephone</td>\n",
       "      <td>Never</td>\n",
       "      <td>0</td>\n",
       "      <td>nonexistent</td>\n",
       "      <td>1.1</td>\n",
       "      <td>93.994</td>\n",
       "      <td>-36.4</td>\n",
       "      <td>4.857</td>\n",
       "      <td>0</td>\n",
       "      <td>Elderly</td>\n",
       "      <td>married</td>\n",
       "      <td>services</td>\n",
       "      <td>school</td>\n",
       "    </tr>\n",
       "  </tbody>\n",
       "</table>\n",
       "</div>"
      ],
      "text/plain": [
       "  default housing loan    contact  pdays  previous     poutcome  emp.var.rate  \\\n",
       "0      no      no   no  telephone  Never         0  nonexistent           1.1   \n",
       "1      no      no   no  telephone  Never         0  nonexistent           1.1   \n",
       "2      no     yes   no  telephone  Never         0  nonexistent           1.1   \n",
       "3      no      no   no  telephone  Never         0  nonexistent           1.1   \n",
       "4      no      no  yes  telephone  Never         0  nonexistent           1.1   \n",
       "\n",
       "   cons.price.idx  cons.conf.idx  euribor3m  y age_group Marital_Status  \\\n",
       "0          93.994          -36.4      4.857  0   Elderly        married   \n",
       "1          93.994          -36.4      4.857  0   Elderly        married   \n",
       "2          93.994          -36.4      4.857  0     Adult        married   \n",
       "3          93.994          -36.4      4.857  0     Adult        married   \n",
       "4          93.994          -36.4      4.857  0   Elderly        married   \n",
       "\n",
       "    Job_Type Edu_Cat  \n",
       "0  housemaid  school  \n",
       "1   services  school  \n",
       "2   services  school  \n",
       "3     admin.  school  \n",
       "4   services  school  "
      ]
     },
     "execution_count": 61,
     "metadata": {},
     "output_type": "execute_result"
    }
   ],
   "source": [
    "df.head()"
   ]
  },
  {
   "cell_type": "code",
   "execution_count": 62,
   "id": "62542f06",
   "metadata": {
    "execution": {
     "iopub.execute_input": "2021-11-05T10:53:31.500227Z",
     "iopub.status.busy": "2021-11-05T10:53:31.499166Z",
     "iopub.status.idle": "2021-11-05T10:53:31.521120Z",
     "shell.execute_reply": "2021-11-05T10:53:31.521628Z",
     "shell.execute_reply.started": "2021-11-05T10:38:12.651617Z"
    },
    "papermill": {
     "duration": 0.201898,
     "end_time": "2021-11-05T10:53:31.521832",
     "exception": false,
     "start_time": "2021-11-05T10:53:31.319934",
     "status": "completed"
    },
    "tags": []
   },
   "outputs": [
    {
     "data": {
      "text/html": [
       "<div>\n",
       "<style scoped>\n",
       "    .dataframe tbody tr th:only-of-type {\n",
       "        vertical-align: middle;\n",
       "    }\n",
       "\n",
       "    .dataframe tbody tr th {\n",
       "        vertical-align: top;\n",
       "    }\n",
       "\n",
       "    .dataframe thead th {\n",
       "        text-align: right;\n",
       "    }\n",
       "</style>\n",
       "<table border=\"1\" class=\"dataframe\">\n",
       "  <thead>\n",
       "    <tr style=\"text-align: right;\">\n",
       "      <th></th>\n",
       "      <th>default</th>\n",
       "      <th>housing</th>\n",
       "      <th>loan</th>\n",
       "      <th>contact</th>\n",
       "      <th>pdays</th>\n",
       "      <th>previous</th>\n",
       "      <th>poutcome</th>\n",
       "      <th>emp.var.rate</th>\n",
       "      <th>cons.price.idx</th>\n",
       "      <th>cons.conf.idx</th>\n",
       "      <th>euribor3m</th>\n",
       "      <th>y</th>\n",
       "      <th>age_group</th>\n",
       "      <th>Marital_Status</th>\n",
       "      <th>Job_Type</th>\n",
       "      <th>Edu_Cat</th>\n",
       "    </tr>\n",
       "  </thead>\n",
       "  <tbody>\n",
       "    <tr>\n",
       "      <th>41183</th>\n",
       "      <td>no</td>\n",
       "      <td>yes</td>\n",
       "      <td>no</td>\n",
       "      <td>cellular</td>\n",
       "      <td>Never</td>\n",
       "      <td>0</td>\n",
       "      <td>nonexistent</td>\n",
       "      <td>-1.1</td>\n",
       "      <td>94.767</td>\n",
       "      <td>-50.8</td>\n",
       "      <td>1.028</td>\n",
       "      <td>1</td>\n",
       "      <td>Elderly</td>\n",
       "      <td>married</td>\n",
       "      <td>retired</td>\n",
       "      <td>professional.course</td>\n",
       "    </tr>\n",
       "    <tr>\n",
       "      <th>41184</th>\n",
       "      <td>no</td>\n",
       "      <td>no</td>\n",
       "      <td>no</td>\n",
       "      <td>cellular</td>\n",
       "      <td>Never</td>\n",
       "      <td>0</td>\n",
       "      <td>nonexistent</td>\n",
       "      <td>-1.1</td>\n",
       "      <td>94.767</td>\n",
       "      <td>-50.8</td>\n",
       "      <td>1.028</td>\n",
       "      <td>0</td>\n",
       "      <td>Adult</td>\n",
       "      <td>married</td>\n",
       "      <td>blue-collar</td>\n",
       "      <td>professional.course</td>\n",
       "    </tr>\n",
       "    <tr>\n",
       "      <th>41185</th>\n",
       "      <td>no</td>\n",
       "      <td>yes</td>\n",
       "      <td>no</td>\n",
       "      <td>cellular</td>\n",
       "      <td>Never</td>\n",
       "      <td>0</td>\n",
       "      <td>nonexistent</td>\n",
       "      <td>-1.1</td>\n",
       "      <td>94.767</td>\n",
       "      <td>-50.8</td>\n",
       "      <td>1.028</td>\n",
       "      <td>0</td>\n",
       "      <td>Elderly</td>\n",
       "      <td>married</td>\n",
       "      <td>retired</td>\n",
       "      <td>university.degree</td>\n",
       "    </tr>\n",
       "    <tr>\n",
       "      <th>41186</th>\n",
       "      <td>no</td>\n",
       "      <td>no</td>\n",
       "      <td>no</td>\n",
       "      <td>cellular</td>\n",
       "      <td>Never</td>\n",
       "      <td>0</td>\n",
       "      <td>nonexistent</td>\n",
       "      <td>-1.1</td>\n",
       "      <td>94.767</td>\n",
       "      <td>-50.8</td>\n",
       "      <td>1.028</td>\n",
       "      <td>1</td>\n",
       "      <td>Adult</td>\n",
       "      <td>married</td>\n",
       "      <td>technician</td>\n",
       "      <td>professional.course</td>\n",
       "    </tr>\n",
       "    <tr>\n",
       "      <th>41187</th>\n",
       "      <td>no</td>\n",
       "      <td>yes</td>\n",
       "      <td>no</td>\n",
       "      <td>cellular</td>\n",
       "      <td>Never</td>\n",
       "      <td>1</td>\n",
       "      <td>failure</td>\n",
       "      <td>-1.1</td>\n",
       "      <td>94.767</td>\n",
       "      <td>-50.8</td>\n",
       "      <td>1.028</td>\n",
       "      <td>0</td>\n",
       "      <td>Elderly</td>\n",
       "      <td>married</td>\n",
       "      <td>retired</td>\n",
       "      <td>professional.course</td>\n",
       "    </tr>\n",
       "  </tbody>\n",
       "</table>\n",
       "</div>"
      ],
      "text/plain": [
       "      default housing loan   contact  pdays  previous     poutcome  \\\n",
       "41183      no     yes   no  cellular  Never         0  nonexistent   \n",
       "41184      no      no   no  cellular  Never         0  nonexistent   \n",
       "41185      no     yes   no  cellular  Never         0  nonexistent   \n",
       "41186      no      no   no  cellular  Never         0  nonexistent   \n",
       "41187      no     yes   no  cellular  Never         1      failure   \n",
       "\n",
       "       emp.var.rate  cons.price.idx  cons.conf.idx  euribor3m  y age_group  \\\n",
       "41183          -1.1          94.767          -50.8      1.028  1   Elderly   \n",
       "41184          -1.1          94.767          -50.8      1.028  0     Adult   \n",
       "41185          -1.1          94.767          -50.8      1.028  0   Elderly   \n",
       "41186          -1.1          94.767          -50.8      1.028  1     Adult   \n",
       "41187          -1.1          94.767          -50.8      1.028  0   Elderly   \n",
       "\n",
       "      Marital_Status     Job_Type              Edu_Cat  \n",
       "41183        married      retired  professional.course  \n",
       "41184        married  blue-collar  professional.course  \n",
       "41185        married      retired    university.degree  \n",
       "41186        married   technician  professional.course  \n",
       "41187        married      retired  professional.course  "
      ]
     },
     "execution_count": 62,
     "metadata": {},
     "output_type": "execute_result"
    }
   ],
   "source": [
    "df.tail()"
   ]
  },
  {
   "cell_type": "markdown",
   "id": "6b38cc0a",
   "metadata": {
    "papermill": {
     "duration": 0.172782,
     "end_time": "2021-11-05T10:53:31.867658",
     "exception": false,
     "start_time": "2021-11-05T10:53:31.694876",
     "status": "completed"
    },
    "tags": []
   },
   "source": [
    "SUMMARY FOR FEATURE HANDLING \n",
    "\n",
    "all the feature for machine learning will be handled as below\n",
    "\n",
    "Ordinal Encoding:\n",
    "    - Age Group \n",
    "    - Edu_Cat\n",
    "\n",
    "One-hot Encoding:\n",
    "    - poutcome\n",
    "    - Job_Type\n",
    "\n",
    "Binary Encoding:\n",
    "    - Marital\n",
    "    - Default\n",
    "    - Housing\n",
    "    - Loan\n",
    "    - Contact\n",
    "    - pdays"
   ]
  },
  {
   "cell_type": "markdown",
   "id": "dc64b12c",
   "metadata": {
    "papermill": {
     "duration": 0.169872,
     "end_time": "2021-11-05T10:53:32.211598",
     "exception": false,
     "start_time": "2021-11-05T10:53:32.041726",
     "status": "completed"
    },
    "tags": []
   },
   "source": [
    "## Data Splitting"
   ]
  },
  {
   "cell_type": "code",
   "execution_count": 63,
   "id": "dc586a51",
   "metadata": {
    "execution": {
     "iopub.execute_input": "2021-11-05T10:53:32.563499Z",
     "iopub.status.busy": "2021-11-05T10:53:32.562755Z",
     "iopub.status.idle": "2021-11-05T10:53:32.570623Z",
     "shell.execute_reply": "2021-11-05T10:53:32.571251Z",
     "shell.execute_reply.started": "2021-11-05T09:07:42.997083Z"
    },
    "papermill": {
     "duration": 0.183382,
     "end_time": "2021-11-05T10:53:32.571472",
     "exception": false,
     "start_time": "2021-11-05T10:53:32.388090",
     "status": "completed"
    },
    "tags": []
   },
   "outputs": [],
   "source": [
    "x = df.drop(columns='y')\n",
    "y = df['y']"
   ]
  },
  {
   "cell_type": "code",
   "execution_count": 64,
   "id": "0ca894c3",
   "metadata": {
    "execution": {
     "iopub.execute_input": "2021-11-05T10:53:32.925128Z",
     "iopub.status.busy": "2021-11-05T10:53:32.924424Z",
     "iopub.status.idle": "2021-11-05T10:53:32.929913Z",
     "shell.execute_reply": "2021-11-05T10:53:32.929224Z",
     "shell.execute_reply.started": "2021-11-05T09:07:43.017999Z"
    },
    "papermill": {
     "duration": 0.186032,
     "end_time": "2021-11-05T10:53:32.930068",
     "exception": false,
     "start_time": "2021-11-05T10:53:32.744036",
     "status": "completed"
    },
    "tags": []
   },
   "outputs": [
    {
     "data": {
      "text/plain": [
       "(41176, 15)"
      ]
     },
     "execution_count": 64,
     "metadata": {},
     "output_type": "execute_result"
    }
   ],
   "source": [
    "x.shape"
   ]
  },
  {
   "cell_type": "code",
   "execution_count": 65,
   "id": "b063da00",
   "metadata": {
    "execution": {
     "iopub.execute_input": "2021-11-05T10:53:33.278966Z",
     "iopub.status.busy": "2021-11-05T10:53:33.278270Z",
     "iopub.status.idle": "2021-11-05T10:53:33.322358Z",
     "shell.execute_reply": "2021-11-05T10:53:33.321734Z",
     "shell.execute_reply.started": "2021-11-05T09:07:43.026722Z"
    },
    "papermill": {
     "duration": 0.220075,
     "end_time": "2021-11-05T10:53:33.322514",
     "exception": false,
     "start_time": "2021-11-05T10:53:33.102439",
     "status": "completed"
    },
    "tags": []
   },
   "outputs": [],
   "source": [
    "x_train,x_test,y_train,y_test = train_test_split(x,y,train_size=.80,stratify=y,random_state=42)"
   ]
  },
  {
   "cell_type": "markdown",
   "id": "bb28d66e",
   "metadata": {
    "papermill": {
     "duration": 0.167503,
     "end_time": "2021-11-05T10:53:33.658080",
     "exception": false,
     "start_time": "2021-11-05T10:53:33.490577",
     "status": "completed"
    },
    "tags": []
   },
   "source": [
    "## Machine Learning Function"
   ]
  },
  {
   "cell_type": "code",
   "execution_count": 66,
   "id": "478f6778",
   "metadata": {
    "execution": {
     "iopub.execute_input": "2021-11-05T10:53:34.004043Z",
     "iopub.status.busy": "2021-11-05T10:53:34.003365Z",
     "iopub.status.idle": "2021-11-05T10:53:34.278261Z",
     "shell.execute_reply": "2021-11-05T10:53:34.277430Z",
     "shell.execute_reply.started": "2021-11-05T09:07:43.066004Z"
    },
    "papermill": {
     "duration": 0.448473,
     "end_time": "2021-11-05T10:53:34.278519",
     "exception": false,
     "start_time": "2021-11-05T10:53:33.830046",
     "status": "completed"
    },
    "tags": []
   },
   "outputs": [],
   "source": [
    "from sklearn.svm import SVC\n",
    "from sklearn.linear_model import LogisticRegression\n",
    "from sklearn.ensemble import RandomForestClassifier\n",
    "from sklearn.ensemble import GradientBoostingClassifier\n",
    "\n",
    "from sklearn.preprocessing import StandardScaler, RobustScaler\n",
    "\n",
    "from sklearn.model_selection import train_test_split, StratifiedKFold, GridSearchCV, cross_val_score\n",
    "from sklearn.metrics import accuracy_score, recall_score, precision_score, f1_score, confusion_matrix, classification_report, roc_curve,roc_auc_score"
   ]
  },
  {
   "cell_type": "markdown",
   "id": "dc7f8ae4",
   "metadata": {
    "papermill": {
     "duration": 0.178927,
     "end_time": "2021-11-05T10:53:34.662616",
     "exception": false,
     "start_time": "2021-11-05T10:53:34.483689",
     "status": "completed"
    },
    "tags": []
   },
   "source": [
    "Function to simplify evaluation matrix"
   ]
  },
  {
   "cell_type": "code",
   "execution_count": 67,
   "id": "7c8e469e",
   "metadata": {
    "execution": {
     "iopub.execute_input": "2021-11-05T10:53:35.087029Z",
     "iopub.status.busy": "2021-11-05T10:53:35.086101Z",
     "iopub.status.idle": "2021-11-05T10:53:35.090865Z",
     "shell.execute_reply": "2021-11-05T10:53:35.091447Z",
     "shell.execute_reply.started": "2021-11-05T09:07:43.128795Z"
    },
    "papermill": {
     "duration": 0.253259,
     "end_time": "2021-11-05T10:53:35.091641",
     "exception": false,
     "start_time": "2021-11-05T10:53:34.838382",
     "status": "completed"
    },
    "tags": []
   },
   "outputs": [],
   "source": [
    "def log_evaluation(data_sample_train,data_sample_test, aktual_train,aktual_test, model):\n",
    "    hasil_model_train = model.predict(data_sample_train)\n",
    "    accuracy_train = accuracy_score(aktual_train, hasil_model_train)\n",
    "    recall_train = recall_score(aktual_train, hasil_model_train)\n",
    "    precision_train = precision_score(aktual_train, hasil_model_train)\n",
    "    f1_train = f1_score(aktual_train, hasil_model_train)\n",
    "    rocauc_train = roc_auc_score(aktual_train,hasil_model_train)\n",
    "\n",
    "    hasil_model_test = model.predict(data_sample_test)\n",
    "    accuracy_test = accuracy_score(aktual_test, hasil_model_test)\n",
    "    recall_test = recall_score(aktual_test, hasil_model_test)\n",
    "    precision_test = precision_score(aktual_test, hasil_model_test)\n",
    "    f1_test = f1_score(aktual_test, hasil_model_test)\n",
    "    rocauc_test = roc_auc_score(aktual_test,hasil_model_test)\n",
    "    \n",
    "    cm = confusion_matrix(aktual_test, hasil_model_test, labels=[1,0])\n",
    "    df_cm = pd.DataFrame(cm, index = [\"akt1\", \"akt0\"],columns=[\"pred 1\" , \"pred 0\"])\n",
    "    cr = classification_report(aktual_test, hasil_model_test)\n",
    "\n",
    "\n",
    "    hasil_evaluation = pd.DataFrame(data= {\"Training\" : [accuracy_train, recall_train, precision_train,f1_train,rocauc_train],\"Testing\" : [accuracy_test, recall_test, precision_test,f1_test,rocauc_test]}, index=[\"accuracy\", \"recall\" , \"precission\", \"F1 Score\", \"ROCAUC\"] )\n",
    "\n",
    "    return hasil_model_train, hasil_model_test, hasil_evaluation, df_cm, cr"
   ]
  },
  {
   "cell_type": "code",
   "execution_count": 68,
   "id": "29107bd5",
   "metadata": {
    "execution": {
     "iopub.execute_input": "2021-11-05T10:53:35.474516Z",
     "iopub.status.busy": "2021-11-05T10:53:35.473022Z",
     "iopub.status.idle": "2021-11-05T10:53:35.497020Z",
     "shell.execute_reply": "2021-11-05T10:53:35.497695Z",
     "shell.execute_reply.started": "2021-11-05T09:07:43.141005Z"
    },
    "papermill": {
     "duration": 0.206963,
     "end_time": "2021-11-05T10:53:35.497892",
     "exception": false,
     "start_time": "2021-11-05T10:53:35.290929",
     "status": "completed"
    },
    "tags": []
   },
   "outputs": [
    {
     "data": {
      "text/html": [
       "<div>\n",
       "<style scoped>\n",
       "    .dataframe tbody tr th:only-of-type {\n",
       "        vertical-align: middle;\n",
       "    }\n",
       "\n",
       "    .dataframe tbody tr th {\n",
       "        vertical-align: top;\n",
       "    }\n",
       "\n",
       "    .dataframe thead th {\n",
       "        text-align: right;\n",
       "    }\n",
       "</style>\n",
       "<table border=\"1\" class=\"dataframe\">\n",
       "  <thead>\n",
       "    <tr style=\"text-align: right;\">\n",
       "      <th></th>\n",
       "      <th>default</th>\n",
       "      <th>housing</th>\n",
       "      <th>loan</th>\n",
       "      <th>contact</th>\n",
       "      <th>pdays</th>\n",
       "      <th>previous</th>\n",
       "      <th>poutcome</th>\n",
       "      <th>emp.var.rate</th>\n",
       "      <th>cons.price.idx</th>\n",
       "      <th>cons.conf.idx</th>\n",
       "      <th>euribor3m</th>\n",
       "      <th>y</th>\n",
       "      <th>age_group</th>\n",
       "      <th>Marital_Status</th>\n",
       "      <th>Job_Type</th>\n",
       "      <th>Edu_Cat</th>\n",
       "    </tr>\n",
       "  </thead>\n",
       "  <tbody>\n",
       "    <tr>\n",
       "      <th>0</th>\n",
       "      <td>no</td>\n",
       "      <td>no</td>\n",
       "      <td>no</td>\n",
       "      <td>telephone</td>\n",
       "      <td>Never</td>\n",
       "      <td>0</td>\n",
       "      <td>nonexistent</td>\n",
       "      <td>1.1</td>\n",
       "      <td>93.994</td>\n",
       "      <td>-36.4</td>\n",
       "      <td>4.857</td>\n",
       "      <td>0</td>\n",
       "      <td>Elderly</td>\n",
       "      <td>married</td>\n",
       "      <td>housemaid</td>\n",
       "      <td>school</td>\n",
       "    </tr>\n",
       "    <tr>\n",
       "      <th>1</th>\n",
       "      <td>no</td>\n",
       "      <td>no</td>\n",
       "      <td>no</td>\n",
       "      <td>telephone</td>\n",
       "      <td>Never</td>\n",
       "      <td>0</td>\n",
       "      <td>nonexistent</td>\n",
       "      <td>1.1</td>\n",
       "      <td>93.994</td>\n",
       "      <td>-36.4</td>\n",
       "      <td>4.857</td>\n",
       "      <td>0</td>\n",
       "      <td>Elderly</td>\n",
       "      <td>married</td>\n",
       "      <td>services</td>\n",
       "      <td>school</td>\n",
       "    </tr>\n",
       "    <tr>\n",
       "      <th>2</th>\n",
       "      <td>no</td>\n",
       "      <td>yes</td>\n",
       "      <td>no</td>\n",
       "      <td>telephone</td>\n",
       "      <td>Never</td>\n",
       "      <td>0</td>\n",
       "      <td>nonexistent</td>\n",
       "      <td>1.1</td>\n",
       "      <td>93.994</td>\n",
       "      <td>-36.4</td>\n",
       "      <td>4.857</td>\n",
       "      <td>0</td>\n",
       "      <td>Adult</td>\n",
       "      <td>married</td>\n",
       "      <td>services</td>\n",
       "      <td>school</td>\n",
       "    </tr>\n",
       "    <tr>\n",
       "      <th>3</th>\n",
       "      <td>no</td>\n",
       "      <td>no</td>\n",
       "      <td>no</td>\n",
       "      <td>telephone</td>\n",
       "      <td>Never</td>\n",
       "      <td>0</td>\n",
       "      <td>nonexistent</td>\n",
       "      <td>1.1</td>\n",
       "      <td>93.994</td>\n",
       "      <td>-36.4</td>\n",
       "      <td>4.857</td>\n",
       "      <td>0</td>\n",
       "      <td>Adult</td>\n",
       "      <td>married</td>\n",
       "      <td>admin.</td>\n",
       "      <td>school</td>\n",
       "    </tr>\n",
       "    <tr>\n",
       "      <th>4</th>\n",
       "      <td>no</td>\n",
       "      <td>no</td>\n",
       "      <td>yes</td>\n",
       "      <td>telephone</td>\n",
       "      <td>Never</td>\n",
       "      <td>0</td>\n",
       "      <td>nonexistent</td>\n",
       "      <td>1.1</td>\n",
       "      <td>93.994</td>\n",
       "      <td>-36.4</td>\n",
       "      <td>4.857</td>\n",
       "      <td>0</td>\n",
       "      <td>Elderly</td>\n",
       "      <td>married</td>\n",
       "      <td>services</td>\n",
       "      <td>school</td>\n",
       "    </tr>\n",
       "  </tbody>\n",
       "</table>\n",
       "</div>"
      ],
      "text/plain": [
       "  default housing loan    contact  pdays  previous     poutcome  emp.var.rate  \\\n",
       "0      no      no   no  telephone  Never         0  nonexistent           1.1   \n",
       "1      no      no   no  telephone  Never         0  nonexistent           1.1   \n",
       "2      no     yes   no  telephone  Never         0  nonexistent           1.1   \n",
       "3      no      no   no  telephone  Never         0  nonexistent           1.1   \n",
       "4      no      no  yes  telephone  Never         0  nonexistent           1.1   \n",
       "\n",
       "   cons.price.idx  cons.conf.idx  euribor3m  y age_group Marital_Status  \\\n",
       "0          93.994          -36.4      4.857  0   Elderly        married   \n",
       "1          93.994          -36.4      4.857  0   Elderly        married   \n",
       "2          93.994          -36.4      4.857  0     Adult        married   \n",
       "3          93.994          -36.4      4.857  0     Adult        married   \n",
       "4          93.994          -36.4      4.857  0   Elderly        married   \n",
       "\n",
       "    Job_Type Edu_Cat  \n",
       "0  housemaid  school  \n",
       "1   services  school  \n",
       "2   services  school  \n",
       "3     admin.  school  \n",
       "4   services  school  "
      ]
     },
     "execution_count": 68,
     "metadata": {},
     "output_type": "execute_result"
    }
   ],
   "source": [
    "df.head()"
   ]
  },
  {
   "cell_type": "markdown",
   "id": "a6a1b360",
   "metadata": {
    "papermill": {
     "duration": 0.1714,
     "end_time": "2021-11-05T10:53:35.841963",
     "exception": false,
     "start_time": "2021-11-05T10:53:35.670563",
     "status": "completed"
    },
    "tags": []
   },
   "source": [
    "## Pipeline Preprocessing"
   ]
  },
  {
   "cell_type": "code",
   "execution_count": 69,
   "id": "31a7f63b",
   "metadata": {
    "execution": {
     "iopub.execute_input": "2021-11-05T10:53:36.196383Z",
     "iopub.status.busy": "2021-11-05T10:53:36.192578Z",
     "iopub.status.idle": "2021-11-05T10:53:36.198909Z",
     "shell.execute_reply": "2021-11-05T10:53:36.199782Z",
     "shell.execute_reply.started": "2021-11-05T09:07:43.171673Z"
    },
    "papermill": {
     "duration": 0.183716,
     "end_time": "2021-11-05T10:53:36.200077",
     "exception": false,
     "start_time": "2021-11-05T10:53:36.016361",
     "status": "completed"
    },
    "tags": []
   },
   "outputs": [],
   "source": [
    "num_columns = ['previous','emp.var.rate','cons.price.idx','cons.conf.idx',\"euribor3m\",]\n",
    "\n",
    "cat_columns = [\"Marital_Status\", \"default\",\"housing\",\"loan\",\"contact\",\"pdays\",\"poutcome\",\"Job_Type\",\"age_group\",\"Edu_Cat\"]\n",
    "\n",
    "binary_columns = [\"Marital_Status\", \"default\",\"housing\",\"loan\",\"contact\",\"pdays\"]\n",
    "\n",
    "OH_columns = [\"poutcome\",\"Job_Type\"]\n",
    "\n",
    "ordinal1_columns = [\"age_group\"]\n",
    "\n",
    "ordinal2_columns = [\"Edu_Cat\"]"
   ]
  },
  {
   "cell_type": "code",
   "execution_count": 70,
   "id": "ea985868",
   "metadata": {
    "execution": {
     "iopub.execute_input": "2021-11-05T10:53:36.553969Z",
     "iopub.status.busy": "2021-11-05T10:53:36.553023Z",
     "iopub.status.idle": "2021-11-05T10:53:36.555920Z",
     "shell.execute_reply": "2021-11-05T10:53:36.555227Z",
     "shell.execute_reply.started": "2021-11-05T09:07:43.178715Z"
    },
    "papermill": {
     "duration": 0.18163,
     "end_time": "2021-11-05T10:53:36.556072",
     "exception": false,
     "start_time": "2021-11-05T10:53:36.374442",
     "status": "completed"
    },
    "tags": []
   },
   "outputs": [],
   "source": [
    "from sklearn.preprocessing import OrdinalEncoder, OneHotEncoder, LabelEncoder"
   ]
  },
  {
   "cell_type": "markdown",
   "id": "764070aa",
   "metadata": {
    "papermill": {
     "duration": 0.176702,
     "end_time": "2021-11-05T10:53:36.909662",
     "exception": false,
     "start_time": "2021-11-05T10:53:36.732960",
     "status": "completed"
    },
    "tags": []
   },
   "source": [
    "## Base Modeling"
   ]
  },
  {
   "cell_type": "markdown",
   "id": "47e63264",
   "metadata": {
    "papermill": {
     "duration": 0.173077,
     "end_time": "2021-11-05T10:53:37.254064",
     "exception": false,
     "start_time": "2021-11-05T10:53:37.080987",
     "status": "completed"
    },
    "tags": []
   },
   "source": [
    "### LOGISTIC REGRESSION BASE MODEL"
   ]
  },
  {
   "cell_type": "code",
   "execution_count": 71,
   "id": "ce304671",
   "metadata": {
    "execution": {
     "iopub.execute_input": "2021-11-05T10:53:37.609789Z",
     "iopub.status.busy": "2021-11-05T10:53:37.608714Z",
     "iopub.status.idle": "2021-11-05T10:53:37.611855Z",
     "shell.execute_reply": "2021-11-05T10:53:37.612391Z",
     "shell.execute_reply.started": "2021-11-05T09:07:43.190890Z"
    },
    "papermill": {
     "duration": 0.184047,
     "end_time": "2021-11-05T10:53:37.612588",
     "exception": false,
     "start_time": "2021-11-05T10:53:37.428541",
     "status": "completed"
    },
    "tags": []
   },
   "outputs": [],
   "source": [
    "num_pipeline = Pipeline([\n",
    "    ('imputer',SimpleImputer(strategy='mean'))\n",
    "])\n",
    "\n",
    "\n",
    "cat_pipeline = Pipeline([\n",
    "    ('encoder',OneHotEncoder())\n",
    "])\n",
    "\n",
    "\n",
    "\n",
    "preprocessor = ColumnTransformer([\n",
    "    ('numeric',num_pipeline,num_columns),\n",
    "    ('categoric1',cat_pipeline,cat_columns),\n",
    " \n",
    "])\n",
    "\n",
    "Pipe_lr = Pipeline([\n",
    "    ('prep',preprocessor),\n",
    "    ('algo',LogisticRegression(solver='liblinear'))\n",
    "\n",
    "])"
   ]
  },
  {
   "cell_type": "code",
   "execution_count": 72,
   "id": "e8f74663",
   "metadata": {
    "execution": {
     "iopub.execute_input": "2021-11-05T10:53:37.968785Z",
     "iopub.status.busy": "2021-11-05T10:53:37.967547Z",
     "iopub.status.idle": "2021-11-05T10:53:38.746695Z",
     "shell.execute_reply": "2021-11-05T10:53:38.746130Z",
     "shell.execute_reply.started": "2021-11-05T09:07:43.202307Z"
    },
    "papermill": {
     "duration": 0.959433,
     "end_time": "2021-11-05T10:53:38.746853",
     "exception": false,
     "start_time": "2021-11-05T10:53:37.787420",
     "status": "completed"
    },
    "tags": []
   },
   "outputs": [
    {
     "data": {
      "text/html": [
       "<style>#sk-container-id-1 {color: black;}#sk-container-id-1 pre{padding: 0;}#sk-container-id-1 div.sk-toggleable {background-color: white;}#sk-container-id-1 label.sk-toggleable__label {cursor: pointer;display: block;width: 100%;margin-bottom: 0;padding: 0.3em;box-sizing: border-box;text-align: center;}#sk-container-id-1 label.sk-toggleable__label-arrow:before {content: \"▸\";float: left;margin-right: 0.25em;color: #696969;}#sk-container-id-1 label.sk-toggleable__label-arrow:hover:before {color: black;}#sk-container-id-1 div.sk-estimator:hover label.sk-toggleable__label-arrow:before {color: black;}#sk-container-id-1 div.sk-toggleable__content {max-height: 0;max-width: 0;overflow: hidden;text-align: left;background-color: #f0f8ff;}#sk-container-id-1 div.sk-toggleable__content pre {margin: 0.2em;color: black;border-radius: 0.25em;background-color: #f0f8ff;}#sk-container-id-1 input.sk-toggleable__control:checked~div.sk-toggleable__content {max-height: 200px;max-width: 100%;overflow: auto;}#sk-container-id-1 input.sk-toggleable__control:checked~label.sk-toggleable__label-arrow:before {content: \"▾\";}#sk-container-id-1 div.sk-estimator input.sk-toggleable__control:checked~label.sk-toggleable__label {background-color: #d4ebff;}#sk-container-id-1 div.sk-label input.sk-toggleable__control:checked~label.sk-toggleable__label {background-color: #d4ebff;}#sk-container-id-1 input.sk-hidden--visually {border: 0;clip: rect(1px 1px 1px 1px);clip: rect(1px, 1px, 1px, 1px);height: 1px;margin: -1px;overflow: hidden;padding: 0;position: absolute;width: 1px;}#sk-container-id-1 div.sk-estimator {font-family: monospace;background-color: #f0f8ff;border: 1px dotted black;border-radius: 0.25em;box-sizing: border-box;margin-bottom: 0.5em;}#sk-container-id-1 div.sk-estimator:hover {background-color: #d4ebff;}#sk-container-id-1 div.sk-parallel-item::after {content: \"\";width: 100%;border-bottom: 1px solid gray;flex-grow: 1;}#sk-container-id-1 div.sk-label:hover label.sk-toggleable__label {background-color: #d4ebff;}#sk-container-id-1 div.sk-serial::before {content: \"\";position: absolute;border-left: 1px solid gray;box-sizing: border-box;top: 0;bottom: 0;left: 50%;z-index: 0;}#sk-container-id-1 div.sk-serial {display: flex;flex-direction: column;align-items: center;background-color: white;padding-right: 0.2em;padding-left: 0.2em;position: relative;}#sk-container-id-1 div.sk-item {position: relative;z-index: 1;}#sk-container-id-1 div.sk-parallel {display: flex;align-items: stretch;justify-content: center;background-color: white;position: relative;}#sk-container-id-1 div.sk-item::before, #sk-container-id-1 div.sk-parallel-item::before {content: \"\";position: absolute;border-left: 1px solid gray;box-sizing: border-box;top: 0;bottom: 0;left: 50%;z-index: -1;}#sk-container-id-1 div.sk-parallel-item {display: flex;flex-direction: column;z-index: 1;position: relative;background-color: white;}#sk-container-id-1 div.sk-parallel-item:first-child::after {align-self: flex-end;width: 50%;}#sk-container-id-1 div.sk-parallel-item:last-child::after {align-self: flex-start;width: 50%;}#sk-container-id-1 div.sk-parallel-item:only-child::after {width: 0;}#sk-container-id-1 div.sk-dashed-wrapped {border: 1px dashed gray;margin: 0 0.4em 0.5em 0.4em;box-sizing: border-box;padding-bottom: 0.4em;background-color: white;}#sk-container-id-1 div.sk-label label {font-family: monospace;font-weight: bold;display: inline-block;line-height: 1.2em;}#sk-container-id-1 div.sk-label-container {text-align: center;}#sk-container-id-1 div.sk-container {/* jupyter's `normalize.less` sets `[hidden] { display: none; }` but bootstrap.min.css set `[hidden] { display: none !important; }` so we also need the `!important` here to be able to override the default hidden behavior on the sphinx rendered scikit-learn.org. See: https://github.com/scikit-learn/scikit-learn/issues/21755 */display: inline-block !important;position: relative;}#sk-container-id-1 div.sk-text-repr-fallback {display: none;}</style><div id=\"sk-container-id-1\" class=\"sk-top-container\"><div class=\"sk-text-repr-fallback\"><pre>Pipeline(steps=[(&#x27;prep&#x27;,\n",
       "                 ColumnTransformer(transformers=[(&#x27;numeric&#x27;,\n",
       "                                                  Pipeline(steps=[(&#x27;imputer&#x27;,\n",
       "                                                                   SimpleImputer())]),\n",
       "                                                  [&#x27;previous&#x27;, &#x27;emp.var.rate&#x27;,\n",
       "                                                   &#x27;cons.price.idx&#x27;,\n",
       "                                                   &#x27;cons.conf.idx&#x27;,\n",
       "                                                   &#x27;euribor3m&#x27;]),\n",
       "                                                 (&#x27;categoric1&#x27;,\n",
       "                                                  Pipeline(steps=[(&#x27;encoder&#x27;,\n",
       "                                                                   OneHotEncoder())]),\n",
       "                                                  [&#x27;Marital_Status&#x27;, &#x27;default&#x27;,\n",
       "                                                   &#x27;housing&#x27;, &#x27;loan&#x27;, &#x27;contact&#x27;,\n",
       "                                                   &#x27;pdays&#x27;, &#x27;poutcome&#x27;,\n",
       "                                                   &#x27;Job_Type&#x27;, &#x27;age_group&#x27;,\n",
       "                                                   &#x27;Edu_Cat&#x27;])])),\n",
       "                (&#x27;algo&#x27;, LogisticRegression(solver=&#x27;liblinear&#x27;))])</pre><b>In a Jupyter environment, please rerun this cell to show the HTML representation or trust the notebook. <br />On GitHub, the HTML representation is unable to render, please try loading this page with nbviewer.org.</b></div><div class=\"sk-container\" hidden><div class=\"sk-item sk-dashed-wrapped\"><div class=\"sk-label-container\"><div class=\"sk-label sk-toggleable\"><input class=\"sk-toggleable__control sk-hidden--visually\" id=\"sk-estimator-id-1\" type=\"checkbox\" ><label for=\"sk-estimator-id-1\" class=\"sk-toggleable__label sk-toggleable__label-arrow\">Pipeline</label><div class=\"sk-toggleable__content\"><pre>Pipeline(steps=[(&#x27;prep&#x27;,\n",
       "                 ColumnTransformer(transformers=[(&#x27;numeric&#x27;,\n",
       "                                                  Pipeline(steps=[(&#x27;imputer&#x27;,\n",
       "                                                                   SimpleImputer())]),\n",
       "                                                  [&#x27;previous&#x27;, &#x27;emp.var.rate&#x27;,\n",
       "                                                   &#x27;cons.price.idx&#x27;,\n",
       "                                                   &#x27;cons.conf.idx&#x27;,\n",
       "                                                   &#x27;euribor3m&#x27;]),\n",
       "                                                 (&#x27;categoric1&#x27;,\n",
       "                                                  Pipeline(steps=[(&#x27;encoder&#x27;,\n",
       "                                                                   OneHotEncoder())]),\n",
       "                                                  [&#x27;Marital_Status&#x27;, &#x27;default&#x27;,\n",
       "                                                   &#x27;housing&#x27;, &#x27;loan&#x27;, &#x27;contact&#x27;,\n",
       "                                                   &#x27;pdays&#x27;, &#x27;poutcome&#x27;,\n",
       "                                                   &#x27;Job_Type&#x27;, &#x27;age_group&#x27;,\n",
       "                                                   &#x27;Edu_Cat&#x27;])])),\n",
       "                (&#x27;algo&#x27;, LogisticRegression(solver=&#x27;liblinear&#x27;))])</pre></div></div></div><div class=\"sk-serial\"><div class=\"sk-item sk-dashed-wrapped\"><div class=\"sk-label-container\"><div class=\"sk-label sk-toggleable\"><input class=\"sk-toggleable__control sk-hidden--visually\" id=\"sk-estimator-id-2\" type=\"checkbox\" ><label for=\"sk-estimator-id-2\" class=\"sk-toggleable__label sk-toggleable__label-arrow\">prep: ColumnTransformer</label><div class=\"sk-toggleable__content\"><pre>ColumnTransformer(transformers=[(&#x27;numeric&#x27;,\n",
       "                                 Pipeline(steps=[(&#x27;imputer&#x27;, SimpleImputer())]),\n",
       "                                 [&#x27;previous&#x27;, &#x27;emp.var.rate&#x27;, &#x27;cons.price.idx&#x27;,\n",
       "                                  &#x27;cons.conf.idx&#x27;, &#x27;euribor3m&#x27;]),\n",
       "                                (&#x27;categoric1&#x27;,\n",
       "                                 Pipeline(steps=[(&#x27;encoder&#x27;, OneHotEncoder())]),\n",
       "                                 [&#x27;Marital_Status&#x27;, &#x27;default&#x27;, &#x27;housing&#x27;,\n",
       "                                  &#x27;loan&#x27;, &#x27;contact&#x27;, &#x27;pdays&#x27;, &#x27;poutcome&#x27;,\n",
       "                                  &#x27;Job_Type&#x27;, &#x27;age_group&#x27;, &#x27;Edu_Cat&#x27;])])</pre></div></div></div><div class=\"sk-parallel\"><div class=\"sk-parallel-item\"><div class=\"sk-item\"><div class=\"sk-label-container\"><div class=\"sk-label sk-toggleable\"><input class=\"sk-toggleable__control sk-hidden--visually\" id=\"sk-estimator-id-3\" type=\"checkbox\" ><label for=\"sk-estimator-id-3\" class=\"sk-toggleable__label sk-toggleable__label-arrow\">numeric</label><div class=\"sk-toggleable__content\"><pre>[&#x27;previous&#x27;, &#x27;emp.var.rate&#x27;, &#x27;cons.price.idx&#x27;, &#x27;cons.conf.idx&#x27;, &#x27;euribor3m&#x27;]</pre></div></div></div><div class=\"sk-serial\"><div class=\"sk-item\"><div class=\"sk-serial\"><div class=\"sk-item\"><div class=\"sk-estimator sk-toggleable\"><input class=\"sk-toggleable__control sk-hidden--visually\" id=\"sk-estimator-id-4\" type=\"checkbox\" ><label for=\"sk-estimator-id-4\" class=\"sk-toggleable__label sk-toggleable__label-arrow\">SimpleImputer</label><div class=\"sk-toggleable__content\"><pre>SimpleImputer()</pre></div></div></div></div></div></div></div></div><div class=\"sk-parallel-item\"><div class=\"sk-item\"><div class=\"sk-label-container\"><div class=\"sk-label sk-toggleable\"><input class=\"sk-toggleable__control sk-hidden--visually\" id=\"sk-estimator-id-5\" type=\"checkbox\" ><label for=\"sk-estimator-id-5\" class=\"sk-toggleable__label sk-toggleable__label-arrow\">categoric1</label><div class=\"sk-toggleable__content\"><pre>[&#x27;Marital_Status&#x27;, &#x27;default&#x27;, &#x27;housing&#x27;, &#x27;loan&#x27;, &#x27;contact&#x27;, &#x27;pdays&#x27;, &#x27;poutcome&#x27;, &#x27;Job_Type&#x27;, &#x27;age_group&#x27;, &#x27;Edu_Cat&#x27;]</pre></div></div></div><div class=\"sk-serial\"><div class=\"sk-item\"><div class=\"sk-serial\"><div class=\"sk-item\"><div class=\"sk-estimator sk-toggleable\"><input class=\"sk-toggleable__control sk-hidden--visually\" id=\"sk-estimator-id-6\" type=\"checkbox\" ><label for=\"sk-estimator-id-6\" class=\"sk-toggleable__label sk-toggleable__label-arrow\">OneHotEncoder</label><div class=\"sk-toggleable__content\"><pre>OneHotEncoder()</pre></div></div></div></div></div></div></div></div></div></div><div class=\"sk-item\"><div class=\"sk-estimator sk-toggleable\"><input class=\"sk-toggleable__control sk-hidden--visually\" id=\"sk-estimator-id-7\" type=\"checkbox\" ><label for=\"sk-estimator-id-7\" class=\"sk-toggleable__label sk-toggleable__label-arrow\">LogisticRegression</label><div class=\"sk-toggleable__content\"><pre>LogisticRegression(solver=&#x27;liblinear&#x27;)</pre></div></div></div></div></div></div></div>"
      ],
      "text/plain": [
       "Pipeline(steps=[('prep',\n",
       "                 ColumnTransformer(transformers=[('numeric',\n",
       "                                                  Pipeline(steps=[('imputer',\n",
       "                                                                   SimpleImputer())]),\n",
       "                                                  ['previous', 'emp.var.rate',\n",
       "                                                   'cons.price.idx',\n",
       "                                                   'cons.conf.idx',\n",
       "                                                   'euribor3m']),\n",
       "                                                 ('categoric1',\n",
       "                                                  Pipeline(steps=[('encoder',\n",
       "                                                                   OneHotEncoder())]),\n",
       "                                                  ['Marital_Status', 'default',\n",
       "                                                   'housing', 'loan', 'contact',\n",
       "                                                   'pdays', 'poutcome',\n",
       "                                                   'Job_Type', 'age_group',\n",
       "                                                   'Edu_Cat'])])),\n",
       "                ('algo', LogisticRegression(solver='liblinear'))])"
      ]
     },
     "execution_count": 72,
     "metadata": {},
     "output_type": "execute_result"
    }
   ],
   "source": [
    "Pipe_lr.fit(x_train,y_train)"
   ]
  },
  {
   "cell_type": "code",
   "execution_count": 73,
   "id": "251f35ba",
   "metadata": {
    "execution": {
     "iopub.execute_input": "2021-11-05T10:53:39.109755Z",
     "iopub.status.busy": "2021-11-05T10:53:39.108985Z",
     "iopub.status.idle": "2021-11-05T10:53:39.500110Z",
     "shell.execute_reply": "2021-11-05T10:53:39.501354Z",
     "shell.execute_reply.started": "2021-11-05T09:07:43.778143Z"
    },
    "papermill": {
     "duration": 0.579946,
     "end_time": "2021-11-05T10:53:39.502109",
     "exception": false,
     "start_time": "2021-11-05T10:53:38.922163",
     "status": "completed"
    },
    "tags": []
   },
   "outputs": [],
   "source": [
    "lr_hasil_train, lr_hasil_test, lr_evaluation, lr_cm, lr_cr = log_evaluation(x_train, x_test, y_train, y_test, Pipe_lr)"
   ]
  },
  {
   "cell_type": "code",
   "execution_count": 74,
   "id": "7d71af4d",
   "metadata": {
    "execution": {
     "iopub.execute_input": "2021-11-05T10:53:39.882001Z",
     "iopub.status.busy": "2021-11-05T10:53:39.881277Z",
     "iopub.status.idle": "2021-11-05T10:53:39.884434Z",
     "shell.execute_reply": "2021-11-05T10:53:39.885077Z",
     "shell.execute_reply.started": "2021-11-05T09:07:44.077760Z"
    },
    "papermill": {
     "duration": 0.186917,
     "end_time": "2021-11-05T10:53:39.885278",
     "exception": false,
     "start_time": "2021-11-05T10:53:39.698361",
     "status": "completed"
    },
    "tags": []
   },
   "outputs": [
    {
     "data": {
      "text/html": [
       "<div>\n",
       "<style scoped>\n",
       "    .dataframe tbody tr th:only-of-type {\n",
       "        vertical-align: middle;\n",
       "    }\n",
       "\n",
       "    .dataframe tbody tr th {\n",
       "        vertical-align: top;\n",
       "    }\n",
       "\n",
       "    .dataframe thead th {\n",
       "        text-align: right;\n",
       "    }\n",
       "</style>\n",
       "<table border=\"1\" class=\"dataframe\">\n",
       "  <thead>\n",
       "    <tr style=\"text-align: right;\">\n",
       "      <th></th>\n",
       "      <th>Training</th>\n",
       "      <th>Testing</th>\n",
       "    </tr>\n",
       "  </thead>\n",
       "  <tbody>\n",
       "    <tr>\n",
       "      <th>accuracy</th>\n",
       "      <td>0.898907</td>\n",
       "      <td>0.897644</td>\n",
       "    </tr>\n",
       "    <tr>\n",
       "      <th>recall</th>\n",
       "      <td>0.193748</td>\n",
       "      <td>0.178879</td>\n",
       "    </tr>\n",
       "    <tr>\n",
       "      <th>precission</th>\n",
       "      <td>0.680227</td>\n",
       "      <td>0.672065</td>\n",
       "    </tr>\n",
       "    <tr>\n",
       "      <th>F1 Score</th>\n",
       "      <td>0.301594</td>\n",
       "      <td>0.282553</td>\n",
       "    </tr>\n",
       "    <tr>\n",
       "      <th>ROCAUC</th>\n",
       "      <td>0.591092</td>\n",
       "      <td>0.583898</td>\n",
       "    </tr>\n",
       "  </tbody>\n",
       "</table>\n",
       "</div>"
      ],
      "text/plain": [
       "            Training   Testing\n",
       "accuracy    0.898907  0.897644\n",
       "recall      0.193748  0.178879\n",
       "precission  0.680227  0.672065\n",
       "F1 Score    0.301594  0.282553\n",
       "ROCAUC      0.591092  0.583898"
      ]
     },
     "execution_count": 74,
     "metadata": {},
     "output_type": "execute_result"
    }
   ],
   "source": [
    "lr_evaluation"
   ]
  },
  {
   "cell_type": "code",
   "execution_count": 75,
   "id": "a91991ad",
   "metadata": {
    "execution": {
     "iopub.execute_input": "2021-11-05T10:53:40.242825Z",
     "iopub.status.busy": "2021-11-05T10:53:40.241644Z",
     "iopub.status.idle": "2021-11-05T10:53:40.249309Z",
     "shell.execute_reply": "2021-11-05T10:53:40.249941Z",
     "shell.execute_reply.started": "2021-11-05T09:07:44.096696Z"
    },
    "papermill": {
     "duration": 0.188723,
     "end_time": "2021-11-05T10:53:40.250169",
     "exception": false,
     "start_time": "2021-11-05T10:53:40.061446",
     "status": "completed"
    },
    "tags": []
   },
   "outputs": [
    {
     "data": {
      "text/html": [
       "<div>\n",
       "<style scoped>\n",
       "    .dataframe tbody tr th:only-of-type {\n",
       "        vertical-align: middle;\n",
       "    }\n",
       "\n",
       "    .dataframe tbody tr th {\n",
       "        vertical-align: top;\n",
       "    }\n",
       "\n",
       "    .dataframe thead th {\n",
       "        text-align: right;\n",
       "    }\n",
       "</style>\n",
       "<table border=\"1\" class=\"dataframe\">\n",
       "  <thead>\n",
       "    <tr style=\"text-align: right;\">\n",
       "      <th></th>\n",
       "      <th>pred 1</th>\n",
       "      <th>pred 0</th>\n",
       "    </tr>\n",
       "  </thead>\n",
       "  <tbody>\n",
       "    <tr>\n",
       "      <th>akt1</th>\n",
       "      <td>166</td>\n",
       "      <td>762</td>\n",
       "    </tr>\n",
       "    <tr>\n",
       "      <th>akt0</th>\n",
       "      <td>81</td>\n",
       "      <td>7227</td>\n",
       "    </tr>\n",
       "  </tbody>\n",
       "</table>\n",
       "</div>"
      ],
      "text/plain": [
       "      pred 1  pred 0\n",
       "akt1     166     762\n",
       "akt0      81    7227"
      ]
     },
     "execution_count": 75,
     "metadata": {},
     "output_type": "execute_result"
    }
   ],
   "source": [
    "lr_cm"
   ]
  },
  {
   "cell_type": "code",
   "execution_count": 76,
   "id": "0b929d65",
   "metadata": {
    "execution": {
     "iopub.execute_input": "2021-11-05T10:53:40.602483Z",
     "iopub.status.busy": "2021-11-05T10:53:40.601188Z",
     "iopub.status.idle": "2021-11-05T10:53:40.606886Z",
     "shell.execute_reply": "2021-11-05T10:53:40.607376Z",
     "shell.execute_reply.started": "2021-11-05T09:07:44.113332Z"
    },
    "papermill": {
     "duration": 0.182438,
     "end_time": "2021-11-05T10:53:40.607572",
     "exception": false,
     "start_time": "2021-11-05T10:53:40.425134",
     "status": "completed"
    },
    "tags": []
   },
   "outputs": [
    {
     "name": "stdout",
     "output_type": "stream",
     "text": [
      "              precision    recall  f1-score   support\n",
      "\n",
      "           0       0.90      0.99      0.94      7308\n",
      "           1       0.67      0.18      0.28       928\n",
      "\n",
      "    accuracy                           0.90      8236\n",
      "   macro avg       0.79      0.58      0.61      8236\n",
      "weighted avg       0.88      0.90      0.87      8236\n",
      "\n"
     ]
    }
   ],
   "source": [
    "print(lr_cr)"
   ]
  },
  {
   "cell_type": "markdown",
   "id": "8aa784ed",
   "metadata": {
    "papermill": {
     "duration": 0.177431,
     "end_time": "2021-11-05T10:53:40.958025",
     "exception": false,
     "start_time": "2021-11-05T10:53:40.780594",
     "status": "completed"
    },
    "tags": []
   },
   "source": [
    "### SVM BASE MODEL"
   ]
  },
  {
   "cell_type": "code",
   "execution_count": 77,
   "id": "47cd9099",
   "metadata": {
    "execution": {
     "iopub.execute_input": "2021-11-05T10:53:41.324168Z",
     "iopub.status.busy": "2021-11-05T10:53:41.323121Z",
     "iopub.status.idle": "2021-11-05T10:53:41.326411Z",
     "shell.execute_reply": "2021-11-05T10:53:41.325742Z",
     "shell.execute_reply.started": "2021-11-05T09:07:44.123301Z"
    },
    "papermill": {
     "duration": 0.191964,
     "end_time": "2021-11-05T10:53:41.326560",
     "exception": false,
     "start_time": "2021-11-05T10:53:41.134596",
     "status": "completed"
    },
    "tags": []
   },
   "outputs": [],
   "source": [
    "\n",
    "\n",
    "num_pipeline = Pipeline([\n",
    "    ('imputer',SimpleImputer(strategy='mean')),\n",
    "    ('scaler',RobustScaler())\n",
    "])\n",
    "\n",
    "\n",
    "cat_pipeline = Pipeline([\n",
    "    ('encoder',OneHotEncoder())\n",
    "])\n",
    "\n",
    "\n",
    "\n",
    "preprocessor = ColumnTransformer([\n",
    "    ('numeric',num_pipeline,num_columns),\n",
    "    ('categoric1',cat_pipeline,cat_columns)\n",
    "    \n",
    "])\n",
    "\n",
    "Pipe_SVC = Pipeline([\n",
    "    ('prep',preprocessor),\n",
    "    ('algo',SVC(max_iter=300,probability=True))\n",
    "\n",
    "])"
   ]
  },
  {
   "cell_type": "code",
   "execution_count": 78,
   "id": "c7aaf730",
   "metadata": {
    "execution": {
     "iopub.execute_input": "2021-11-05T10:53:41.685359Z",
     "iopub.status.busy": "2021-11-05T10:53:41.684662Z",
     "iopub.status.idle": "2021-11-05T10:54:03.677788Z",
     "shell.execute_reply": "2021-11-05T10:54:03.678373Z",
     "shell.execute_reply.started": "2021-11-05T09:07:44.135620Z"
    },
    "papermill": {
     "duration": 22.17639,
     "end_time": "2021-11-05T10:54:03.678580",
     "exception": false,
     "start_time": "2021-11-05T10:53:41.502190",
     "status": "completed"
    },
    "tags": []
   },
   "outputs": [
    {
     "data": {
      "text/html": [
       "<style>#sk-container-id-2 {color: black;}#sk-container-id-2 pre{padding: 0;}#sk-container-id-2 div.sk-toggleable {background-color: white;}#sk-container-id-2 label.sk-toggleable__label {cursor: pointer;display: block;width: 100%;margin-bottom: 0;padding: 0.3em;box-sizing: border-box;text-align: center;}#sk-container-id-2 label.sk-toggleable__label-arrow:before {content: \"▸\";float: left;margin-right: 0.25em;color: #696969;}#sk-container-id-2 label.sk-toggleable__label-arrow:hover:before {color: black;}#sk-container-id-2 div.sk-estimator:hover label.sk-toggleable__label-arrow:before {color: black;}#sk-container-id-2 div.sk-toggleable__content {max-height: 0;max-width: 0;overflow: hidden;text-align: left;background-color: #f0f8ff;}#sk-container-id-2 div.sk-toggleable__content pre {margin: 0.2em;color: black;border-radius: 0.25em;background-color: #f0f8ff;}#sk-container-id-2 input.sk-toggleable__control:checked~div.sk-toggleable__content {max-height: 200px;max-width: 100%;overflow: auto;}#sk-container-id-2 input.sk-toggleable__control:checked~label.sk-toggleable__label-arrow:before {content: \"▾\";}#sk-container-id-2 div.sk-estimator input.sk-toggleable__control:checked~label.sk-toggleable__label {background-color: #d4ebff;}#sk-container-id-2 div.sk-label input.sk-toggleable__control:checked~label.sk-toggleable__label {background-color: #d4ebff;}#sk-container-id-2 input.sk-hidden--visually {border: 0;clip: rect(1px 1px 1px 1px);clip: rect(1px, 1px, 1px, 1px);height: 1px;margin: -1px;overflow: hidden;padding: 0;position: absolute;width: 1px;}#sk-container-id-2 div.sk-estimator {font-family: monospace;background-color: #f0f8ff;border: 1px dotted black;border-radius: 0.25em;box-sizing: border-box;margin-bottom: 0.5em;}#sk-container-id-2 div.sk-estimator:hover {background-color: #d4ebff;}#sk-container-id-2 div.sk-parallel-item::after {content: \"\";width: 100%;border-bottom: 1px solid gray;flex-grow: 1;}#sk-container-id-2 div.sk-label:hover label.sk-toggleable__label {background-color: #d4ebff;}#sk-container-id-2 div.sk-serial::before {content: \"\";position: absolute;border-left: 1px solid gray;box-sizing: border-box;top: 0;bottom: 0;left: 50%;z-index: 0;}#sk-container-id-2 div.sk-serial {display: flex;flex-direction: column;align-items: center;background-color: white;padding-right: 0.2em;padding-left: 0.2em;position: relative;}#sk-container-id-2 div.sk-item {position: relative;z-index: 1;}#sk-container-id-2 div.sk-parallel {display: flex;align-items: stretch;justify-content: center;background-color: white;position: relative;}#sk-container-id-2 div.sk-item::before, #sk-container-id-2 div.sk-parallel-item::before {content: \"\";position: absolute;border-left: 1px solid gray;box-sizing: border-box;top: 0;bottom: 0;left: 50%;z-index: -1;}#sk-container-id-2 div.sk-parallel-item {display: flex;flex-direction: column;z-index: 1;position: relative;background-color: white;}#sk-container-id-2 div.sk-parallel-item:first-child::after {align-self: flex-end;width: 50%;}#sk-container-id-2 div.sk-parallel-item:last-child::after {align-self: flex-start;width: 50%;}#sk-container-id-2 div.sk-parallel-item:only-child::after {width: 0;}#sk-container-id-2 div.sk-dashed-wrapped {border: 1px dashed gray;margin: 0 0.4em 0.5em 0.4em;box-sizing: border-box;padding-bottom: 0.4em;background-color: white;}#sk-container-id-2 div.sk-label label {font-family: monospace;font-weight: bold;display: inline-block;line-height: 1.2em;}#sk-container-id-2 div.sk-label-container {text-align: center;}#sk-container-id-2 div.sk-container {/* jupyter's `normalize.less` sets `[hidden] { display: none; }` but bootstrap.min.css set `[hidden] { display: none !important; }` so we also need the `!important` here to be able to override the default hidden behavior on the sphinx rendered scikit-learn.org. See: https://github.com/scikit-learn/scikit-learn/issues/21755 */display: inline-block !important;position: relative;}#sk-container-id-2 div.sk-text-repr-fallback {display: none;}</style><div id=\"sk-container-id-2\" class=\"sk-top-container\"><div class=\"sk-text-repr-fallback\"><pre>Pipeline(steps=[(&#x27;prep&#x27;,\n",
       "                 ColumnTransformer(transformers=[(&#x27;numeric&#x27;,\n",
       "                                                  Pipeline(steps=[(&#x27;imputer&#x27;,\n",
       "                                                                   SimpleImputer()),\n",
       "                                                                  (&#x27;scaler&#x27;,\n",
       "                                                                   RobustScaler())]),\n",
       "                                                  [&#x27;previous&#x27;, &#x27;emp.var.rate&#x27;,\n",
       "                                                   &#x27;cons.price.idx&#x27;,\n",
       "                                                   &#x27;cons.conf.idx&#x27;,\n",
       "                                                   &#x27;euribor3m&#x27;]),\n",
       "                                                 (&#x27;categoric1&#x27;,\n",
       "                                                  Pipeline(steps=[(&#x27;encoder&#x27;,\n",
       "                                                                   OneHotEncoder())]),\n",
       "                                                  [&#x27;Marital_Status&#x27;, &#x27;default&#x27;,\n",
       "                                                   &#x27;housing&#x27;, &#x27;loan&#x27;, &#x27;contact&#x27;,\n",
       "                                                   &#x27;pdays&#x27;, &#x27;poutcome&#x27;,\n",
       "                                                   &#x27;Job_Type&#x27;, &#x27;age_group&#x27;,\n",
       "                                                   &#x27;Edu_Cat&#x27;])])),\n",
       "                (&#x27;algo&#x27;, SVC(max_iter=300, probability=True))])</pre><b>In a Jupyter environment, please rerun this cell to show the HTML representation or trust the notebook. <br />On GitHub, the HTML representation is unable to render, please try loading this page with nbviewer.org.</b></div><div class=\"sk-container\" hidden><div class=\"sk-item sk-dashed-wrapped\"><div class=\"sk-label-container\"><div class=\"sk-label sk-toggleable\"><input class=\"sk-toggleable__control sk-hidden--visually\" id=\"sk-estimator-id-8\" type=\"checkbox\" ><label for=\"sk-estimator-id-8\" class=\"sk-toggleable__label sk-toggleable__label-arrow\">Pipeline</label><div class=\"sk-toggleable__content\"><pre>Pipeline(steps=[(&#x27;prep&#x27;,\n",
       "                 ColumnTransformer(transformers=[(&#x27;numeric&#x27;,\n",
       "                                                  Pipeline(steps=[(&#x27;imputer&#x27;,\n",
       "                                                                   SimpleImputer()),\n",
       "                                                                  (&#x27;scaler&#x27;,\n",
       "                                                                   RobustScaler())]),\n",
       "                                                  [&#x27;previous&#x27;, &#x27;emp.var.rate&#x27;,\n",
       "                                                   &#x27;cons.price.idx&#x27;,\n",
       "                                                   &#x27;cons.conf.idx&#x27;,\n",
       "                                                   &#x27;euribor3m&#x27;]),\n",
       "                                                 (&#x27;categoric1&#x27;,\n",
       "                                                  Pipeline(steps=[(&#x27;encoder&#x27;,\n",
       "                                                                   OneHotEncoder())]),\n",
       "                                                  [&#x27;Marital_Status&#x27;, &#x27;default&#x27;,\n",
       "                                                   &#x27;housing&#x27;, &#x27;loan&#x27;, &#x27;contact&#x27;,\n",
       "                                                   &#x27;pdays&#x27;, &#x27;poutcome&#x27;,\n",
       "                                                   &#x27;Job_Type&#x27;, &#x27;age_group&#x27;,\n",
       "                                                   &#x27;Edu_Cat&#x27;])])),\n",
       "                (&#x27;algo&#x27;, SVC(max_iter=300, probability=True))])</pre></div></div></div><div class=\"sk-serial\"><div class=\"sk-item sk-dashed-wrapped\"><div class=\"sk-label-container\"><div class=\"sk-label sk-toggleable\"><input class=\"sk-toggleable__control sk-hidden--visually\" id=\"sk-estimator-id-9\" type=\"checkbox\" ><label for=\"sk-estimator-id-9\" class=\"sk-toggleable__label sk-toggleable__label-arrow\">prep: ColumnTransformer</label><div class=\"sk-toggleable__content\"><pre>ColumnTransformer(transformers=[(&#x27;numeric&#x27;,\n",
       "                                 Pipeline(steps=[(&#x27;imputer&#x27;, SimpleImputer()),\n",
       "                                                 (&#x27;scaler&#x27;, RobustScaler())]),\n",
       "                                 [&#x27;previous&#x27;, &#x27;emp.var.rate&#x27;, &#x27;cons.price.idx&#x27;,\n",
       "                                  &#x27;cons.conf.idx&#x27;, &#x27;euribor3m&#x27;]),\n",
       "                                (&#x27;categoric1&#x27;,\n",
       "                                 Pipeline(steps=[(&#x27;encoder&#x27;, OneHotEncoder())]),\n",
       "                                 [&#x27;Marital_Status&#x27;, &#x27;default&#x27;, &#x27;housing&#x27;,\n",
       "                                  &#x27;loan&#x27;, &#x27;contact&#x27;, &#x27;pdays&#x27;, &#x27;poutcome&#x27;,\n",
       "                                  &#x27;Job_Type&#x27;, &#x27;age_group&#x27;, &#x27;Edu_Cat&#x27;])])</pre></div></div></div><div class=\"sk-parallel\"><div class=\"sk-parallel-item\"><div class=\"sk-item\"><div class=\"sk-label-container\"><div class=\"sk-label sk-toggleable\"><input class=\"sk-toggleable__control sk-hidden--visually\" id=\"sk-estimator-id-10\" type=\"checkbox\" ><label for=\"sk-estimator-id-10\" class=\"sk-toggleable__label sk-toggleable__label-arrow\">numeric</label><div class=\"sk-toggleable__content\"><pre>[&#x27;previous&#x27;, &#x27;emp.var.rate&#x27;, &#x27;cons.price.idx&#x27;, &#x27;cons.conf.idx&#x27;, &#x27;euribor3m&#x27;]</pre></div></div></div><div class=\"sk-serial\"><div class=\"sk-item\"><div class=\"sk-serial\"><div class=\"sk-item\"><div class=\"sk-estimator sk-toggleable\"><input class=\"sk-toggleable__control sk-hidden--visually\" id=\"sk-estimator-id-11\" type=\"checkbox\" ><label for=\"sk-estimator-id-11\" class=\"sk-toggleable__label sk-toggleable__label-arrow\">SimpleImputer</label><div class=\"sk-toggleable__content\"><pre>SimpleImputer()</pre></div></div></div><div class=\"sk-item\"><div class=\"sk-estimator sk-toggleable\"><input class=\"sk-toggleable__control sk-hidden--visually\" id=\"sk-estimator-id-12\" type=\"checkbox\" ><label for=\"sk-estimator-id-12\" class=\"sk-toggleable__label sk-toggleable__label-arrow\">RobustScaler</label><div class=\"sk-toggleable__content\"><pre>RobustScaler()</pre></div></div></div></div></div></div></div></div><div class=\"sk-parallel-item\"><div class=\"sk-item\"><div class=\"sk-label-container\"><div class=\"sk-label sk-toggleable\"><input class=\"sk-toggleable__control sk-hidden--visually\" id=\"sk-estimator-id-13\" type=\"checkbox\" ><label for=\"sk-estimator-id-13\" class=\"sk-toggleable__label sk-toggleable__label-arrow\">categoric1</label><div class=\"sk-toggleable__content\"><pre>[&#x27;Marital_Status&#x27;, &#x27;default&#x27;, &#x27;housing&#x27;, &#x27;loan&#x27;, &#x27;contact&#x27;, &#x27;pdays&#x27;, &#x27;poutcome&#x27;, &#x27;Job_Type&#x27;, &#x27;age_group&#x27;, &#x27;Edu_Cat&#x27;]</pre></div></div></div><div class=\"sk-serial\"><div class=\"sk-item\"><div class=\"sk-serial\"><div class=\"sk-item\"><div class=\"sk-estimator sk-toggleable\"><input class=\"sk-toggleable__control sk-hidden--visually\" id=\"sk-estimator-id-14\" type=\"checkbox\" ><label for=\"sk-estimator-id-14\" class=\"sk-toggleable__label sk-toggleable__label-arrow\">OneHotEncoder</label><div class=\"sk-toggleable__content\"><pre>OneHotEncoder()</pre></div></div></div></div></div></div></div></div></div></div><div class=\"sk-item\"><div class=\"sk-estimator sk-toggleable\"><input class=\"sk-toggleable__control sk-hidden--visually\" id=\"sk-estimator-id-15\" type=\"checkbox\" ><label for=\"sk-estimator-id-15\" class=\"sk-toggleable__label sk-toggleable__label-arrow\">SVC</label><div class=\"sk-toggleable__content\"><pre>SVC(max_iter=300, probability=True)</pre></div></div></div></div></div></div></div>"
      ],
      "text/plain": [
       "Pipeline(steps=[('prep',\n",
       "                 ColumnTransformer(transformers=[('numeric',\n",
       "                                                  Pipeline(steps=[('imputer',\n",
       "                                                                   SimpleImputer()),\n",
       "                                                                  ('scaler',\n",
       "                                                                   RobustScaler())]),\n",
       "                                                  ['previous', 'emp.var.rate',\n",
       "                                                   'cons.price.idx',\n",
       "                                                   'cons.conf.idx',\n",
       "                                                   'euribor3m']),\n",
       "                                                 ('categoric1',\n",
       "                                                  Pipeline(steps=[('encoder',\n",
       "                                                                   OneHotEncoder())]),\n",
       "                                                  ['Marital_Status', 'default',\n",
       "                                                   'housing', 'loan', 'contact',\n",
       "                                                   'pdays', 'poutcome',\n",
       "                                                   'Job_Type', 'age_group',\n",
       "                                                   'Edu_Cat'])])),\n",
       "                ('algo', SVC(max_iter=300, probability=True))])"
      ]
     },
     "execution_count": 78,
     "metadata": {},
     "output_type": "execute_result"
    }
   ],
   "source": [
    "Pipe_SVC.fit(x_train,y_train)"
   ]
  },
  {
   "cell_type": "code",
   "execution_count": 79,
   "id": "af48e585",
   "metadata": {
    "execution": {
     "iopub.execute_input": "2021-11-05T10:54:04.040000Z",
     "iopub.status.busy": "2021-11-05T10:54:04.039256Z",
     "iopub.status.idle": "2021-11-05T10:54:06.185345Z",
     "shell.execute_reply": "2021-11-05T10:54:06.184706Z",
     "shell.execute_reply.started": "2021-11-05T09:08:02.761763Z"
    },
    "papermill": {
     "duration": 2.326945,
     "end_time": "2021-11-05T10:54:06.185522",
     "exception": false,
     "start_time": "2021-11-05T10:54:03.858577",
     "status": "completed"
    },
    "tags": []
   },
   "outputs": [],
   "source": [
    "svm_hasil_train, svm_hasil_test, svm_evaluation, svm_cm, svm_cr = log_evaluation(x_train, x_test, y_train, y_test, Pipe_SVC)"
   ]
  },
  {
   "cell_type": "code",
   "execution_count": 80,
   "id": "1b855f07",
   "metadata": {
    "execution": {
     "iopub.execute_input": "2021-11-05T10:54:06.548345Z",
     "iopub.status.busy": "2021-11-05T10:54:06.547519Z",
     "iopub.status.idle": "2021-11-05T10:54:06.556033Z",
     "shell.execute_reply": "2021-11-05T10:54:06.556615Z",
     "shell.execute_reply.started": "2021-11-05T09:08:04.798837Z"
    },
    "papermill": {
     "duration": 0.192749,
     "end_time": "2021-11-05T10:54:06.556840",
     "exception": false,
     "start_time": "2021-11-05T10:54:06.364091",
     "status": "completed"
    },
    "tags": []
   },
   "outputs": [
    {
     "data": {
      "text/html": [
       "<div>\n",
       "<style scoped>\n",
       "    .dataframe tbody tr th:only-of-type {\n",
       "        vertical-align: middle;\n",
       "    }\n",
       "\n",
       "    .dataframe tbody tr th {\n",
       "        vertical-align: top;\n",
       "    }\n",
       "\n",
       "    .dataframe thead th {\n",
       "        text-align: right;\n",
       "    }\n",
       "</style>\n",
       "<table border=\"1\" class=\"dataframe\">\n",
       "  <thead>\n",
       "    <tr style=\"text-align: right;\">\n",
       "      <th></th>\n",
       "      <th>Training</th>\n",
       "      <th>Testing</th>\n",
       "    </tr>\n",
       "  </thead>\n",
       "  <tbody>\n",
       "    <tr>\n",
       "      <th>accuracy</th>\n",
       "      <td>0.617547</td>\n",
       "      <td>0.621054</td>\n",
       "    </tr>\n",
       "    <tr>\n",
       "      <th>recall</th>\n",
       "      <td>0.443277</td>\n",
       "      <td>0.441810</td>\n",
       "    </tr>\n",
       "    <tr>\n",
       "      <th>precission</th>\n",
       "      <td>0.135091</td>\n",
       "      <td>0.136077</td>\n",
       "    </tr>\n",
       "    <tr>\n",
       "      <th>F1 Score</th>\n",
       "      <td>0.207075</td>\n",
       "      <td>0.208069</td>\n",
       "    </tr>\n",
       "    <tr>\n",
       "      <th>ROCAUC</th>\n",
       "      <td>0.541475</td>\n",
       "      <td>0.542813</td>\n",
       "    </tr>\n",
       "  </tbody>\n",
       "</table>\n",
       "</div>"
      ],
      "text/plain": [
       "            Training   Testing\n",
       "accuracy    0.617547  0.621054\n",
       "recall      0.443277  0.441810\n",
       "precission  0.135091  0.136077\n",
       "F1 Score    0.207075  0.208069\n",
       "ROCAUC      0.541475  0.542813"
      ]
     },
     "execution_count": 80,
     "metadata": {},
     "output_type": "execute_result"
    }
   ],
   "source": [
    "svm_evaluation"
   ]
  },
  {
   "cell_type": "code",
   "execution_count": 81,
   "id": "69a35693",
   "metadata": {
    "execution": {
     "iopub.execute_input": "2021-11-05T10:54:06.911019Z",
     "iopub.status.busy": "2021-11-05T10:54:06.910249Z",
     "iopub.status.idle": "2021-11-05T10:54:06.918121Z",
     "shell.execute_reply": "2021-11-05T10:54:06.918726Z",
     "shell.execute_reply.started": "2021-11-05T09:08:04.809857Z"
    },
    "papermill": {
     "duration": 0.187671,
     "end_time": "2021-11-05T10:54:06.918920",
     "exception": false,
     "start_time": "2021-11-05T10:54:06.731249",
     "status": "completed"
    },
    "tags": []
   },
   "outputs": [
    {
     "data": {
      "text/html": [
       "<div>\n",
       "<style scoped>\n",
       "    .dataframe tbody tr th:only-of-type {\n",
       "        vertical-align: middle;\n",
       "    }\n",
       "\n",
       "    .dataframe tbody tr th {\n",
       "        vertical-align: top;\n",
       "    }\n",
       "\n",
       "    .dataframe thead th {\n",
       "        text-align: right;\n",
       "    }\n",
       "</style>\n",
       "<table border=\"1\" class=\"dataframe\">\n",
       "  <thead>\n",
       "    <tr style=\"text-align: right;\">\n",
       "      <th></th>\n",
       "      <th>pred 1</th>\n",
       "      <th>pred 0</th>\n",
       "    </tr>\n",
       "  </thead>\n",
       "  <tbody>\n",
       "    <tr>\n",
       "      <th>akt1</th>\n",
       "      <td>410</td>\n",
       "      <td>518</td>\n",
       "    </tr>\n",
       "    <tr>\n",
       "      <th>akt0</th>\n",
       "      <td>2603</td>\n",
       "      <td>4705</td>\n",
       "    </tr>\n",
       "  </tbody>\n",
       "</table>\n",
       "</div>"
      ],
      "text/plain": [
       "      pred 1  pred 0\n",
       "akt1     410     518\n",
       "akt0    2603    4705"
      ]
     },
     "execution_count": 81,
     "metadata": {},
     "output_type": "execute_result"
    }
   ],
   "source": [
    "svm_cm"
   ]
  },
  {
   "cell_type": "code",
   "execution_count": 82,
   "id": "22e33c8c",
   "metadata": {
    "execution": {
     "iopub.execute_input": "2021-11-05T10:54:07.292504Z",
     "iopub.status.busy": "2021-11-05T10:54:07.291774Z",
     "iopub.status.idle": "2021-11-05T10:54:07.298263Z",
     "shell.execute_reply": "2021-11-05T10:54:07.296891Z",
     "shell.execute_reply.started": "2021-11-05T09:08:04.826092Z"
    },
    "papermill": {
     "duration": 0.200958,
     "end_time": "2021-11-05T10:54:07.298586",
     "exception": false,
     "start_time": "2021-11-05T10:54:07.097628",
     "status": "completed"
    },
    "tags": []
   },
   "outputs": [
    {
     "name": "stdout",
     "output_type": "stream",
     "text": [
      "              precision    recall  f1-score   support\n",
      "\n",
      "           0       0.90      0.64      0.75      7308\n",
      "           1       0.14      0.44      0.21       928\n",
      "\n",
      "    accuracy                           0.62      8236\n",
      "   macro avg       0.52      0.54      0.48      8236\n",
      "weighted avg       0.81      0.62      0.69      8236\n",
      "\n"
     ]
    }
   ],
   "source": [
    "print(svm_cr)"
   ]
  },
  {
   "cell_type": "markdown",
   "id": "5f39cfa6",
   "metadata": {
    "papermill": {
     "duration": 0.180843,
     "end_time": "2021-11-05T10:54:07.660259",
     "exception": false,
     "start_time": "2021-11-05T10:54:07.479416",
     "status": "completed"
    },
    "tags": []
   },
   "source": [
    "## XGBOOST Base Model"
   ]
  },
  {
   "cell_type": "code",
   "execution_count": 83,
   "id": "51b0efd4",
   "metadata": {
    "execution": {
     "iopub.execute_input": "2021-11-05T10:54:08.033262Z",
     "iopub.status.busy": "2021-11-05T10:54:08.032566Z",
     "iopub.status.idle": "2021-11-05T10:54:08.041535Z",
     "shell.execute_reply": "2021-11-05T10:54:08.042514Z",
     "shell.execute_reply.started": "2021-11-05T09:08:04.838806Z"
    },
    "papermill": {
     "duration": 0.20207,
     "end_time": "2021-11-05T10:54:08.042843",
     "exception": false,
     "start_time": "2021-11-05T10:54:07.840773",
     "status": "completed"
    },
    "tags": []
   },
   "outputs": [],
   "source": [
    "\n",
    "num_pipeline = Pipeline([\n",
    "    ('imputer',SimpleImputer(strategy='mean'))\n",
    "])\n",
    "\n",
    "\n",
    "cat_pipeline = Pipeline([\n",
    "    ('encoder',OneHotEncoder())\n",
    "])\n",
    "\n",
    "\n",
    "\n",
    "preprocessor = ColumnTransformer([\n",
    "    ('numeric',num_pipeline,num_columns),\n",
    "    ('categoric1',cat_pipeline,cat_columns),\n",
    "])\n",
    "\n",
    "Pipe_xgb = Pipeline([\n",
    "    ('prep',preprocessor),\n",
    "    ('algo',GradientBoostingClassifier())\n",
    "\n",
    "])"
   ]
  },
  {
   "cell_type": "code",
   "execution_count": 84,
   "id": "235f425f",
   "metadata": {
    "execution": {
     "iopub.execute_input": "2021-11-05T10:54:08.474936Z",
     "iopub.status.busy": "2021-11-05T10:54:08.474172Z",
     "iopub.status.idle": "2021-11-05T10:54:14.421273Z",
     "shell.execute_reply": "2021-11-05T10:54:14.420583Z",
     "shell.execute_reply.started": "2021-11-05T09:08:04.851730Z"
    },
    "papermill": {
     "duration": 6.160702,
     "end_time": "2021-11-05T10:54:14.421466",
     "exception": false,
     "start_time": "2021-11-05T10:54:08.260764",
     "status": "completed"
    },
    "tags": []
   },
   "outputs": [
    {
     "data": {
      "text/html": [
       "<style>#sk-container-id-3 {color: black;}#sk-container-id-3 pre{padding: 0;}#sk-container-id-3 div.sk-toggleable {background-color: white;}#sk-container-id-3 label.sk-toggleable__label {cursor: pointer;display: block;width: 100%;margin-bottom: 0;padding: 0.3em;box-sizing: border-box;text-align: center;}#sk-container-id-3 label.sk-toggleable__label-arrow:before {content: \"▸\";float: left;margin-right: 0.25em;color: #696969;}#sk-container-id-3 label.sk-toggleable__label-arrow:hover:before {color: black;}#sk-container-id-3 div.sk-estimator:hover label.sk-toggleable__label-arrow:before {color: black;}#sk-container-id-3 div.sk-toggleable__content {max-height: 0;max-width: 0;overflow: hidden;text-align: left;background-color: #f0f8ff;}#sk-container-id-3 div.sk-toggleable__content pre {margin: 0.2em;color: black;border-radius: 0.25em;background-color: #f0f8ff;}#sk-container-id-3 input.sk-toggleable__control:checked~div.sk-toggleable__content {max-height: 200px;max-width: 100%;overflow: auto;}#sk-container-id-3 input.sk-toggleable__control:checked~label.sk-toggleable__label-arrow:before {content: \"▾\";}#sk-container-id-3 div.sk-estimator input.sk-toggleable__control:checked~label.sk-toggleable__label {background-color: #d4ebff;}#sk-container-id-3 div.sk-label input.sk-toggleable__control:checked~label.sk-toggleable__label {background-color: #d4ebff;}#sk-container-id-3 input.sk-hidden--visually {border: 0;clip: rect(1px 1px 1px 1px);clip: rect(1px, 1px, 1px, 1px);height: 1px;margin: -1px;overflow: hidden;padding: 0;position: absolute;width: 1px;}#sk-container-id-3 div.sk-estimator {font-family: monospace;background-color: #f0f8ff;border: 1px dotted black;border-radius: 0.25em;box-sizing: border-box;margin-bottom: 0.5em;}#sk-container-id-3 div.sk-estimator:hover {background-color: #d4ebff;}#sk-container-id-3 div.sk-parallel-item::after {content: \"\";width: 100%;border-bottom: 1px solid gray;flex-grow: 1;}#sk-container-id-3 div.sk-label:hover label.sk-toggleable__label {background-color: #d4ebff;}#sk-container-id-3 div.sk-serial::before {content: \"\";position: absolute;border-left: 1px solid gray;box-sizing: border-box;top: 0;bottom: 0;left: 50%;z-index: 0;}#sk-container-id-3 div.sk-serial {display: flex;flex-direction: column;align-items: center;background-color: white;padding-right: 0.2em;padding-left: 0.2em;position: relative;}#sk-container-id-3 div.sk-item {position: relative;z-index: 1;}#sk-container-id-3 div.sk-parallel {display: flex;align-items: stretch;justify-content: center;background-color: white;position: relative;}#sk-container-id-3 div.sk-item::before, #sk-container-id-3 div.sk-parallel-item::before {content: \"\";position: absolute;border-left: 1px solid gray;box-sizing: border-box;top: 0;bottom: 0;left: 50%;z-index: -1;}#sk-container-id-3 div.sk-parallel-item {display: flex;flex-direction: column;z-index: 1;position: relative;background-color: white;}#sk-container-id-3 div.sk-parallel-item:first-child::after {align-self: flex-end;width: 50%;}#sk-container-id-3 div.sk-parallel-item:last-child::after {align-self: flex-start;width: 50%;}#sk-container-id-3 div.sk-parallel-item:only-child::after {width: 0;}#sk-container-id-3 div.sk-dashed-wrapped {border: 1px dashed gray;margin: 0 0.4em 0.5em 0.4em;box-sizing: border-box;padding-bottom: 0.4em;background-color: white;}#sk-container-id-3 div.sk-label label {font-family: monospace;font-weight: bold;display: inline-block;line-height: 1.2em;}#sk-container-id-3 div.sk-label-container {text-align: center;}#sk-container-id-3 div.sk-container {/* jupyter's `normalize.less` sets `[hidden] { display: none; }` but bootstrap.min.css set `[hidden] { display: none !important; }` so we also need the `!important` here to be able to override the default hidden behavior on the sphinx rendered scikit-learn.org. See: https://github.com/scikit-learn/scikit-learn/issues/21755 */display: inline-block !important;position: relative;}#sk-container-id-3 div.sk-text-repr-fallback {display: none;}</style><div id=\"sk-container-id-3\" class=\"sk-top-container\"><div class=\"sk-text-repr-fallback\"><pre>Pipeline(steps=[(&#x27;prep&#x27;,\n",
       "                 ColumnTransformer(transformers=[(&#x27;numeric&#x27;,\n",
       "                                                  Pipeline(steps=[(&#x27;imputer&#x27;,\n",
       "                                                                   SimpleImputer())]),\n",
       "                                                  [&#x27;previous&#x27;, &#x27;emp.var.rate&#x27;,\n",
       "                                                   &#x27;cons.price.idx&#x27;,\n",
       "                                                   &#x27;cons.conf.idx&#x27;,\n",
       "                                                   &#x27;euribor3m&#x27;]),\n",
       "                                                 (&#x27;categoric1&#x27;,\n",
       "                                                  Pipeline(steps=[(&#x27;encoder&#x27;,\n",
       "                                                                   OneHotEncoder())]),\n",
       "                                                  [&#x27;Marital_Status&#x27;, &#x27;default&#x27;,\n",
       "                                                   &#x27;housing&#x27;, &#x27;loan&#x27;, &#x27;contact&#x27;,\n",
       "                                                   &#x27;pdays&#x27;, &#x27;poutcome&#x27;,\n",
       "                                                   &#x27;Job_Type&#x27;, &#x27;age_group&#x27;,\n",
       "                                                   &#x27;Edu_Cat&#x27;])])),\n",
       "                (&#x27;algo&#x27;, GradientBoostingClassifier())])</pre><b>In a Jupyter environment, please rerun this cell to show the HTML representation or trust the notebook. <br />On GitHub, the HTML representation is unable to render, please try loading this page with nbviewer.org.</b></div><div class=\"sk-container\" hidden><div class=\"sk-item sk-dashed-wrapped\"><div class=\"sk-label-container\"><div class=\"sk-label sk-toggleable\"><input class=\"sk-toggleable__control sk-hidden--visually\" id=\"sk-estimator-id-16\" type=\"checkbox\" ><label for=\"sk-estimator-id-16\" class=\"sk-toggleable__label sk-toggleable__label-arrow\">Pipeline</label><div class=\"sk-toggleable__content\"><pre>Pipeline(steps=[(&#x27;prep&#x27;,\n",
       "                 ColumnTransformer(transformers=[(&#x27;numeric&#x27;,\n",
       "                                                  Pipeline(steps=[(&#x27;imputer&#x27;,\n",
       "                                                                   SimpleImputer())]),\n",
       "                                                  [&#x27;previous&#x27;, &#x27;emp.var.rate&#x27;,\n",
       "                                                   &#x27;cons.price.idx&#x27;,\n",
       "                                                   &#x27;cons.conf.idx&#x27;,\n",
       "                                                   &#x27;euribor3m&#x27;]),\n",
       "                                                 (&#x27;categoric1&#x27;,\n",
       "                                                  Pipeline(steps=[(&#x27;encoder&#x27;,\n",
       "                                                                   OneHotEncoder())]),\n",
       "                                                  [&#x27;Marital_Status&#x27;, &#x27;default&#x27;,\n",
       "                                                   &#x27;housing&#x27;, &#x27;loan&#x27;, &#x27;contact&#x27;,\n",
       "                                                   &#x27;pdays&#x27;, &#x27;poutcome&#x27;,\n",
       "                                                   &#x27;Job_Type&#x27;, &#x27;age_group&#x27;,\n",
       "                                                   &#x27;Edu_Cat&#x27;])])),\n",
       "                (&#x27;algo&#x27;, GradientBoostingClassifier())])</pre></div></div></div><div class=\"sk-serial\"><div class=\"sk-item sk-dashed-wrapped\"><div class=\"sk-label-container\"><div class=\"sk-label sk-toggleable\"><input class=\"sk-toggleable__control sk-hidden--visually\" id=\"sk-estimator-id-17\" type=\"checkbox\" ><label for=\"sk-estimator-id-17\" class=\"sk-toggleable__label sk-toggleable__label-arrow\">prep: ColumnTransformer</label><div class=\"sk-toggleable__content\"><pre>ColumnTransformer(transformers=[(&#x27;numeric&#x27;,\n",
       "                                 Pipeline(steps=[(&#x27;imputer&#x27;, SimpleImputer())]),\n",
       "                                 [&#x27;previous&#x27;, &#x27;emp.var.rate&#x27;, &#x27;cons.price.idx&#x27;,\n",
       "                                  &#x27;cons.conf.idx&#x27;, &#x27;euribor3m&#x27;]),\n",
       "                                (&#x27;categoric1&#x27;,\n",
       "                                 Pipeline(steps=[(&#x27;encoder&#x27;, OneHotEncoder())]),\n",
       "                                 [&#x27;Marital_Status&#x27;, &#x27;default&#x27;, &#x27;housing&#x27;,\n",
       "                                  &#x27;loan&#x27;, &#x27;contact&#x27;, &#x27;pdays&#x27;, &#x27;poutcome&#x27;,\n",
       "                                  &#x27;Job_Type&#x27;, &#x27;age_group&#x27;, &#x27;Edu_Cat&#x27;])])</pre></div></div></div><div class=\"sk-parallel\"><div class=\"sk-parallel-item\"><div class=\"sk-item\"><div class=\"sk-label-container\"><div class=\"sk-label sk-toggleable\"><input class=\"sk-toggleable__control sk-hidden--visually\" id=\"sk-estimator-id-18\" type=\"checkbox\" ><label for=\"sk-estimator-id-18\" class=\"sk-toggleable__label sk-toggleable__label-arrow\">numeric</label><div class=\"sk-toggleable__content\"><pre>[&#x27;previous&#x27;, &#x27;emp.var.rate&#x27;, &#x27;cons.price.idx&#x27;, &#x27;cons.conf.idx&#x27;, &#x27;euribor3m&#x27;]</pre></div></div></div><div class=\"sk-serial\"><div class=\"sk-item\"><div class=\"sk-serial\"><div class=\"sk-item\"><div class=\"sk-estimator sk-toggleable\"><input class=\"sk-toggleable__control sk-hidden--visually\" id=\"sk-estimator-id-19\" type=\"checkbox\" ><label for=\"sk-estimator-id-19\" class=\"sk-toggleable__label sk-toggleable__label-arrow\">SimpleImputer</label><div class=\"sk-toggleable__content\"><pre>SimpleImputer()</pre></div></div></div></div></div></div></div></div><div class=\"sk-parallel-item\"><div class=\"sk-item\"><div class=\"sk-label-container\"><div class=\"sk-label sk-toggleable\"><input class=\"sk-toggleable__control sk-hidden--visually\" id=\"sk-estimator-id-20\" type=\"checkbox\" ><label for=\"sk-estimator-id-20\" class=\"sk-toggleable__label sk-toggleable__label-arrow\">categoric1</label><div class=\"sk-toggleable__content\"><pre>[&#x27;Marital_Status&#x27;, &#x27;default&#x27;, &#x27;housing&#x27;, &#x27;loan&#x27;, &#x27;contact&#x27;, &#x27;pdays&#x27;, &#x27;poutcome&#x27;, &#x27;Job_Type&#x27;, &#x27;age_group&#x27;, &#x27;Edu_Cat&#x27;]</pre></div></div></div><div class=\"sk-serial\"><div class=\"sk-item\"><div class=\"sk-serial\"><div class=\"sk-item\"><div class=\"sk-estimator sk-toggleable\"><input class=\"sk-toggleable__control sk-hidden--visually\" id=\"sk-estimator-id-21\" type=\"checkbox\" ><label for=\"sk-estimator-id-21\" class=\"sk-toggleable__label sk-toggleable__label-arrow\">OneHotEncoder</label><div class=\"sk-toggleable__content\"><pre>OneHotEncoder()</pre></div></div></div></div></div></div></div></div></div></div><div class=\"sk-item\"><div class=\"sk-estimator sk-toggleable\"><input class=\"sk-toggleable__control sk-hidden--visually\" id=\"sk-estimator-id-22\" type=\"checkbox\" ><label for=\"sk-estimator-id-22\" class=\"sk-toggleable__label sk-toggleable__label-arrow\">GradientBoostingClassifier</label><div class=\"sk-toggleable__content\"><pre>GradientBoostingClassifier()</pre></div></div></div></div></div></div></div>"
      ],
      "text/plain": [
       "Pipeline(steps=[('prep',\n",
       "                 ColumnTransformer(transformers=[('numeric',\n",
       "                                                  Pipeline(steps=[('imputer',\n",
       "                                                                   SimpleImputer())]),\n",
       "                                                  ['previous', 'emp.var.rate',\n",
       "                                                   'cons.price.idx',\n",
       "                                                   'cons.conf.idx',\n",
       "                                                   'euribor3m']),\n",
       "                                                 ('categoric1',\n",
       "                                                  Pipeline(steps=[('encoder',\n",
       "                                                                   OneHotEncoder())]),\n",
       "                                                  ['Marital_Status', 'default',\n",
       "                                                   'housing', 'loan', 'contact',\n",
       "                                                   'pdays', 'poutcome',\n",
       "                                                   'Job_Type', 'age_group',\n",
       "                                                   'Edu_Cat'])])),\n",
       "                ('algo', GradientBoostingClassifier())])"
      ]
     },
     "execution_count": 84,
     "metadata": {},
     "output_type": "execute_result"
    }
   ],
   "source": [
    "Pipe_xgb.fit(x_train,y_train)"
   ]
  },
  {
   "cell_type": "code",
   "execution_count": 85,
   "id": "9c67eabf",
   "metadata": {
    "execution": {
     "iopub.execute_input": "2021-11-05T10:54:14.799997Z",
     "iopub.status.busy": "2021-11-05T10:54:14.799034Z",
     "iopub.status.idle": "2021-11-05T10:54:15.196105Z",
     "shell.execute_reply": "2021-11-05T10:54:15.195344Z",
     "shell.execute_reply.started": "2021-11-05T10:15:10.619225Z"
    },
    "papermill": {
     "duration": 0.592742,
     "end_time": "2021-11-05T10:54:15.196295",
     "exception": false,
     "start_time": "2021-11-05T10:54:14.603553",
     "status": "completed"
    },
    "tags": []
   },
   "outputs": [],
   "source": [
    "xgb_hasil_train, xgb_hasil_test, xgb_evaluation, xgb_cm, xgb_cr = log_evaluation(x_train, x_test, y_train, y_test, Pipe_xgb)"
   ]
  },
  {
   "cell_type": "code",
   "execution_count": 86,
   "id": "bc03b575",
   "metadata": {
    "execution": {
     "iopub.execute_input": "2021-11-05T10:54:15.571072Z",
     "iopub.status.busy": "2021-11-05T10:54:15.570309Z",
     "iopub.status.idle": "2021-11-05T10:54:15.581845Z",
     "shell.execute_reply": "2021-11-05T10:54:15.582461Z",
     "shell.execute_reply.started": "2021-11-05T10:15:14.588781Z"
    },
    "papermill": {
     "duration": 0.200829,
     "end_time": "2021-11-05T10:54:15.582980",
     "exception": false,
     "start_time": "2021-11-05T10:54:15.382151",
     "status": "completed"
    },
    "tags": []
   },
   "outputs": [
    {
     "data": {
      "text/html": [
       "<div>\n",
       "<style scoped>\n",
       "    .dataframe tbody tr th:only-of-type {\n",
       "        vertical-align: middle;\n",
       "    }\n",
       "\n",
       "    .dataframe tbody tr th {\n",
       "        vertical-align: top;\n",
       "    }\n",
       "\n",
       "    .dataframe thead th {\n",
       "        text-align: right;\n",
       "    }\n",
       "</style>\n",
       "<table border=\"1\" class=\"dataframe\">\n",
       "  <thead>\n",
       "    <tr style=\"text-align: right;\">\n",
       "      <th></th>\n",
       "      <th>Training</th>\n",
       "      <th>Testing</th>\n",
       "    </tr>\n",
       "  </thead>\n",
       "  <tbody>\n",
       "    <tr>\n",
       "      <th>accuracy</th>\n",
       "      <td>0.903916</td>\n",
       "      <td>0.898130</td>\n",
       "    </tr>\n",
       "    <tr>\n",
       "      <th>recall</th>\n",
       "      <td>0.256265</td>\n",
       "      <td>0.217672</td>\n",
       "    </tr>\n",
       "    <tr>\n",
       "      <th>precission</th>\n",
       "      <td>0.701327</td>\n",
       "      <td>0.641270</td>\n",
       "    </tr>\n",
       "    <tr>\n",
       "      <th>F1 Score</th>\n",
       "      <td>0.375370</td>\n",
       "      <td>0.325020</td>\n",
       "    </tr>\n",
       "    <tr>\n",
       "      <th>ROCAUC</th>\n",
       "      <td>0.621205</td>\n",
       "      <td>0.601105</td>\n",
       "    </tr>\n",
       "  </tbody>\n",
       "</table>\n",
       "</div>"
      ],
      "text/plain": [
       "            Training   Testing\n",
       "accuracy    0.903916  0.898130\n",
       "recall      0.256265  0.217672\n",
       "precission  0.701327  0.641270\n",
       "F1 Score    0.375370  0.325020\n",
       "ROCAUC      0.621205  0.601105"
      ]
     },
     "execution_count": 86,
     "metadata": {},
     "output_type": "execute_result"
    }
   ],
   "source": [
    "xgb_evaluation"
   ]
  },
  {
   "cell_type": "code",
   "execution_count": 87,
   "id": "26c6eb4e",
   "metadata": {
    "execution": {
     "iopub.execute_input": "2021-11-05T10:54:15.963256Z",
     "iopub.status.busy": "2021-11-05T10:54:15.962500Z",
     "iopub.status.idle": "2021-11-05T10:54:15.971473Z",
     "shell.execute_reply": "2021-11-05T10:54:15.972080Z",
     "shell.execute_reply.started": "2021-11-05T10:15:17.276867Z"
    },
    "papermill": {
     "duration": 0.201131,
     "end_time": "2021-11-05T10:54:15.972281",
     "exception": false,
     "start_time": "2021-11-05T10:54:15.771150",
     "status": "completed"
    },
    "tags": []
   },
   "outputs": [
    {
     "data": {
      "text/html": [
       "<div>\n",
       "<style scoped>\n",
       "    .dataframe tbody tr th:only-of-type {\n",
       "        vertical-align: middle;\n",
       "    }\n",
       "\n",
       "    .dataframe tbody tr th {\n",
       "        vertical-align: top;\n",
       "    }\n",
       "\n",
       "    .dataframe thead th {\n",
       "        text-align: right;\n",
       "    }\n",
       "</style>\n",
       "<table border=\"1\" class=\"dataframe\">\n",
       "  <thead>\n",
       "    <tr style=\"text-align: right;\">\n",
       "      <th></th>\n",
       "      <th>pred 1</th>\n",
       "      <th>pred 0</th>\n",
       "    </tr>\n",
       "  </thead>\n",
       "  <tbody>\n",
       "    <tr>\n",
       "      <th>akt1</th>\n",
       "      <td>202</td>\n",
       "      <td>726</td>\n",
       "    </tr>\n",
       "    <tr>\n",
       "      <th>akt0</th>\n",
       "      <td>113</td>\n",
       "      <td>7195</td>\n",
       "    </tr>\n",
       "  </tbody>\n",
       "</table>\n",
       "</div>"
      ],
      "text/plain": [
       "      pred 1  pred 0\n",
       "akt1     202     726\n",
       "akt0     113    7195"
      ]
     },
     "execution_count": 87,
     "metadata": {},
     "output_type": "execute_result"
    }
   ],
   "source": [
    "xgb_cm"
   ]
  },
  {
   "cell_type": "code",
   "execution_count": 88,
   "id": "f9707426",
   "metadata": {
    "execution": {
     "iopub.execute_input": "2021-11-05T10:54:16.336037Z",
     "iopub.status.busy": "2021-11-05T10:54:16.335368Z",
     "iopub.status.idle": "2021-11-05T10:54:16.341228Z",
     "shell.execute_reply": "2021-11-05T10:54:16.342087Z",
     "shell.execute_reply.started": "2021-11-05T10:15:19.818791Z"
    },
    "papermill": {
     "duration": 0.189871,
     "end_time": "2021-11-05T10:54:16.342348",
     "exception": false,
     "start_time": "2021-11-05T10:54:16.152477",
     "status": "completed"
    },
    "tags": []
   },
   "outputs": [
    {
     "name": "stdout",
     "output_type": "stream",
     "text": [
      "              precision    recall  f1-score   support\n",
      "\n",
      "           0       0.91      0.98      0.94      7308\n",
      "           1       0.64      0.22      0.33       928\n",
      "\n",
      "    accuracy                           0.90      8236\n",
      "   macro avg       0.77      0.60      0.63      8236\n",
      "weighted avg       0.88      0.90      0.88      8236\n",
      "\n"
     ]
    }
   ],
   "source": [
    "print(xgb_cr)"
   ]
  },
  {
   "cell_type": "markdown",
   "id": "41f45dc2",
   "metadata": {
    "papermill": {
     "duration": 0.183427,
     "end_time": "2021-11-05T10:54:16.705373",
     "exception": false,
     "start_time": "2021-11-05T10:54:16.521946",
     "status": "completed"
    },
    "tags": []
   },
   "source": [
    "### RANDOM FOREST BASE MODEL"
   ]
  },
  {
   "cell_type": "code",
   "execution_count": 89,
   "id": "cba32a29",
   "metadata": {
    "execution": {
     "iopub.execute_input": "2021-11-05T10:54:17.077483Z",
     "iopub.status.busy": "2021-11-05T10:54:17.076709Z",
     "iopub.status.idle": "2021-11-05T10:54:17.085689Z",
     "shell.execute_reply": "2021-11-05T10:54:17.084398Z",
     "shell.execute_reply.started": "2021-11-05T09:08:10.640205Z"
    },
    "papermill": {
     "duration": 0.19708,
     "end_time": "2021-11-05T10:54:17.085979",
     "exception": false,
     "start_time": "2021-11-05T10:54:16.888899",
     "status": "completed"
    },
    "tags": []
   },
   "outputs": [],
   "source": [
    "\n",
    "num_pipeline = Pipeline([\n",
    "    ('imputer',SimpleImputer(strategy='mean'))\n",
    "])\n",
    "\n",
    "\n",
    "cat_pipeline = Pipeline([\n",
    "    ('encoder',OneHotEncoder())\n",
    "])\n",
    "\n",
    "\n",
    "\n",
    "preprocessor = ColumnTransformer([\n",
    "    ('numeric',num_pipeline,num_columns),\n",
    "    ('categoric1',cat_pipeline,cat_columns),\n",
    "])\n",
    "\n",
    "Pipe_rf = Pipeline([\n",
    "    ('prep',preprocessor),\n",
    "    ('algo',RandomForestClassifier())\n",
    "\n",
    "])"
   ]
  },
  {
   "cell_type": "code",
   "execution_count": 90,
   "id": "d63947e0",
   "metadata": {
    "execution": {
     "iopub.execute_input": "2021-11-05T10:54:17.462617Z",
     "iopub.status.busy": "2021-11-05T10:54:17.461817Z",
     "iopub.status.idle": "2021-11-05T10:54:21.322647Z",
     "shell.execute_reply": "2021-11-05T10:54:21.323201Z",
     "shell.execute_reply.started": "2021-11-05T09:08:10.650623Z"
    },
    "papermill": {
     "duration": 4.049498,
     "end_time": "2021-11-05T10:54:21.323447",
     "exception": false,
     "start_time": "2021-11-05T10:54:17.273949",
     "status": "completed"
    },
    "tags": []
   },
   "outputs": [
    {
     "data": {
      "text/html": [
       "<style>#sk-container-id-4 {color: black;}#sk-container-id-4 pre{padding: 0;}#sk-container-id-4 div.sk-toggleable {background-color: white;}#sk-container-id-4 label.sk-toggleable__label {cursor: pointer;display: block;width: 100%;margin-bottom: 0;padding: 0.3em;box-sizing: border-box;text-align: center;}#sk-container-id-4 label.sk-toggleable__label-arrow:before {content: \"▸\";float: left;margin-right: 0.25em;color: #696969;}#sk-container-id-4 label.sk-toggleable__label-arrow:hover:before {color: black;}#sk-container-id-4 div.sk-estimator:hover label.sk-toggleable__label-arrow:before {color: black;}#sk-container-id-4 div.sk-toggleable__content {max-height: 0;max-width: 0;overflow: hidden;text-align: left;background-color: #f0f8ff;}#sk-container-id-4 div.sk-toggleable__content pre {margin: 0.2em;color: black;border-radius: 0.25em;background-color: #f0f8ff;}#sk-container-id-4 input.sk-toggleable__control:checked~div.sk-toggleable__content {max-height: 200px;max-width: 100%;overflow: auto;}#sk-container-id-4 input.sk-toggleable__control:checked~label.sk-toggleable__label-arrow:before {content: \"▾\";}#sk-container-id-4 div.sk-estimator input.sk-toggleable__control:checked~label.sk-toggleable__label {background-color: #d4ebff;}#sk-container-id-4 div.sk-label input.sk-toggleable__control:checked~label.sk-toggleable__label {background-color: #d4ebff;}#sk-container-id-4 input.sk-hidden--visually {border: 0;clip: rect(1px 1px 1px 1px);clip: rect(1px, 1px, 1px, 1px);height: 1px;margin: -1px;overflow: hidden;padding: 0;position: absolute;width: 1px;}#sk-container-id-4 div.sk-estimator {font-family: monospace;background-color: #f0f8ff;border: 1px dotted black;border-radius: 0.25em;box-sizing: border-box;margin-bottom: 0.5em;}#sk-container-id-4 div.sk-estimator:hover {background-color: #d4ebff;}#sk-container-id-4 div.sk-parallel-item::after {content: \"\";width: 100%;border-bottom: 1px solid gray;flex-grow: 1;}#sk-container-id-4 div.sk-label:hover label.sk-toggleable__label {background-color: #d4ebff;}#sk-container-id-4 div.sk-serial::before {content: \"\";position: absolute;border-left: 1px solid gray;box-sizing: border-box;top: 0;bottom: 0;left: 50%;z-index: 0;}#sk-container-id-4 div.sk-serial {display: flex;flex-direction: column;align-items: center;background-color: white;padding-right: 0.2em;padding-left: 0.2em;position: relative;}#sk-container-id-4 div.sk-item {position: relative;z-index: 1;}#sk-container-id-4 div.sk-parallel {display: flex;align-items: stretch;justify-content: center;background-color: white;position: relative;}#sk-container-id-4 div.sk-item::before, #sk-container-id-4 div.sk-parallel-item::before {content: \"\";position: absolute;border-left: 1px solid gray;box-sizing: border-box;top: 0;bottom: 0;left: 50%;z-index: -1;}#sk-container-id-4 div.sk-parallel-item {display: flex;flex-direction: column;z-index: 1;position: relative;background-color: white;}#sk-container-id-4 div.sk-parallel-item:first-child::after {align-self: flex-end;width: 50%;}#sk-container-id-4 div.sk-parallel-item:last-child::after {align-self: flex-start;width: 50%;}#sk-container-id-4 div.sk-parallel-item:only-child::after {width: 0;}#sk-container-id-4 div.sk-dashed-wrapped {border: 1px dashed gray;margin: 0 0.4em 0.5em 0.4em;box-sizing: border-box;padding-bottom: 0.4em;background-color: white;}#sk-container-id-4 div.sk-label label {font-family: monospace;font-weight: bold;display: inline-block;line-height: 1.2em;}#sk-container-id-4 div.sk-label-container {text-align: center;}#sk-container-id-4 div.sk-container {/* jupyter's `normalize.less` sets `[hidden] { display: none; }` but bootstrap.min.css set `[hidden] { display: none !important; }` so we also need the `!important` here to be able to override the default hidden behavior on the sphinx rendered scikit-learn.org. See: https://github.com/scikit-learn/scikit-learn/issues/21755 */display: inline-block !important;position: relative;}#sk-container-id-4 div.sk-text-repr-fallback {display: none;}</style><div id=\"sk-container-id-4\" class=\"sk-top-container\"><div class=\"sk-text-repr-fallback\"><pre>Pipeline(steps=[(&#x27;prep&#x27;,\n",
       "                 ColumnTransformer(transformers=[(&#x27;numeric&#x27;,\n",
       "                                                  Pipeline(steps=[(&#x27;imputer&#x27;,\n",
       "                                                                   SimpleImputer())]),\n",
       "                                                  [&#x27;previous&#x27;, &#x27;emp.var.rate&#x27;,\n",
       "                                                   &#x27;cons.price.idx&#x27;,\n",
       "                                                   &#x27;cons.conf.idx&#x27;,\n",
       "                                                   &#x27;euribor3m&#x27;]),\n",
       "                                                 (&#x27;categoric1&#x27;,\n",
       "                                                  Pipeline(steps=[(&#x27;encoder&#x27;,\n",
       "                                                                   OneHotEncoder())]),\n",
       "                                                  [&#x27;Marital_Status&#x27;, &#x27;default&#x27;,\n",
       "                                                   &#x27;housing&#x27;, &#x27;loan&#x27;, &#x27;contact&#x27;,\n",
       "                                                   &#x27;pdays&#x27;, &#x27;poutcome&#x27;,\n",
       "                                                   &#x27;Job_Type&#x27;, &#x27;age_group&#x27;,\n",
       "                                                   &#x27;Edu_Cat&#x27;])])),\n",
       "                (&#x27;algo&#x27;, RandomForestClassifier())])</pre><b>In a Jupyter environment, please rerun this cell to show the HTML representation or trust the notebook. <br />On GitHub, the HTML representation is unable to render, please try loading this page with nbviewer.org.</b></div><div class=\"sk-container\" hidden><div class=\"sk-item sk-dashed-wrapped\"><div class=\"sk-label-container\"><div class=\"sk-label sk-toggleable\"><input class=\"sk-toggleable__control sk-hidden--visually\" id=\"sk-estimator-id-23\" type=\"checkbox\" ><label for=\"sk-estimator-id-23\" class=\"sk-toggleable__label sk-toggleable__label-arrow\">Pipeline</label><div class=\"sk-toggleable__content\"><pre>Pipeline(steps=[(&#x27;prep&#x27;,\n",
       "                 ColumnTransformer(transformers=[(&#x27;numeric&#x27;,\n",
       "                                                  Pipeline(steps=[(&#x27;imputer&#x27;,\n",
       "                                                                   SimpleImputer())]),\n",
       "                                                  [&#x27;previous&#x27;, &#x27;emp.var.rate&#x27;,\n",
       "                                                   &#x27;cons.price.idx&#x27;,\n",
       "                                                   &#x27;cons.conf.idx&#x27;,\n",
       "                                                   &#x27;euribor3m&#x27;]),\n",
       "                                                 (&#x27;categoric1&#x27;,\n",
       "                                                  Pipeline(steps=[(&#x27;encoder&#x27;,\n",
       "                                                                   OneHotEncoder())]),\n",
       "                                                  [&#x27;Marital_Status&#x27;, &#x27;default&#x27;,\n",
       "                                                   &#x27;housing&#x27;, &#x27;loan&#x27;, &#x27;contact&#x27;,\n",
       "                                                   &#x27;pdays&#x27;, &#x27;poutcome&#x27;,\n",
       "                                                   &#x27;Job_Type&#x27;, &#x27;age_group&#x27;,\n",
       "                                                   &#x27;Edu_Cat&#x27;])])),\n",
       "                (&#x27;algo&#x27;, RandomForestClassifier())])</pre></div></div></div><div class=\"sk-serial\"><div class=\"sk-item sk-dashed-wrapped\"><div class=\"sk-label-container\"><div class=\"sk-label sk-toggleable\"><input class=\"sk-toggleable__control sk-hidden--visually\" id=\"sk-estimator-id-24\" type=\"checkbox\" ><label for=\"sk-estimator-id-24\" class=\"sk-toggleable__label sk-toggleable__label-arrow\">prep: ColumnTransformer</label><div class=\"sk-toggleable__content\"><pre>ColumnTransformer(transformers=[(&#x27;numeric&#x27;,\n",
       "                                 Pipeline(steps=[(&#x27;imputer&#x27;, SimpleImputer())]),\n",
       "                                 [&#x27;previous&#x27;, &#x27;emp.var.rate&#x27;, &#x27;cons.price.idx&#x27;,\n",
       "                                  &#x27;cons.conf.idx&#x27;, &#x27;euribor3m&#x27;]),\n",
       "                                (&#x27;categoric1&#x27;,\n",
       "                                 Pipeline(steps=[(&#x27;encoder&#x27;, OneHotEncoder())]),\n",
       "                                 [&#x27;Marital_Status&#x27;, &#x27;default&#x27;, &#x27;housing&#x27;,\n",
       "                                  &#x27;loan&#x27;, &#x27;contact&#x27;, &#x27;pdays&#x27;, &#x27;poutcome&#x27;,\n",
       "                                  &#x27;Job_Type&#x27;, &#x27;age_group&#x27;, &#x27;Edu_Cat&#x27;])])</pre></div></div></div><div class=\"sk-parallel\"><div class=\"sk-parallel-item\"><div class=\"sk-item\"><div class=\"sk-label-container\"><div class=\"sk-label sk-toggleable\"><input class=\"sk-toggleable__control sk-hidden--visually\" id=\"sk-estimator-id-25\" type=\"checkbox\" ><label for=\"sk-estimator-id-25\" class=\"sk-toggleable__label sk-toggleable__label-arrow\">numeric</label><div class=\"sk-toggleable__content\"><pre>[&#x27;previous&#x27;, &#x27;emp.var.rate&#x27;, &#x27;cons.price.idx&#x27;, &#x27;cons.conf.idx&#x27;, &#x27;euribor3m&#x27;]</pre></div></div></div><div class=\"sk-serial\"><div class=\"sk-item\"><div class=\"sk-serial\"><div class=\"sk-item\"><div class=\"sk-estimator sk-toggleable\"><input class=\"sk-toggleable__control sk-hidden--visually\" id=\"sk-estimator-id-26\" type=\"checkbox\" ><label for=\"sk-estimator-id-26\" class=\"sk-toggleable__label sk-toggleable__label-arrow\">SimpleImputer</label><div class=\"sk-toggleable__content\"><pre>SimpleImputer()</pre></div></div></div></div></div></div></div></div><div class=\"sk-parallel-item\"><div class=\"sk-item\"><div class=\"sk-label-container\"><div class=\"sk-label sk-toggleable\"><input class=\"sk-toggleable__control sk-hidden--visually\" id=\"sk-estimator-id-27\" type=\"checkbox\" ><label for=\"sk-estimator-id-27\" class=\"sk-toggleable__label sk-toggleable__label-arrow\">categoric1</label><div class=\"sk-toggleable__content\"><pre>[&#x27;Marital_Status&#x27;, &#x27;default&#x27;, &#x27;housing&#x27;, &#x27;loan&#x27;, &#x27;contact&#x27;, &#x27;pdays&#x27;, &#x27;poutcome&#x27;, &#x27;Job_Type&#x27;, &#x27;age_group&#x27;, &#x27;Edu_Cat&#x27;]</pre></div></div></div><div class=\"sk-serial\"><div class=\"sk-item\"><div class=\"sk-serial\"><div class=\"sk-item\"><div class=\"sk-estimator sk-toggleable\"><input class=\"sk-toggleable__control sk-hidden--visually\" id=\"sk-estimator-id-28\" type=\"checkbox\" ><label for=\"sk-estimator-id-28\" class=\"sk-toggleable__label sk-toggleable__label-arrow\">OneHotEncoder</label><div class=\"sk-toggleable__content\"><pre>OneHotEncoder()</pre></div></div></div></div></div></div></div></div></div></div><div class=\"sk-item\"><div class=\"sk-estimator sk-toggleable\"><input class=\"sk-toggleable__control sk-hidden--visually\" id=\"sk-estimator-id-29\" type=\"checkbox\" ><label for=\"sk-estimator-id-29\" class=\"sk-toggleable__label sk-toggleable__label-arrow\">RandomForestClassifier</label><div class=\"sk-toggleable__content\"><pre>RandomForestClassifier()</pre></div></div></div></div></div></div></div>"
      ],
      "text/plain": [
       "Pipeline(steps=[('prep',\n",
       "                 ColumnTransformer(transformers=[('numeric',\n",
       "                                                  Pipeline(steps=[('imputer',\n",
       "                                                                   SimpleImputer())]),\n",
       "                                                  ['previous', 'emp.var.rate',\n",
       "                                                   'cons.price.idx',\n",
       "                                                   'cons.conf.idx',\n",
       "                                                   'euribor3m']),\n",
       "                                                 ('categoric1',\n",
       "                                                  Pipeline(steps=[('encoder',\n",
       "                                                                   OneHotEncoder())]),\n",
       "                                                  ['Marital_Status', 'default',\n",
       "                                                   'housing', 'loan', 'contact',\n",
       "                                                   'pdays', 'poutcome',\n",
       "                                                   'Job_Type', 'age_group',\n",
       "                                                   'Edu_Cat'])])),\n",
       "                ('algo', RandomForestClassifier())])"
      ]
     },
     "execution_count": 90,
     "metadata": {},
     "output_type": "execute_result"
    }
   ],
   "source": [
    "Pipe_rf.fit(x_train,y_train)"
   ]
  },
  {
   "cell_type": "code",
   "execution_count": 91,
   "id": "db87a420",
   "metadata": {
    "execution": {
     "iopub.execute_input": "2021-11-05T10:54:21.692376Z",
     "iopub.status.busy": "2021-11-05T10:54:21.691607Z",
     "iopub.status.idle": "2021-11-05T10:54:22.991401Z",
     "shell.execute_reply": "2021-11-05T10:54:22.991926Z",
     "shell.execute_reply.started": "2021-11-05T09:08:14.256356Z"
    },
    "papermill": {
     "duration": 1.48651,
     "end_time": "2021-11-05T10:54:22.992130",
     "exception": false,
     "start_time": "2021-11-05T10:54:21.505620",
     "status": "completed"
    },
    "tags": []
   },
   "outputs": [],
   "source": [
    "rf_hasil_train, rf_hasil_test, rf_evaluation, rf_cm, rf_cr = log_evaluation(x_train, x_test, y_train, y_test, Pipe_rf)"
   ]
  },
  {
   "cell_type": "code",
   "execution_count": 92,
   "id": "a5435227",
   "metadata": {
    "execution": {
     "iopub.execute_input": "2021-11-05T10:54:23.354133Z",
     "iopub.status.busy": "2021-11-05T10:54:23.353404Z",
     "iopub.status.idle": "2021-11-05T10:54:23.363908Z",
     "shell.execute_reply": "2021-11-05T10:54:23.364451Z",
     "shell.execute_reply.started": "2021-11-05T09:08:15.424935Z"
    },
    "papermill": {
     "duration": 0.193324,
     "end_time": "2021-11-05T10:54:23.364634",
     "exception": false,
     "start_time": "2021-11-05T10:54:23.171310",
     "status": "completed"
    },
    "tags": []
   },
   "outputs": [
    {
     "data": {
      "text/html": [
       "<div>\n",
       "<style scoped>\n",
       "    .dataframe tbody tr th:only-of-type {\n",
       "        vertical-align: middle;\n",
       "    }\n",
       "\n",
       "    .dataframe tbody tr th {\n",
       "        vertical-align: top;\n",
       "    }\n",
       "\n",
       "    .dataframe thead th {\n",
       "        text-align: right;\n",
       "    }\n",
       "</style>\n",
       "<table border=\"1\" class=\"dataframe\">\n",
       "  <thead>\n",
       "    <tr style=\"text-align: right;\">\n",
       "      <th></th>\n",
       "      <th>Training</th>\n",
       "      <th>Testing</th>\n",
       "    </tr>\n",
       "  </thead>\n",
       "  <tbody>\n",
       "    <tr>\n",
       "      <th>accuracy</th>\n",
       "      <td>0.960200</td>\n",
       "      <td>0.884046</td>\n",
       "    </tr>\n",
       "    <tr>\n",
       "      <th>recall</th>\n",
       "      <td>0.683913</td>\n",
       "      <td>0.284483</td>\n",
       "    </tr>\n",
       "    <tr>\n",
       "      <th>precission</th>\n",
       "      <td>0.948430</td>\n",
       "      <td>0.475676</td>\n",
       "    </tr>\n",
       "    <tr>\n",
       "      <th>F1 Score</th>\n",
       "      <td>0.794739</td>\n",
       "      <td>0.356035</td>\n",
       "    </tr>\n",
       "    <tr>\n",
       "      <th>ROCAUC</th>\n",
       "      <td>0.839596</td>\n",
       "      <td>0.622332</td>\n",
       "    </tr>\n",
       "  </tbody>\n",
       "</table>\n",
       "</div>"
      ],
      "text/plain": [
       "            Training   Testing\n",
       "accuracy    0.960200  0.884046\n",
       "recall      0.683913  0.284483\n",
       "precission  0.948430  0.475676\n",
       "F1 Score    0.794739  0.356035\n",
       "ROCAUC      0.839596  0.622332"
      ]
     },
     "execution_count": 92,
     "metadata": {},
     "output_type": "execute_result"
    }
   ],
   "source": [
    "rf_evaluation"
   ]
  },
  {
   "cell_type": "code",
   "execution_count": 93,
   "id": "a6966121",
   "metadata": {
    "execution": {
     "iopub.execute_input": "2021-11-05T10:54:23.735110Z",
     "iopub.status.busy": "2021-11-05T10:54:23.734389Z",
     "iopub.status.idle": "2021-11-05T10:54:23.742714Z",
     "shell.execute_reply": "2021-11-05T10:54:23.743199Z",
     "shell.execute_reply.started": "2021-11-05T09:08:15.437808Z"
    },
    "papermill": {
     "duration": 0.199408,
     "end_time": "2021-11-05T10:54:23.743429",
     "exception": false,
     "start_time": "2021-11-05T10:54:23.544021",
     "status": "completed"
    },
    "tags": []
   },
   "outputs": [
    {
     "data": {
      "text/html": [
       "<div>\n",
       "<style scoped>\n",
       "    .dataframe tbody tr th:only-of-type {\n",
       "        vertical-align: middle;\n",
       "    }\n",
       "\n",
       "    .dataframe tbody tr th {\n",
       "        vertical-align: top;\n",
       "    }\n",
       "\n",
       "    .dataframe thead th {\n",
       "        text-align: right;\n",
       "    }\n",
       "</style>\n",
       "<table border=\"1\" class=\"dataframe\">\n",
       "  <thead>\n",
       "    <tr style=\"text-align: right;\">\n",
       "      <th></th>\n",
       "      <th>pred 1</th>\n",
       "      <th>pred 0</th>\n",
       "    </tr>\n",
       "  </thead>\n",
       "  <tbody>\n",
       "    <tr>\n",
       "      <th>akt1</th>\n",
       "      <td>264</td>\n",
       "      <td>664</td>\n",
       "    </tr>\n",
       "    <tr>\n",
       "      <th>akt0</th>\n",
       "      <td>291</td>\n",
       "      <td>7017</td>\n",
       "    </tr>\n",
       "  </tbody>\n",
       "</table>\n",
       "</div>"
      ],
      "text/plain": [
       "      pred 1  pred 0\n",
       "akt1     264     664\n",
       "akt0     291    7017"
      ]
     },
     "execution_count": 93,
     "metadata": {},
     "output_type": "execute_result"
    }
   ],
   "source": [
    "rf_cm"
   ]
  },
  {
   "cell_type": "code",
   "execution_count": 94,
   "id": "aa211676",
   "metadata": {
    "execution": {
     "iopub.execute_input": "2021-11-05T10:54:24.118886Z",
     "iopub.status.busy": "2021-11-05T10:54:24.117202Z",
     "iopub.status.idle": "2021-11-05T10:54:24.122027Z",
     "shell.execute_reply": "2021-11-05T10:54:24.122751Z",
     "shell.execute_reply.started": "2021-11-05T09:08:15.454106Z"
    },
    "papermill": {
     "duration": 0.193233,
     "end_time": "2021-11-05T10:54:24.122956",
     "exception": false,
     "start_time": "2021-11-05T10:54:23.929723",
     "status": "completed"
    },
    "tags": []
   },
   "outputs": [
    {
     "name": "stdout",
     "output_type": "stream",
     "text": [
      "              precision    recall  f1-score   support\n",
      "\n",
      "           0       0.91      0.96      0.94      7308\n",
      "           1       0.48      0.28      0.36       928\n",
      "\n",
      "    accuracy                           0.88      8236\n",
      "   macro avg       0.69      0.62      0.65      8236\n",
      "weighted avg       0.86      0.88      0.87      8236\n",
      "\n"
     ]
    }
   ],
   "source": [
    "print(rf_cr)"
   ]
  },
  {
   "cell_type": "markdown",
   "id": "dec7071b",
   "metadata": {
    "papermill": {
     "duration": 0.182061,
     "end_time": "2021-11-05T10:54:24.485244",
     "exception": false,
     "start_time": "2021-11-05T10:54:24.303183",
     "status": "completed"
    },
    "tags": []
   },
   "source": [
    "# Hyperparameter Tuning\n",
    "\n",
    "## XGBOOST"
   ]
  },
  {
   "cell_type": "code",
   "execution_count": 95,
   "id": "6924969d",
   "metadata": {
    "execution": {
     "iopub.execute_input": "2021-11-05T10:54:24.870915Z",
     "iopub.status.busy": "2021-11-05T10:54:24.870080Z",
     "iopub.status.idle": "2021-11-05T10:54:24.873921Z",
     "shell.execute_reply": "2021-11-05T10:54:24.874541Z",
     "shell.execute_reply.started": "2021-11-05T09:08:15.466915Z"
    },
    "papermill": {
     "duration": 0.198478,
     "end_time": "2021-11-05T10:54:24.874749",
     "exception": false,
     "start_time": "2021-11-05T10:54:24.676271",
     "status": "completed"
    },
    "tags": []
   },
   "outputs": [],
   "source": [
    "skf = StratifiedKFold(n_splits=4)"
   ]
  },
  {
   "cell_type": "code",
   "execution_count": 96,
   "id": "52e32839",
   "metadata": {
    "execution": {
     "iopub.execute_input": "2021-11-05T10:54:25.254483Z",
     "iopub.status.busy": "2021-11-05T10:54:25.253486Z",
     "iopub.status.idle": "2021-11-05T10:54:25.279616Z",
     "shell.execute_reply": "2021-11-05T10:54:25.280394Z",
     "shell.execute_reply.started": "2021-11-05T09:08:15.477400Z"
    },
    "papermill": {
     "duration": 0.219695,
     "end_time": "2021-11-05T10:54:25.280650",
     "exception": false,
     "start_time": "2021-11-05T10:54:25.060955",
     "status": "completed"
    },
    "tags": []
   },
   "outputs": [
    {
     "data": {
      "text/plain": [
       "{'memory': None,\n",
       " 'steps': [('prep', ColumnTransformer(transformers=[('numeric',\n",
       "                                    Pipeline(steps=[('imputer', SimpleImputer())]),\n",
       "                                    ['previous', 'emp.var.rate', 'cons.price.idx',\n",
       "                                     'cons.conf.idx', 'euribor3m']),\n",
       "                                   ('categoric1',\n",
       "                                    Pipeline(steps=[('encoder', OneHotEncoder())]),\n",
       "                                    ['Marital_Status', 'default', 'housing',\n",
       "                                     'loan', 'contact', 'pdays', 'poutcome',\n",
       "                                     'Job_Type', 'age_group', 'Edu_Cat'])])),\n",
       "  ('algo', GradientBoostingClassifier())],\n",
       " 'verbose': False,\n",
       " 'prep': ColumnTransformer(transformers=[('numeric',\n",
       "                                  Pipeline(steps=[('imputer', SimpleImputer())]),\n",
       "                                  ['previous', 'emp.var.rate', 'cons.price.idx',\n",
       "                                   'cons.conf.idx', 'euribor3m']),\n",
       "                                 ('categoric1',\n",
       "                                  Pipeline(steps=[('encoder', OneHotEncoder())]),\n",
       "                                  ['Marital_Status', 'default', 'housing',\n",
       "                                   'loan', 'contact', 'pdays', 'poutcome',\n",
       "                                   'Job_Type', 'age_group', 'Edu_Cat'])]),\n",
       " 'algo': GradientBoostingClassifier(),\n",
       " 'prep__n_jobs': None,\n",
       " 'prep__remainder': 'drop',\n",
       " 'prep__sparse_threshold': 0.3,\n",
       " 'prep__transformer_weights': None,\n",
       " 'prep__transformers': [('numeric',\n",
       "   Pipeline(steps=[('imputer', SimpleImputer())]),\n",
       "   ['previous',\n",
       "    'emp.var.rate',\n",
       "    'cons.price.idx',\n",
       "    'cons.conf.idx',\n",
       "    'euribor3m']),\n",
       "  ('categoric1',\n",
       "   Pipeline(steps=[('encoder', OneHotEncoder())]),\n",
       "   ['Marital_Status',\n",
       "    'default',\n",
       "    'housing',\n",
       "    'loan',\n",
       "    'contact',\n",
       "    'pdays',\n",
       "    'poutcome',\n",
       "    'Job_Type',\n",
       "    'age_group',\n",
       "    'Edu_Cat'])],\n",
       " 'prep__verbose': False,\n",
       " 'prep__verbose_feature_names_out': True,\n",
       " 'prep__numeric': Pipeline(steps=[('imputer', SimpleImputer())]),\n",
       " 'prep__categoric1': Pipeline(steps=[('encoder', OneHotEncoder())]),\n",
       " 'prep__numeric__memory': None,\n",
       " 'prep__numeric__steps': [('imputer', SimpleImputer())],\n",
       " 'prep__numeric__verbose': False,\n",
       " 'prep__numeric__imputer': SimpleImputer(),\n",
       " 'prep__numeric__imputer__add_indicator': False,\n",
       " 'prep__numeric__imputer__copy': True,\n",
       " 'prep__numeric__imputer__fill_value': None,\n",
       " 'prep__numeric__imputer__keep_empty_features': False,\n",
       " 'prep__numeric__imputer__missing_values': nan,\n",
       " 'prep__numeric__imputer__strategy': 'mean',\n",
       " 'prep__categoric1__memory': None,\n",
       " 'prep__categoric1__steps': [('encoder', OneHotEncoder())],\n",
       " 'prep__categoric1__verbose': False,\n",
       " 'prep__categoric1__encoder': OneHotEncoder(),\n",
       " 'prep__categoric1__encoder__categories': 'auto',\n",
       " 'prep__categoric1__encoder__drop': None,\n",
       " 'prep__categoric1__encoder__dtype': numpy.float64,\n",
       " 'prep__categoric1__encoder__feature_name_combiner': 'concat',\n",
       " 'prep__categoric1__encoder__handle_unknown': 'error',\n",
       " 'prep__categoric1__encoder__max_categories': None,\n",
       " 'prep__categoric1__encoder__min_frequency': None,\n",
       " 'prep__categoric1__encoder__sparse': 'deprecated',\n",
       " 'prep__categoric1__encoder__sparse_output': True,\n",
       " 'algo__ccp_alpha': 0.0,\n",
       " 'algo__criterion': 'friedman_mse',\n",
       " 'algo__init': None,\n",
       " 'algo__learning_rate': 0.1,\n",
       " 'algo__loss': 'log_loss',\n",
       " 'algo__max_depth': 3,\n",
       " 'algo__max_features': None,\n",
       " 'algo__max_leaf_nodes': None,\n",
       " 'algo__min_impurity_decrease': 0.0,\n",
       " 'algo__min_samples_leaf': 1,\n",
       " 'algo__min_samples_split': 2,\n",
       " 'algo__min_weight_fraction_leaf': 0.0,\n",
       " 'algo__n_estimators': 100,\n",
       " 'algo__n_iter_no_change': None,\n",
       " 'algo__random_state': None,\n",
       " 'algo__subsample': 1.0,\n",
       " 'algo__tol': 0.0001,\n",
       " 'algo__validation_fraction': 0.1,\n",
       " 'algo__verbose': 0,\n",
       " 'algo__warm_start': False}"
      ]
     },
     "execution_count": 96,
     "metadata": {},
     "output_type": "execute_result"
    }
   ],
   "source": [
    "Pipe_xgb.get_params()"
   ]
  },
  {
   "cell_type": "code",
   "execution_count": 97,
   "id": "0ef8b3e9",
   "metadata": {
    "execution": {
     "iopub.execute_input": "2021-11-05T10:54:25.649946Z",
     "iopub.status.busy": "2021-11-05T10:54:25.649024Z",
     "iopub.status.idle": "2021-11-05T10:54:25.655189Z",
     "shell.execute_reply": "2021-11-05T10:54:25.655764Z",
     "shell.execute_reply.started": "2021-11-05T09:08:15.506798Z"
    },
    "papermill": {
     "duration": 0.195771,
     "end_time": "2021-11-05T10:54:25.655967",
     "exception": false,
     "start_time": "2021-11-05T10:54:25.460196",
     "status": "completed"
    },
    "tags": []
   },
   "outputs": [
    {
     "data": {
      "text/plain": [
       "array([0.05, 0.1 , 0.15, 0.2 , 0.25, 0.3 , 0.35, 0.4 , 0.45, 0.5 , 0.55,\n",
       "       0.6 , 0.65, 0.7 , 0.75, 0.8 , 0.85])"
      ]
     },
     "execution_count": 97,
     "metadata": {},
     "output_type": "execute_result"
    }
   ],
   "source": [
    "weights2 = np.arange(0.05,0.9,0.05)\n",
    "weights2"
   ]
  },
  {
   "cell_type": "code",
   "execution_count": 142,
   "id": "601b9ad2",
   "metadata": {
    "execution": {
     "iopub.execute_input": "2021-11-05T10:54:26.028859Z",
     "iopub.status.busy": "2021-11-05T10:54:26.028047Z",
     "iopub.status.idle": "2021-11-05T10:54:26.034932Z",
     "shell.execute_reply": "2021-11-05T10:54:26.034195Z",
     "shell.execute_reply.started": "2021-11-05T09:08:15.520174Z"
    },
    "papermill": {
     "duration": 0.19421,
     "end_time": "2021-11-05T10:54:26.035119",
     "exception": false,
     "start_time": "2021-11-05T10:54:25.840909",
     "status": "completed"
    },
    "tags": []
   },
   "outputs": [],
   "source": [
    "pm_xgb = {\n",
    "    'algo__n_estimators': [1000,1100],\n",
    "    'algo__max_depth': np.arange(0,10,1),\n",
    "    'algo__learning_rate': np.arange(0.1,1,0.2),\n",
    "}"
   ]
  },
  {
   "cell_type": "code",
   "execution_count": 143,
   "id": "23c12598",
   "metadata": {
    "execution": {
     "iopub.execute_input": "2021-11-05T10:54:26.399352Z",
     "iopub.status.busy": "2021-11-05T10:54:26.398022Z",
     "iopub.status.idle": "2021-11-05T10:54:26.401194Z",
     "shell.execute_reply": "2021-11-05T10:54:26.400598Z",
     "shell.execute_reply.started": "2021-11-05T09:08:15.529014Z"
    },
    "papermill": {
     "duration": 0.185881,
     "end_time": "2021-11-05T10:54:26.401400",
     "exception": false,
     "start_time": "2021-11-05T10:54:26.215519",
     "status": "completed"
    },
    "tags": []
   },
   "outputs": [],
   "source": [
    "gs_xgb = GridSearchCV(Pipe_xgb, pm_xgb, cv = skf, n_jobs=-1)"
   ]
  },
  {
   "cell_type": "code",
   "execution_count": 144,
   "id": "5045fbf0",
   "metadata": {
    "execution": {
     "iopub.execute_input": "2021-11-05T10:54:26.772910Z",
     "iopub.status.busy": "2021-11-05T10:54:26.772083Z",
     "iopub.status.idle": "2021-11-05T11:35:41.249004Z",
     "shell.execute_reply": "2021-11-05T11:35:41.249591Z",
     "shell.execute_reply.started": "2021-11-05T09:08:15.540023Z"
    },
    "papermill": {
     "duration": 2474.66673,
     "end_time": "2021-11-05T11:35:41.249803",
     "exception": false,
     "start_time": "2021-11-05T10:54:26.583073",
     "status": "completed"
    },
    "tags": []
   },
   "outputs": [
    {
     "ename": "KeyboardInterrupt",
     "evalue": "",
     "output_type": "error",
     "traceback": [
      "\u001b[0;31m---------------------------------------------------------------------------\u001b[0m",
      "\u001b[0;31mKeyboardInterrupt\u001b[0m                         Traceback (most recent call last)",
      "\u001b[0;32m/var/folders/p_/mmxdy_7d35g2fdps0dzz0hyc0000gn/T/ipykernel_487/1217042214.py\u001b[0m in \u001b[0;36m<module>\u001b[0;34m\u001b[0m\n\u001b[0;32m----> 1\u001b[0;31m \u001b[0mgs_xgb\u001b[0m\u001b[0;34m.\u001b[0m\u001b[0mfit\u001b[0m\u001b[0;34m(\u001b[0m\u001b[0mx_train\u001b[0m\u001b[0;34m,\u001b[0m\u001b[0my_train\u001b[0m\u001b[0;34m)\u001b[0m\u001b[0;34m\u001b[0m\u001b[0;34m\u001b[0m\u001b[0m\n\u001b[0m",
      "\u001b[0;32m~/opt/anaconda3/lib/python3.9/site-packages/sklearn/base.py\u001b[0m in \u001b[0;36mwrapper\u001b[0;34m(estimator, *args, **kwargs)\u001b[0m\n\u001b[1;32m   1150\u001b[0m                 )\n\u001b[1;32m   1151\u001b[0m             ):\n\u001b[0;32m-> 1152\u001b[0;31m                 \u001b[0;32mreturn\u001b[0m \u001b[0mfit_method\u001b[0m\u001b[0;34m(\u001b[0m\u001b[0mestimator\u001b[0m\u001b[0;34m,\u001b[0m \u001b[0;34m*\u001b[0m\u001b[0margs\u001b[0m\u001b[0;34m,\u001b[0m \u001b[0;34m**\u001b[0m\u001b[0mkwargs\u001b[0m\u001b[0;34m)\u001b[0m\u001b[0;34m\u001b[0m\u001b[0;34m\u001b[0m\u001b[0m\n\u001b[0m\u001b[1;32m   1153\u001b[0m \u001b[0;34m\u001b[0m\u001b[0m\n\u001b[1;32m   1154\u001b[0m         \u001b[0;32mreturn\u001b[0m \u001b[0mwrapper\u001b[0m\u001b[0;34m\u001b[0m\u001b[0;34m\u001b[0m\u001b[0m\n",
      "\u001b[0;32m~/opt/anaconda3/lib/python3.9/site-packages/sklearn/model_selection/_search.py\u001b[0m in \u001b[0;36mfit\u001b[0;34m(self, X, y, groups, **fit_params)\u001b[0m\n\u001b[1;32m    896\u001b[0m                 \u001b[0;32mreturn\u001b[0m \u001b[0mresults\u001b[0m\u001b[0;34m\u001b[0m\u001b[0;34m\u001b[0m\u001b[0m\n\u001b[1;32m    897\u001b[0m \u001b[0;34m\u001b[0m\u001b[0m\n\u001b[0;32m--> 898\u001b[0;31m             \u001b[0mself\u001b[0m\u001b[0;34m.\u001b[0m\u001b[0m_run_search\u001b[0m\u001b[0;34m(\u001b[0m\u001b[0mevaluate_candidates\u001b[0m\u001b[0;34m)\u001b[0m\u001b[0;34m\u001b[0m\u001b[0;34m\u001b[0m\u001b[0m\n\u001b[0m\u001b[1;32m    899\u001b[0m \u001b[0;34m\u001b[0m\u001b[0m\n\u001b[1;32m    900\u001b[0m             \u001b[0;31m# multimetric is determined here because in the case of a callable\u001b[0m\u001b[0;34m\u001b[0m\u001b[0;34m\u001b[0m\u001b[0m\n",
      "\u001b[0;32m~/opt/anaconda3/lib/python3.9/site-packages/sklearn/model_selection/_search.py\u001b[0m in \u001b[0;36m_run_search\u001b[0;34m(self, evaluate_candidates)\u001b[0m\n\u001b[1;32m   1420\u001b[0m     \u001b[0;32mdef\u001b[0m \u001b[0m_run_search\u001b[0m\u001b[0;34m(\u001b[0m\u001b[0mself\u001b[0m\u001b[0;34m,\u001b[0m \u001b[0mevaluate_candidates\u001b[0m\u001b[0;34m)\u001b[0m\u001b[0;34m:\u001b[0m\u001b[0;34m\u001b[0m\u001b[0;34m\u001b[0m\u001b[0m\n\u001b[1;32m   1421\u001b[0m         \u001b[0;34m\"\"\"Search all candidates in param_grid\"\"\"\u001b[0m\u001b[0;34m\u001b[0m\u001b[0;34m\u001b[0m\u001b[0m\n\u001b[0;32m-> 1422\u001b[0;31m         \u001b[0mevaluate_candidates\u001b[0m\u001b[0;34m(\u001b[0m\u001b[0mParameterGrid\u001b[0m\u001b[0;34m(\u001b[0m\u001b[0mself\u001b[0m\u001b[0;34m.\u001b[0m\u001b[0mparam_grid\u001b[0m\u001b[0;34m)\u001b[0m\u001b[0;34m)\u001b[0m\u001b[0;34m\u001b[0m\u001b[0;34m\u001b[0m\u001b[0m\n\u001b[0m\u001b[1;32m   1423\u001b[0m \u001b[0;34m\u001b[0m\u001b[0m\n\u001b[1;32m   1424\u001b[0m \u001b[0;34m\u001b[0m\u001b[0m\n",
      "\u001b[0;32m~/opt/anaconda3/lib/python3.9/site-packages/sklearn/model_selection/_search.py\u001b[0m in \u001b[0;36mevaluate_candidates\u001b[0;34m(candidate_params, cv, more_results)\u001b[0m\n\u001b[1;32m    843\u001b[0m                     )\n\u001b[1;32m    844\u001b[0m \u001b[0;34m\u001b[0m\u001b[0m\n\u001b[0;32m--> 845\u001b[0;31m                 out = parallel(\n\u001b[0m\u001b[1;32m    846\u001b[0m                     delayed(_fit_and_score)(\n\u001b[1;32m    847\u001b[0m                         \u001b[0mclone\u001b[0m\u001b[0;34m(\u001b[0m\u001b[0mbase_estimator\u001b[0m\u001b[0;34m)\u001b[0m\u001b[0;34m,\u001b[0m\u001b[0;34m\u001b[0m\u001b[0;34m\u001b[0m\u001b[0m\n",
      "\u001b[0;32m~/opt/anaconda3/lib/python3.9/site-packages/sklearn/utils/parallel.py\u001b[0m in \u001b[0;36m__call__\u001b[0;34m(self, iterable)\u001b[0m\n\u001b[1;32m     63\u001b[0m             \u001b[0;32mfor\u001b[0m \u001b[0mdelayed_func\u001b[0m\u001b[0;34m,\u001b[0m \u001b[0margs\u001b[0m\u001b[0;34m,\u001b[0m \u001b[0mkwargs\u001b[0m \u001b[0;32min\u001b[0m \u001b[0miterable\u001b[0m\u001b[0;34m\u001b[0m\u001b[0;34m\u001b[0m\u001b[0m\n\u001b[1;32m     64\u001b[0m         )\n\u001b[0;32m---> 65\u001b[0;31m         \u001b[0;32mreturn\u001b[0m \u001b[0msuper\u001b[0m\u001b[0;34m(\u001b[0m\u001b[0;34m)\u001b[0m\u001b[0;34m.\u001b[0m\u001b[0m__call__\u001b[0m\u001b[0;34m(\u001b[0m\u001b[0miterable_with_config\u001b[0m\u001b[0;34m)\u001b[0m\u001b[0;34m\u001b[0m\u001b[0;34m\u001b[0m\u001b[0m\n\u001b[0m\u001b[1;32m     66\u001b[0m \u001b[0;34m\u001b[0m\u001b[0m\n\u001b[1;32m     67\u001b[0m \u001b[0;34m\u001b[0m\u001b[0m\n",
      "\u001b[0;32m~/opt/anaconda3/lib/python3.9/site-packages/joblib/parallel.py\u001b[0m in \u001b[0;36m__call__\u001b[0;34m(self, iterable)\u001b[0m\n\u001b[1;32m   1950\u001b[0m         \u001b[0mnext\u001b[0m\u001b[0;34m(\u001b[0m\u001b[0moutput\u001b[0m\u001b[0;34m)\u001b[0m\u001b[0;34m\u001b[0m\u001b[0;34m\u001b[0m\u001b[0m\n\u001b[1;32m   1951\u001b[0m \u001b[0;34m\u001b[0m\u001b[0m\n\u001b[0;32m-> 1952\u001b[0;31m         \u001b[0;32mreturn\u001b[0m \u001b[0moutput\u001b[0m \u001b[0;32mif\u001b[0m \u001b[0mself\u001b[0m\u001b[0;34m.\u001b[0m\u001b[0mreturn_generator\u001b[0m \u001b[0;32melse\u001b[0m \u001b[0mlist\u001b[0m\u001b[0;34m(\u001b[0m\u001b[0moutput\u001b[0m\u001b[0;34m)\u001b[0m\u001b[0;34m\u001b[0m\u001b[0;34m\u001b[0m\u001b[0m\n\u001b[0m\u001b[1;32m   1953\u001b[0m \u001b[0;34m\u001b[0m\u001b[0m\n\u001b[1;32m   1954\u001b[0m     \u001b[0;32mdef\u001b[0m \u001b[0m__repr__\u001b[0m\u001b[0;34m(\u001b[0m\u001b[0mself\u001b[0m\u001b[0;34m)\u001b[0m\u001b[0;34m:\u001b[0m\u001b[0;34m\u001b[0m\u001b[0;34m\u001b[0m\u001b[0m\n",
      "\u001b[0;32m~/opt/anaconda3/lib/python3.9/site-packages/joblib/parallel.py\u001b[0m in \u001b[0;36m_get_outputs\u001b[0;34m(self, iterator, pre_dispatch)\u001b[0m\n\u001b[1;32m   1593\u001b[0m \u001b[0;34m\u001b[0m\u001b[0m\n\u001b[1;32m   1594\u001b[0m             \u001b[0;32mwith\u001b[0m \u001b[0mself\u001b[0m\u001b[0;34m.\u001b[0m\u001b[0m_backend\u001b[0m\u001b[0;34m.\u001b[0m\u001b[0mretrieval_context\u001b[0m\u001b[0;34m(\u001b[0m\u001b[0;34m)\u001b[0m\u001b[0;34m:\u001b[0m\u001b[0;34m\u001b[0m\u001b[0;34m\u001b[0m\u001b[0m\n\u001b[0;32m-> 1595\u001b[0;31m                 \u001b[0;32myield\u001b[0m \u001b[0;32mfrom\u001b[0m \u001b[0mself\u001b[0m\u001b[0;34m.\u001b[0m\u001b[0m_retrieve\u001b[0m\u001b[0;34m(\u001b[0m\u001b[0;34m)\u001b[0m\u001b[0;34m\u001b[0m\u001b[0;34m\u001b[0m\u001b[0m\n\u001b[0m\u001b[1;32m   1596\u001b[0m \u001b[0;34m\u001b[0m\u001b[0m\n\u001b[1;32m   1597\u001b[0m         \u001b[0;32mexcept\u001b[0m \u001b[0mGeneratorExit\u001b[0m\u001b[0;34m:\u001b[0m\u001b[0;34m\u001b[0m\u001b[0;34m\u001b[0m\u001b[0m\n",
      "\u001b[0;32m~/opt/anaconda3/lib/python3.9/site-packages/joblib/parallel.py\u001b[0m in \u001b[0;36m_retrieve\u001b[0;34m(self)\u001b[0m\n\u001b[1;32m   1705\u001b[0m                 (self._jobs[0].get_status(\n\u001b[1;32m   1706\u001b[0m                     timeout=self.timeout) == TASK_PENDING)):\n\u001b[0;32m-> 1707\u001b[0;31m                 \u001b[0mtime\u001b[0m\u001b[0;34m.\u001b[0m\u001b[0msleep\u001b[0m\u001b[0;34m(\u001b[0m\u001b[0;36m0.01\u001b[0m\u001b[0;34m)\u001b[0m\u001b[0;34m\u001b[0m\u001b[0;34m\u001b[0m\u001b[0m\n\u001b[0m\u001b[1;32m   1708\u001b[0m                 \u001b[0;32mcontinue\u001b[0m\u001b[0;34m\u001b[0m\u001b[0;34m\u001b[0m\u001b[0m\n\u001b[1;32m   1709\u001b[0m \u001b[0;34m\u001b[0m\u001b[0m\n",
      "\u001b[0;31mKeyboardInterrupt\u001b[0m: "
     ]
    }
   ],
   "source": [
    "gs_xgb.fit(x_train,y_train)"
   ]
  },
  {
   "cell_type": "code",
   "execution_count": null,
   "id": "df42f2c3",
   "metadata": {
    "execution": {
     "iopub.execute_input": "2021-11-05T11:35:41.624207Z",
     "iopub.status.busy": "2021-11-05T11:35:41.623086Z",
     "iopub.status.idle": "2021-11-05T11:35:41.629463Z",
     "shell.execute_reply": "2021-11-05T11:35:41.630080Z",
     "shell.execute_reply.started": "2021-11-05T09:54:12.087929Z"
    },
    "papermill": {
     "duration": 0.19127,
     "end_time": "2021-11-05T11:35:41.630263",
     "exception": false,
     "start_time": "2021-11-05T11:35:41.438993",
     "status": "completed"
    },
    "tags": []
   },
   "outputs": [],
   "source": [
    "gs_xgb.best_params_"
   ]
  },
  {
   "cell_type": "code",
   "execution_count": null,
   "id": "f70b85a6",
   "metadata": {
    "execution": {
     "iopub.execute_input": "2021-11-05T11:35:41.999219Z",
     "iopub.status.busy": "2021-11-05T11:35:41.998156Z",
     "iopub.status.idle": "2021-11-05T11:35:42.000151Z",
     "shell.execute_reply": "2021-11-05T11:35:42.000819Z",
     "shell.execute_reply.started": "2021-11-05T09:54:42.977431Z"
    },
    "papermill": {
     "duration": 0.186703,
     "end_time": "2021-11-05T11:35:42.001002",
     "exception": false,
     "start_time": "2021-11-05T11:35:41.814299",
     "status": "completed"
    },
    "tags": []
   },
   "outputs": [],
   "source": [
    "xgb_t = gs_xgb.best_estimator_"
   ]
  },
  {
   "cell_type": "code",
   "execution_count": null,
   "id": "b294373b",
   "metadata": {
    "execution": {
     "iopub.execute_input": "2021-11-05T11:35:42.367811Z",
     "iopub.status.busy": "2021-11-05T11:35:42.366772Z",
     "iopub.status.idle": "2021-11-05T11:35:44.265796Z",
     "shell.execute_reply": "2021-11-05T11:35:44.266380Z",
     "shell.execute_reply.started": "2021-11-05T10:14:19.546537Z"
    },
    "papermill": {
     "duration": 2.08855,
     "end_time": "2021-11-05T11:35:44.266575",
     "exception": false,
     "start_time": "2021-11-05T11:35:42.178025",
     "status": "completed"
    },
    "tags": []
   },
   "outputs": [],
   "source": [
    "xgbt_hasil_train, xgbt_hasil_test, xgbt_evaluation, xgbt_cm, xgbt_cr = log_evaluation(x_train, x_test, y_train, y_test, xgb_t)"
   ]
  },
  {
   "cell_type": "code",
   "execution_count": null,
   "id": "42851ec8",
   "metadata": {
    "execution": {
     "iopub.execute_input": "2021-11-05T11:35:44.635530Z",
     "iopub.status.busy": "2021-11-05T11:35:44.634520Z",
     "iopub.status.idle": "2021-11-05T11:35:44.639567Z",
     "shell.execute_reply": "2021-11-05T11:35:44.640078Z",
     "shell.execute_reply.started": "2021-11-05T10:14:24.726790Z"
    },
    "papermill": {
     "duration": 0.194767,
     "end_time": "2021-11-05T11:35:44.640259",
     "exception": false,
     "start_time": "2021-11-05T11:35:44.445492",
     "status": "completed"
    },
    "tags": []
   },
   "outputs": [],
   "source": [
    "xgbt_evaluation"
   ]
  },
  {
   "cell_type": "code",
   "execution_count": null,
   "id": "5825ddc7",
   "metadata": {
    "execution": {
     "iopub.execute_input": "2021-11-05T11:35:45.008655Z",
     "iopub.status.busy": "2021-11-05T11:35:45.007788Z",
     "iopub.status.idle": "2021-11-05T11:35:45.011162Z",
     "shell.execute_reply": "2021-11-05T11:35:45.011659Z",
     "shell.execute_reply.started": "2021-11-05T10:14:29.634921Z"
    },
    "papermill": {
     "duration": 0.190155,
     "end_time": "2021-11-05T11:35:45.011827",
     "exception": false,
     "start_time": "2021-11-05T11:35:44.821672",
     "status": "completed"
    },
    "tags": []
   },
   "outputs": [],
   "source": [
    "xgbt_cm"
   ]
  },
  {
   "cell_type": "code",
   "execution_count": null,
   "id": "2f646e2b",
   "metadata": {
    "execution": {
     "iopub.execute_input": "2021-11-05T11:35:45.411428Z",
     "iopub.status.busy": "2021-11-05T11:35:45.410706Z",
     "iopub.status.idle": "2021-11-05T11:35:45.414210Z",
     "shell.execute_reply": "2021-11-05T11:35:45.414931Z",
     "shell.execute_reply.started": "2021-11-05T10:14:32.800636Z"
    },
    "papermill": {
     "duration": 0.213239,
     "end_time": "2021-11-05T11:35:45.415160",
     "exception": false,
     "start_time": "2021-11-05T11:35:45.201921",
     "status": "completed"
    },
    "tags": []
   },
   "outputs": [],
   "source": [
    "print(xgbt_cr)"
   ]
  },
  {
   "cell_type": "markdown",
   "id": "f6ba1b69",
   "metadata": {
    "papermill": {
     "duration": 0.182303,
     "end_time": "2021-11-05T11:35:45.785965",
     "exception": false,
     "start_time": "2021-11-05T11:35:45.603662",
     "status": "completed"
    },
    "tags": []
   },
   "source": [
    "Comparison before and after parameter tuning"
   ]
  },
  {
   "cell_type": "code",
   "execution_count": null,
   "id": "678f06dd",
   "metadata": {
    "execution": {
     "iopub.execute_input": "2021-11-05T11:35:46.156107Z",
     "iopub.status.busy": "2021-11-05T11:35:46.155024Z",
     "iopub.status.idle": "2021-11-05T11:35:46.165498Z",
     "shell.execute_reply": "2021-11-05T11:35:46.164932Z",
     "shell.execute_reply.started": "2021-11-05T10:15:27.284706Z"
    },
    "papermill": {
     "duration": 0.198764,
     "end_time": "2021-11-05T11:35:46.165662",
     "exception": false,
     "start_time": "2021-11-05T11:35:45.966898",
     "status": "completed"
    },
    "tags": []
   },
   "outputs": [],
   "source": [
    "pd.concat([xgb_evaluation,xgbt_evaluation], axis= 1)"
   ]
  },
  {
   "cell_type": "markdown",
   "id": "6463cedb",
   "metadata": {
    "papermill": {
     "duration": 0.18109,
     "end_time": "2021-11-05T11:35:46.532792",
     "exception": false,
     "start_time": "2021-11-05T11:35:46.351702",
     "status": "completed"
    },
    "tags": []
   },
   "source": [
    "## Random Forest"
   ]
  },
  {
   "cell_type": "code",
   "execution_count": 108,
   "id": "aabe38e7",
   "metadata": {
    "execution": {
     "iopub.execute_input": "2021-11-05T11:35:46.932652Z",
     "iopub.status.busy": "2021-11-05T11:35:46.931781Z",
     "iopub.status.idle": "2021-11-05T11:35:46.935059Z",
     "shell.execute_reply": "2021-11-05T11:35:46.935591Z",
     "shell.execute_reply.started": "2021-11-05T09:57:58.511195Z"
    },
    "papermill": {
     "duration": 0.217687,
     "end_time": "2021-11-05T11:35:46.935771",
     "exception": false,
     "start_time": "2021-11-05T11:35:46.718084",
     "status": "completed"
    },
    "tags": []
   },
   "outputs": [
    {
     "data": {
      "text/plain": [
       "{'memory': None,\n",
       " 'steps': [('prep', ColumnTransformer(transformers=[('numeric',\n",
       "                                    Pipeline(steps=[('imputer', SimpleImputer())]),\n",
       "                                    ['previous', 'emp.var.rate', 'cons.price.idx',\n",
       "                                     'cons.conf.idx', 'euribor3m']),\n",
       "                                   ('categoric1',\n",
       "                                    Pipeline(steps=[('encoder', OneHotEncoder())]),\n",
       "                                    ['Marital_Status', 'default', 'housing',\n",
       "                                     'loan', 'contact', 'pdays', 'poutcome',\n",
       "                                     'Job_Type', 'age_group', 'Edu_Cat'])])),\n",
       "  ('algo', RandomForestClassifier())],\n",
       " 'verbose': False,\n",
       " 'prep': ColumnTransformer(transformers=[('numeric',\n",
       "                                  Pipeline(steps=[('imputer', SimpleImputer())]),\n",
       "                                  ['previous', 'emp.var.rate', 'cons.price.idx',\n",
       "                                   'cons.conf.idx', 'euribor3m']),\n",
       "                                 ('categoric1',\n",
       "                                  Pipeline(steps=[('encoder', OneHotEncoder())]),\n",
       "                                  ['Marital_Status', 'default', 'housing',\n",
       "                                   'loan', 'contact', 'pdays', 'poutcome',\n",
       "                                   'Job_Type', 'age_group', 'Edu_Cat'])]),\n",
       " 'algo': RandomForestClassifier(),\n",
       " 'prep__n_jobs': None,\n",
       " 'prep__remainder': 'drop',\n",
       " 'prep__sparse_threshold': 0.3,\n",
       " 'prep__transformer_weights': None,\n",
       " 'prep__transformers': [('numeric',\n",
       "   Pipeline(steps=[('imputer', SimpleImputer())]),\n",
       "   ['previous',\n",
       "    'emp.var.rate',\n",
       "    'cons.price.idx',\n",
       "    'cons.conf.idx',\n",
       "    'euribor3m']),\n",
       "  ('categoric1',\n",
       "   Pipeline(steps=[('encoder', OneHotEncoder())]),\n",
       "   ['Marital_Status',\n",
       "    'default',\n",
       "    'housing',\n",
       "    'loan',\n",
       "    'contact',\n",
       "    'pdays',\n",
       "    'poutcome',\n",
       "    'Job_Type',\n",
       "    'age_group',\n",
       "    'Edu_Cat'])],\n",
       " 'prep__verbose': False,\n",
       " 'prep__verbose_feature_names_out': True,\n",
       " 'prep__numeric': Pipeline(steps=[('imputer', SimpleImputer())]),\n",
       " 'prep__categoric1': Pipeline(steps=[('encoder', OneHotEncoder())]),\n",
       " 'prep__numeric__memory': None,\n",
       " 'prep__numeric__steps': [('imputer', SimpleImputer())],\n",
       " 'prep__numeric__verbose': False,\n",
       " 'prep__numeric__imputer': SimpleImputer(),\n",
       " 'prep__numeric__imputer__add_indicator': False,\n",
       " 'prep__numeric__imputer__copy': True,\n",
       " 'prep__numeric__imputer__fill_value': None,\n",
       " 'prep__numeric__imputer__keep_empty_features': False,\n",
       " 'prep__numeric__imputer__missing_values': nan,\n",
       " 'prep__numeric__imputer__strategy': 'mean',\n",
       " 'prep__categoric1__memory': None,\n",
       " 'prep__categoric1__steps': [('encoder', OneHotEncoder())],\n",
       " 'prep__categoric1__verbose': False,\n",
       " 'prep__categoric1__encoder': OneHotEncoder(),\n",
       " 'prep__categoric1__encoder__categories': 'auto',\n",
       " 'prep__categoric1__encoder__drop': None,\n",
       " 'prep__categoric1__encoder__dtype': numpy.float64,\n",
       " 'prep__categoric1__encoder__feature_name_combiner': 'concat',\n",
       " 'prep__categoric1__encoder__handle_unknown': 'error',\n",
       " 'prep__categoric1__encoder__max_categories': None,\n",
       " 'prep__categoric1__encoder__min_frequency': None,\n",
       " 'prep__categoric1__encoder__sparse': 'deprecated',\n",
       " 'prep__categoric1__encoder__sparse_output': True,\n",
       " 'algo__bootstrap': True,\n",
       " 'algo__ccp_alpha': 0.0,\n",
       " 'algo__class_weight': None,\n",
       " 'algo__criterion': 'gini',\n",
       " 'algo__max_depth': None,\n",
       " 'algo__max_features': 'sqrt',\n",
       " 'algo__max_leaf_nodes': None,\n",
       " 'algo__max_samples': None,\n",
       " 'algo__min_impurity_decrease': 0.0,\n",
       " 'algo__min_samples_leaf': 1,\n",
       " 'algo__min_samples_split': 2,\n",
       " 'algo__min_weight_fraction_leaf': 0.0,\n",
       " 'algo__n_estimators': 100,\n",
       " 'algo__n_jobs': None,\n",
       " 'algo__oob_score': False,\n",
       " 'algo__random_state': None,\n",
       " 'algo__verbose': 0,\n",
       " 'algo__warm_start': False}"
      ]
     },
     "execution_count": 108,
     "metadata": {},
     "output_type": "execute_result"
    }
   ],
   "source": [
    "Pipe_rf.get_params()"
   ]
  },
  {
   "cell_type": "code",
   "execution_count": 109,
   "id": "417a46a4",
   "metadata": {
    "execution": {
     "iopub.execute_input": "2021-11-05T11:35:47.312292Z",
     "iopub.status.busy": "2021-11-05T11:35:47.311107Z",
     "iopub.status.idle": "2021-11-05T11:35:47.317659Z",
     "shell.execute_reply": "2021-11-05T11:35:47.318218Z",
     "shell.execute_reply.started": "2021-11-05T09:58:38.045176Z"
    },
    "papermill": {
     "duration": 0.19869,
     "end_time": "2021-11-05T11:35:47.318416",
     "exception": false,
     "start_time": "2021-11-05T11:35:47.119726",
     "status": "completed"
    },
    "tags": []
   },
   "outputs": [
    {
     "data": {
      "text/plain": [
       "array([0.1, 0.2, 0.3, 0.4, 0.5, 0.6, 0.7, 0.8])"
      ]
     },
     "execution_count": 109,
     "metadata": {},
     "output_type": "execute_result"
    }
   ],
   "source": [
    "weights2 = np.arange(0.1,0.9,0.1)\n",
    "weights2"
   ]
  },
  {
   "cell_type": "code",
   "execution_count": 122,
   "id": "22234602",
   "metadata": {
    "execution": {
     "iopub.execute_input": "2021-11-05T11:35:47.690134Z",
     "iopub.status.busy": "2021-11-05T11:35:47.689226Z",
     "iopub.status.idle": "2021-11-05T11:35:47.695515Z",
     "shell.execute_reply": "2021-11-05T11:35:47.694914Z",
     "shell.execute_reply.started": "2021-11-05T10:06:41.415553Z"
    },
    "papermill": {
     "duration": 0.194687,
     "end_time": "2021-11-05T11:35:47.695677",
     "exception": false,
     "start_time": "2021-11-05T11:35:47.500990",
     "status": "completed"
    },
    "tags": []
   },
   "outputs": [],
   "source": [
    "pm_rf = {\n",
    "    'algo__n_estimators': [100, 500, 1000],\n",
    "    'algo__max_depth': np.arange(0,10,1),\n",
    "    #'algo__min_samples_split' : np.arange(1,200,1),\n",
    "    #'algo__min_samples_leaf': np.arange(1,200,1),\n",
    "    'algo__class_weight': [{0:x, 1:1.0-x} for x in weights2],\n",
    "    #\"algo__random_state\" : [42]\n",
    "\n",
    "}"
   ]
  },
  {
   "cell_type": "code",
   "execution_count": 123,
   "id": "40207ff0",
   "metadata": {
    "execution": {
     "iopub.execute_input": "2021-11-05T11:35:48.074828Z",
     "iopub.status.busy": "2021-11-05T11:35:48.072076Z",
     "iopub.status.idle": "2021-11-05T11:35:48.078426Z",
     "shell.execute_reply": "2021-11-05T11:35:48.078994Z",
     "shell.execute_reply.started": "2021-11-05T10:08:03.887613Z"
    },
    "papermill": {
     "duration": 0.198098,
     "end_time": "2021-11-05T11:35:48.079182",
     "exception": false,
     "start_time": "2021-11-05T11:35:47.881084",
     "status": "completed"
    },
    "tags": []
   },
   "outputs": [],
   "source": [
    "gs_rft = GridSearchCV(Pipe_rf, pm_rf, cv = skf, n_jobs=-1)"
   ]
  },
  {
   "cell_type": "code",
   "execution_count": 124,
   "id": "28cbe8c9",
   "metadata": {
    "execution": {
     "iopub.execute_input": "2021-11-05T11:35:48.463826Z",
     "iopub.status.busy": "2021-11-05T11:35:48.463071Z",
     "iopub.status.idle": "2021-11-05T11:39:23.035433Z",
     "shell.execute_reply": "2021-11-05T11:39:23.035962Z",
     "shell.execute_reply.started": "2021-11-05T10:08:06.489180Z"
    },
    "papermill": {
     "duration": 214.766401,
     "end_time": "2021-11-05T11:39:23.036154",
     "exception": false,
     "start_time": "2021-11-05T11:35:48.269753",
     "status": "completed"
    },
    "tags": []
   },
   "outputs": [
    {
     "data": {
      "text/html": [
       "<style>#sk-container-id-7 {color: black;}#sk-container-id-7 pre{padding: 0;}#sk-container-id-7 div.sk-toggleable {background-color: white;}#sk-container-id-7 label.sk-toggleable__label {cursor: pointer;display: block;width: 100%;margin-bottom: 0;padding: 0.3em;box-sizing: border-box;text-align: center;}#sk-container-id-7 label.sk-toggleable__label-arrow:before {content: \"▸\";float: left;margin-right: 0.25em;color: #696969;}#sk-container-id-7 label.sk-toggleable__label-arrow:hover:before {color: black;}#sk-container-id-7 div.sk-estimator:hover label.sk-toggleable__label-arrow:before {color: black;}#sk-container-id-7 div.sk-toggleable__content {max-height: 0;max-width: 0;overflow: hidden;text-align: left;background-color: #f0f8ff;}#sk-container-id-7 div.sk-toggleable__content pre {margin: 0.2em;color: black;border-radius: 0.25em;background-color: #f0f8ff;}#sk-container-id-7 input.sk-toggleable__control:checked~div.sk-toggleable__content {max-height: 200px;max-width: 100%;overflow: auto;}#sk-container-id-7 input.sk-toggleable__control:checked~label.sk-toggleable__label-arrow:before {content: \"▾\";}#sk-container-id-7 div.sk-estimator input.sk-toggleable__control:checked~label.sk-toggleable__label {background-color: #d4ebff;}#sk-container-id-7 div.sk-label input.sk-toggleable__control:checked~label.sk-toggleable__label {background-color: #d4ebff;}#sk-container-id-7 input.sk-hidden--visually {border: 0;clip: rect(1px 1px 1px 1px);clip: rect(1px, 1px, 1px, 1px);height: 1px;margin: -1px;overflow: hidden;padding: 0;position: absolute;width: 1px;}#sk-container-id-7 div.sk-estimator {font-family: monospace;background-color: #f0f8ff;border: 1px dotted black;border-radius: 0.25em;box-sizing: border-box;margin-bottom: 0.5em;}#sk-container-id-7 div.sk-estimator:hover {background-color: #d4ebff;}#sk-container-id-7 div.sk-parallel-item::after {content: \"\";width: 100%;border-bottom: 1px solid gray;flex-grow: 1;}#sk-container-id-7 div.sk-label:hover label.sk-toggleable__label {background-color: #d4ebff;}#sk-container-id-7 div.sk-serial::before {content: \"\";position: absolute;border-left: 1px solid gray;box-sizing: border-box;top: 0;bottom: 0;left: 50%;z-index: 0;}#sk-container-id-7 div.sk-serial {display: flex;flex-direction: column;align-items: center;background-color: white;padding-right: 0.2em;padding-left: 0.2em;position: relative;}#sk-container-id-7 div.sk-item {position: relative;z-index: 1;}#sk-container-id-7 div.sk-parallel {display: flex;align-items: stretch;justify-content: center;background-color: white;position: relative;}#sk-container-id-7 div.sk-item::before, #sk-container-id-7 div.sk-parallel-item::before {content: \"\";position: absolute;border-left: 1px solid gray;box-sizing: border-box;top: 0;bottom: 0;left: 50%;z-index: -1;}#sk-container-id-7 div.sk-parallel-item {display: flex;flex-direction: column;z-index: 1;position: relative;background-color: white;}#sk-container-id-7 div.sk-parallel-item:first-child::after {align-self: flex-end;width: 50%;}#sk-container-id-7 div.sk-parallel-item:last-child::after {align-self: flex-start;width: 50%;}#sk-container-id-7 div.sk-parallel-item:only-child::after {width: 0;}#sk-container-id-7 div.sk-dashed-wrapped {border: 1px dashed gray;margin: 0 0.4em 0.5em 0.4em;box-sizing: border-box;padding-bottom: 0.4em;background-color: white;}#sk-container-id-7 div.sk-label label {font-family: monospace;font-weight: bold;display: inline-block;line-height: 1.2em;}#sk-container-id-7 div.sk-label-container {text-align: center;}#sk-container-id-7 div.sk-container {/* jupyter's `normalize.less` sets `[hidden] { display: none; }` but bootstrap.min.css set `[hidden] { display: none !important; }` so we also need the `!important` here to be able to override the default hidden behavior on the sphinx rendered scikit-learn.org. See: https://github.com/scikit-learn/scikit-learn/issues/21755 */display: inline-block !important;position: relative;}#sk-container-id-7 div.sk-text-repr-fallback {display: none;}</style><div id=\"sk-container-id-7\" class=\"sk-top-container\"><div class=\"sk-text-repr-fallback\"><pre>GridSearchCV(cv=StratifiedKFold(n_splits=4, random_state=None, shuffle=False),\n",
       "             estimator=Pipeline(steps=[(&#x27;prep&#x27;,\n",
       "                                        ColumnTransformer(transformers=[(&#x27;numeric&#x27;,\n",
       "                                                                         Pipeline(steps=[(&#x27;imputer&#x27;,\n",
       "                                                                                          SimpleImputer())]),\n",
       "                                                                         [&#x27;previous&#x27;,\n",
       "                                                                          &#x27;emp.var.rate&#x27;,\n",
       "                                                                          &#x27;cons.price.idx&#x27;,\n",
       "                                                                          &#x27;cons.conf.idx&#x27;,\n",
       "                                                                          &#x27;euribor3m&#x27;]),\n",
       "                                                                        (&#x27;categoric1&#x27;,\n",
       "                                                                         Pipeline(steps=[(&#x27;encoder&#x27;,\n",
       "                                                                                          OneHotEncoder())]),\n",
       "                                                                         [&#x27;Marital_Status&#x27;...\n",
       "                                                                          &#x27;Edu_Cat&#x27;])])),\n",
       "                                       (&#x27;algo&#x27;, RandomForestClassifier())]),\n",
       "             n_jobs=-1,\n",
       "             param_grid={&#x27;algo__class_weight&#x27;: [{0: 0.1, 1: 0.9},\n",
       "                                                {0: 0.2, 1: 0.8},\n",
       "                                                {0: 0.30000000000000004,\n",
       "                                                 1: 0.7},\n",
       "                                                {0: 0.4, 1: 0.6},\n",
       "                                                {0: 0.5, 1: 0.5},\n",
       "                                                {0: 0.6, 1: 0.4},\n",
       "                                                {0: 0.7000000000000001,\n",
       "                                                 1: 0.29999999999999993},\n",
       "                                                {0: 0.8,\n",
       "                                                 1: 0.19999999999999996}],\n",
       "                         &#x27;algo__max_depth&#x27;: array([0, 1, 2, 3, 4, 5, 6, 7, 8, 9]),\n",
       "                         &#x27;algo__n_estimators&#x27;: [100, 500, 1000]})</pre><b>In a Jupyter environment, please rerun this cell to show the HTML representation or trust the notebook. <br />On GitHub, the HTML representation is unable to render, please try loading this page with nbviewer.org.</b></div><div class=\"sk-container\" hidden><div class=\"sk-item sk-dashed-wrapped\"><div class=\"sk-label-container\"><div class=\"sk-label sk-toggleable\"><input class=\"sk-toggleable__control sk-hidden--visually\" id=\"sk-estimator-id-46\" type=\"checkbox\" ><label for=\"sk-estimator-id-46\" class=\"sk-toggleable__label sk-toggleable__label-arrow\">GridSearchCV</label><div class=\"sk-toggleable__content\"><pre>GridSearchCV(cv=StratifiedKFold(n_splits=4, random_state=None, shuffle=False),\n",
       "             estimator=Pipeline(steps=[(&#x27;prep&#x27;,\n",
       "                                        ColumnTransformer(transformers=[(&#x27;numeric&#x27;,\n",
       "                                                                         Pipeline(steps=[(&#x27;imputer&#x27;,\n",
       "                                                                                          SimpleImputer())]),\n",
       "                                                                         [&#x27;previous&#x27;,\n",
       "                                                                          &#x27;emp.var.rate&#x27;,\n",
       "                                                                          &#x27;cons.price.idx&#x27;,\n",
       "                                                                          &#x27;cons.conf.idx&#x27;,\n",
       "                                                                          &#x27;euribor3m&#x27;]),\n",
       "                                                                        (&#x27;categoric1&#x27;,\n",
       "                                                                         Pipeline(steps=[(&#x27;encoder&#x27;,\n",
       "                                                                                          OneHotEncoder())]),\n",
       "                                                                         [&#x27;Marital_Status&#x27;...\n",
       "                                                                          &#x27;Edu_Cat&#x27;])])),\n",
       "                                       (&#x27;algo&#x27;, RandomForestClassifier())]),\n",
       "             n_jobs=-1,\n",
       "             param_grid={&#x27;algo__class_weight&#x27;: [{0: 0.1, 1: 0.9},\n",
       "                                                {0: 0.2, 1: 0.8},\n",
       "                                                {0: 0.30000000000000004,\n",
       "                                                 1: 0.7},\n",
       "                                                {0: 0.4, 1: 0.6},\n",
       "                                                {0: 0.5, 1: 0.5},\n",
       "                                                {0: 0.6, 1: 0.4},\n",
       "                                                {0: 0.7000000000000001,\n",
       "                                                 1: 0.29999999999999993},\n",
       "                                                {0: 0.8,\n",
       "                                                 1: 0.19999999999999996}],\n",
       "                         &#x27;algo__max_depth&#x27;: array([0, 1, 2, 3, 4, 5, 6, 7, 8, 9]),\n",
       "                         &#x27;algo__n_estimators&#x27;: [100, 500, 1000]})</pre></div></div></div><div class=\"sk-parallel\"><div class=\"sk-parallel-item\"><div class=\"sk-item\"><div class=\"sk-label-container\"><div class=\"sk-label sk-toggleable\"><input class=\"sk-toggleable__control sk-hidden--visually\" id=\"sk-estimator-id-47\" type=\"checkbox\" ><label for=\"sk-estimator-id-47\" class=\"sk-toggleable__label sk-toggleable__label-arrow\">estimator: Pipeline</label><div class=\"sk-toggleable__content\"><pre>Pipeline(steps=[(&#x27;prep&#x27;,\n",
       "                 ColumnTransformer(transformers=[(&#x27;numeric&#x27;,\n",
       "                                                  Pipeline(steps=[(&#x27;imputer&#x27;,\n",
       "                                                                   SimpleImputer())]),\n",
       "                                                  [&#x27;previous&#x27;, &#x27;emp.var.rate&#x27;,\n",
       "                                                   &#x27;cons.price.idx&#x27;,\n",
       "                                                   &#x27;cons.conf.idx&#x27;,\n",
       "                                                   &#x27;euribor3m&#x27;]),\n",
       "                                                 (&#x27;categoric1&#x27;,\n",
       "                                                  Pipeline(steps=[(&#x27;encoder&#x27;,\n",
       "                                                                   OneHotEncoder())]),\n",
       "                                                  [&#x27;Marital_Status&#x27;, &#x27;default&#x27;,\n",
       "                                                   &#x27;housing&#x27;, &#x27;loan&#x27;, &#x27;contact&#x27;,\n",
       "                                                   &#x27;pdays&#x27;, &#x27;poutcome&#x27;,\n",
       "                                                   &#x27;Job_Type&#x27;, &#x27;age_group&#x27;,\n",
       "                                                   &#x27;Edu_Cat&#x27;])])),\n",
       "                (&#x27;algo&#x27;, RandomForestClassifier())])</pre></div></div></div><div class=\"sk-serial\"><div class=\"sk-item\"><div class=\"sk-serial\"><div class=\"sk-item sk-dashed-wrapped\"><div class=\"sk-label-container\"><div class=\"sk-label sk-toggleable\"><input class=\"sk-toggleable__control sk-hidden--visually\" id=\"sk-estimator-id-48\" type=\"checkbox\" ><label for=\"sk-estimator-id-48\" class=\"sk-toggleable__label sk-toggleable__label-arrow\">prep: ColumnTransformer</label><div class=\"sk-toggleable__content\"><pre>ColumnTransformer(transformers=[(&#x27;numeric&#x27;,\n",
       "                                 Pipeline(steps=[(&#x27;imputer&#x27;, SimpleImputer())]),\n",
       "                                 [&#x27;previous&#x27;, &#x27;emp.var.rate&#x27;, &#x27;cons.price.idx&#x27;,\n",
       "                                  &#x27;cons.conf.idx&#x27;, &#x27;euribor3m&#x27;]),\n",
       "                                (&#x27;categoric1&#x27;,\n",
       "                                 Pipeline(steps=[(&#x27;encoder&#x27;, OneHotEncoder())]),\n",
       "                                 [&#x27;Marital_Status&#x27;, &#x27;default&#x27;, &#x27;housing&#x27;,\n",
       "                                  &#x27;loan&#x27;, &#x27;contact&#x27;, &#x27;pdays&#x27;, &#x27;poutcome&#x27;,\n",
       "                                  &#x27;Job_Type&#x27;, &#x27;age_group&#x27;, &#x27;Edu_Cat&#x27;])])</pre></div></div></div><div class=\"sk-parallel\"><div class=\"sk-parallel-item\"><div class=\"sk-item\"><div class=\"sk-label-container\"><div class=\"sk-label sk-toggleable\"><input class=\"sk-toggleable__control sk-hidden--visually\" id=\"sk-estimator-id-49\" type=\"checkbox\" ><label for=\"sk-estimator-id-49\" class=\"sk-toggleable__label sk-toggleable__label-arrow\">numeric</label><div class=\"sk-toggleable__content\"><pre>[&#x27;previous&#x27;, &#x27;emp.var.rate&#x27;, &#x27;cons.price.idx&#x27;, &#x27;cons.conf.idx&#x27;, &#x27;euribor3m&#x27;]</pre></div></div></div><div class=\"sk-serial\"><div class=\"sk-item\"><div class=\"sk-serial\"><div class=\"sk-item\"><div class=\"sk-estimator sk-toggleable\"><input class=\"sk-toggleable__control sk-hidden--visually\" id=\"sk-estimator-id-50\" type=\"checkbox\" ><label for=\"sk-estimator-id-50\" class=\"sk-toggleable__label sk-toggleable__label-arrow\">SimpleImputer</label><div class=\"sk-toggleable__content\"><pre>SimpleImputer()</pre></div></div></div></div></div></div></div></div><div class=\"sk-parallel-item\"><div class=\"sk-item\"><div class=\"sk-label-container\"><div class=\"sk-label sk-toggleable\"><input class=\"sk-toggleable__control sk-hidden--visually\" id=\"sk-estimator-id-51\" type=\"checkbox\" ><label for=\"sk-estimator-id-51\" class=\"sk-toggleable__label sk-toggleable__label-arrow\">categoric1</label><div class=\"sk-toggleable__content\"><pre>[&#x27;Marital_Status&#x27;, &#x27;default&#x27;, &#x27;housing&#x27;, &#x27;loan&#x27;, &#x27;contact&#x27;, &#x27;pdays&#x27;, &#x27;poutcome&#x27;, &#x27;Job_Type&#x27;, &#x27;age_group&#x27;, &#x27;Edu_Cat&#x27;]</pre></div></div></div><div class=\"sk-serial\"><div class=\"sk-item\"><div class=\"sk-serial\"><div class=\"sk-item\"><div class=\"sk-estimator sk-toggleable\"><input class=\"sk-toggleable__control sk-hidden--visually\" id=\"sk-estimator-id-52\" type=\"checkbox\" ><label for=\"sk-estimator-id-52\" class=\"sk-toggleable__label sk-toggleable__label-arrow\">OneHotEncoder</label><div class=\"sk-toggleable__content\"><pre>OneHotEncoder()</pre></div></div></div></div></div></div></div></div></div></div><div class=\"sk-item\"><div class=\"sk-estimator sk-toggleable\"><input class=\"sk-toggleable__control sk-hidden--visually\" id=\"sk-estimator-id-53\" type=\"checkbox\" ><label for=\"sk-estimator-id-53\" class=\"sk-toggleable__label sk-toggleable__label-arrow\">RandomForestClassifier</label><div class=\"sk-toggleable__content\"><pre>RandomForestClassifier()</pre></div></div></div></div></div></div></div></div></div></div></div></div>"
      ],
      "text/plain": [
       "GridSearchCV(cv=StratifiedKFold(n_splits=4, random_state=None, shuffle=False),\n",
       "             estimator=Pipeline(steps=[('prep',\n",
       "                                        ColumnTransformer(transformers=[('numeric',\n",
       "                                                                         Pipeline(steps=[('imputer',\n",
       "                                                                                          SimpleImputer())]),\n",
       "                                                                         ['previous',\n",
       "                                                                          'emp.var.rate',\n",
       "                                                                          'cons.price.idx',\n",
       "                                                                          'cons.conf.idx',\n",
       "                                                                          'euribor3m']),\n",
       "                                                                        ('categoric1',\n",
       "                                                                         Pipeline(steps=[('encoder',\n",
       "                                                                                          OneHotEncoder())]),\n",
       "                                                                         ['Marital_Status'...\n",
       "                                                                          'Edu_Cat'])])),\n",
       "                                       ('algo', RandomForestClassifier())]),\n",
       "             n_jobs=-1,\n",
       "             param_grid={'algo__class_weight': [{0: 0.1, 1: 0.9},\n",
       "                                                {0: 0.2, 1: 0.8},\n",
       "                                                {0: 0.30000000000000004,\n",
       "                                                 1: 0.7},\n",
       "                                                {0: 0.4, 1: 0.6},\n",
       "                                                {0: 0.5, 1: 0.5},\n",
       "                                                {0: 0.6, 1: 0.4},\n",
       "                                                {0: 0.7000000000000001,\n",
       "                                                 1: 0.29999999999999993},\n",
       "                                                {0: 0.8,\n",
       "                                                 1: 0.19999999999999996}],\n",
       "                         'algo__max_depth': array([0, 1, 2, 3, 4, 5, 6, 7, 8, 9]),\n",
       "                         'algo__n_estimators': [100, 500, 1000]})"
      ]
     },
     "execution_count": 124,
     "metadata": {},
     "output_type": "execute_result"
    }
   ],
   "source": [
    "gs_rft.fit(x_train,y_train)"
   ]
  },
  {
   "cell_type": "code",
   "execution_count": 125,
   "id": "37099b84",
   "metadata": {
    "execution": {
     "iopub.execute_input": "2021-11-05T11:39:23.411600Z",
     "iopub.status.busy": "2021-11-05T11:39:23.410845Z",
     "iopub.status.idle": "2021-11-05T11:39:23.414159Z",
     "shell.execute_reply": "2021-11-05T11:39:23.414682Z",
     "shell.execute_reply.started": "2021-11-05T10:11:48.407336Z"
    },
    "papermill": {
     "duration": 0.196822,
     "end_time": "2021-11-05T11:39:23.414873",
     "exception": false,
     "start_time": "2021-11-05T11:39:23.218051",
     "status": "completed"
    },
    "tags": []
   },
   "outputs": [
    {
     "data": {
      "text/plain": [
       "{'algo__class_weight': {0: 0.4, 1: 0.6},\n",
       " 'algo__max_depth': 7,\n",
       " 'algo__n_estimators': 100}"
      ]
     },
     "execution_count": 125,
     "metadata": {},
     "output_type": "execute_result"
    }
   ],
   "source": [
    "gs_rft.best_params_"
   ]
  },
  {
   "cell_type": "code",
   "execution_count": 126,
   "id": "ccfdd512",
   "metadata": {
    "execution": {
     "iopub.execute_input": "2021-11-05T11:39:23.787164Z",
     "iopub.status.busy": "2021-11-05T11:39:23.786435Z",
     "iopub.status.idle": "2021-11-05T11:39:23.788770Z",
     "shell.execute_reply": "2021-11-05T11:39:23.789343Z",
     "shell.execute_reply.started": "2021-11-05T10:12:08.292601Z"
    },
    "papermill": {
     "duration": 0.191978,
     "end_time": "2021-11-05T11:39:23.789542",
     "exception": false,
     "start_time": "2021-11-05T11:39:23.597564",
     "status": "completed"
    },
    "tags": []
   },
   "outputs": [],
   "source": [
    "rf_t = gs_rft.best_estimator_"
   ]
  },
  {
   "cell_type": "code",
   "execution_count": 127,
   "id": "dd9a8c6c",
   "metadata": {
    "execution": {
     "iopub.execute_input": "2021-11-05T11:39:24.170853Z",
     "iopub.status.busy": "2021-11-05T11:39:24.169756Z",
     "iopub.status.idle": "2021-11-05T11:39:36.279959Z",
     "shell.execute_reply": "2021-11-05T11:39:36.280924Z",
     "shell.execute_reply.started": "2021-11-05T10:12:15.458447Z"
    },
    "papermill": {
     "duration": 12.303851,
     "end_time": "2021-11-05T11:39:36.281236",
     "exception": false,
     "start_time": "2021-11-05T11:39:23.977385",
     "status": "completed"
    },
    "tags": []
   },
   "outputs": [],
   "source": [
    "rft_hasil_train, rft_hasil_test, rft_evaluation, rft_cm, rft_cr = log_evaluation(x_train, x_test, y_train, y_test, rf_t)"
   ]
  },
  {
   "cell_type": "markdown",
   "id": "be53d22f",
   "metadata": {
    "papermill": {
     "duration": 0.186766,
     "end_time": "2021-11-05T11:39:36.664606",
     "exception": false,
     "start_time": "2021-11-05T11:39:36.477840",
     "status": "completed"
    },
    "tags": []
   },
   "source": [
    "Comparison before and after parameter tuning"
   ]
  },
  {
   "cell_type": "code",
   "execution_count": 128,
   "id": "5b433f54",
   "metadata": {
    "execution": {
     "iopub.execute_input": "2021-11-05T11:39:37.052681Z",
     "iopub.status.busy": "2021-11-05T11:39:37.051877Z",
     "iopub.status.idle": "2021-11-05T11:39:37.062973Z",
     "shell.execute_reply": "2021-11-05T11:39:37.063682Z",
     "shell.execute_reply.started": "2021-11-05T10:12:30.995522Z"
    },
    "papermill": {
     "duration": 0.206108,
     "end_time": "2021-11-05T11:39:37.063937",
     "exception": false,
     "start_time": "2021-11-05T11:39:36.857829",
     "status": "completed"
    },
    "tags": []
   },
   "outputs": [
    {
     "data": {
      "text/html": [
       "<div>\n",
       "<style scoped>\n",
       "    .dataframe tbody tr th:only-of-type {\n",
       "        vertical-align: middle;\n",
       "    }\n",
       "\n",
       "    .dataframe tbody tr th {\n",
       "        vertical-align: top;\n",
       "    }\n",
       "\n",
       "    .dataframe thead th {\n",
       "        text-align: right;\n",
       "    }\n",
       "</style>\n",
       "<table border=\"1\" class=\"dataframe\">\n",
       "  <thead>\n",
       "    <tr style=\"text-align: right;\">\n",
       "      <th></th>\n",
       "      <th>Training</th>\n",
       "      <th>Testing</th>\n",
       "    </tr>\n",
       "  </thead>\n",
       "  <tbody>\n",
       "    <tr>\n",
       "      <th>accuracy</th>\n",
       "      <td>0.904372</td>\n",
       "      <td>0.899466</td>\n",
       "    </tr>\n",
       "    <tr>\n",
       "      <th>recall</th>\n",
       "      <td>0.296147</td>\n",
       "      <td>0.254310</td>\n",
       "    </tr>\n",
       "    <tr>\n",
       "      <th>precission</th>\n",
       "      <td>0.671350</td>\n",
       "      <td>0.634409</td>\n",
       "    </tr>\n",
       "    <tr>\n",
       "      <th>F1 Score</th>\n",
       "      <td>0.410995</td>\n",
       "      <td>0.363077</td>\n",
       "    </tr>\n",
       "    <tr>\n",
       "      <th>ROCAUC</th>\n",
       "      <td>0.638870</td>\n",
       "      <td>0.617850</td>\n",
       "    </tr>\n",
       "  </tbody>\n",
       "</table>\n",
       "</div>"
      ],
      "text/plain": [
       "            Training   Testing\n",
       "accuracy    0.904372  0.899466\n",
       "recall      0.296147  0.254310\n",
       "precission  0.671350  0.634409\n",
       "F1 Score    0.410995  0.363077\n",
       "ROCAUC      0.638870  0.617850"
      ]
     },
     "execution_count": 128,
     "metadata": {},
     "output_type": "execute_result"
    }
   ],
   "source": [
    "rft_evaluation"
   ]
  },
  {
   "cell_type": "code",
   "execution_count": 129,
   "id": "6a299d1c",
   "metadata": {
    "execution": {
     "iopub.execute_input": "2021-11-05T11:39:37.453226Z",
     "iopub.status.busy": "2021-11-05T11:39:37.452499Z",
     "iopub.status.idle": "2021-11-05T11:39:37.461114Z",
     "shell.execute_reply": "2021-11-05T11:39:37.461723Z",
     "shell.execute_reply.started": "2021-11-05T10:12:54.002566Z"
    },
    "papermill": {
     "duration": 0.204899,
     "end_time": "2021-11-05T11:39:37.461945",
     "exception": false,
     "start_time": "2021-11-05T11:39:37.257046",
     "status": "completed"
    },
    "tags": []
   },
   "outputs": [
    {
     "data": {
      "text/html": [
       "<div>\n",
       "<style scoped>\n",
       "    .dataframe tbody tr th:only-of-type {\n",
       "        vertical-align: middle;\n",
       "    }\n",
       "\n",
       "    .dataframe tbody tr th {\n",
       "        vertical-align: top;\n",
       "    }\n",
       "\n",
       "    .dataframe thead th {\n",
       "        text-align: right;\n",
       "    }\n",
       "</style>\n",
       "<table border=\"1\" class=\"dataframe\">\n",
       "  <thead>\n",
       "    <tr style=\"text-align: right;\">\n",
       "      <th></th>\n",
       "      <th>pred 1</th>\n",
       "      <th>pred 0</th>\n",
       "    </tr>\n",
       "  </thead>\n",
       "  <tbody>\n",
       "    <tr>\n",
       "      <th>akt1</th>\n",
       "      <td>236</td>\n",
       "      <td>692</td>\n",
       "    </tr>\n",
       "    <tr>\n",
       "      <th>akt0</th>\n",
       "      <td>136</td>\n",
       "      <td>7172</td>\n",
       "    </tr>\n",
       "  </tbody>\n",
       "</table>\n",
       "</div>"
      ],
      "text/plain": [
       "      pred 1  pred 0\n",
       "akt1     236     692\n",
       "akt0     136    7172"
      ]
     },
     "execution_count": 129,
     "metadata": {},
     "output_type": "execute_result"
    }
   ],
   "source": [
    "rft_cm"
   ]
  },
  {
   "cell_type": "code",
   "execution_count": 130,
   "id": "6a3bf61d",
   "metadata": {
    "execution": {
     "iopub.execute_input": "2021-11-05T11:39:37.855008Z",
     "iopub.status.busy": "2021-11-05T11:39:37.854095Z",
     "iopub.status.idle": "2021-11-05T11:39:37.859357Z",
     "shell.execute_reply": "2021-11-05T11:39:37.858644Z",
     "shell.execute_reply.started": "2021-11-05T10:13:01.497424Z"
    },
    "papermill": {
     "duration": 0.201996,
     "end_time": "2021-11-05T11:39:37.859522",
     "exception": false,
     "start_time": "2021-11-05T11:39:37.657526",
     "status": "completed"
    },
    "tags": []
   },
   "outputs": [
    {
     "name": "stdout",
     "output_type": "stream",
     "text": [
      "              precision    recall  f1-score   support\n",
      "\n",
      "           0       0.91      0.98      0.95      7308\n",
      "           1       0.63      0.25      0.36       928\n",
      "\n",
      "    accuracy                           0.90      8236\n",
      "   macro avg       0.77      0.62      0.65      8236\n",
      "weighted avg       0.88      0.90      0.88      8236\n",
      "\n"
     ]
    }
   ],
   "source": [
    "print(rft_cr)"
   ]
  },
  {
   "cell_type": "code",
   "execution_count": 131,
   "id": "0ab85736",
   "metadata": {
    "execution": {
     "iopub.execute_input": "2021-11-05T11:39:38.267209Z",
     "iopub.status.busy": "2021-11-05T11:39:38.266439Z",
     "iopub.status.idle": "2021-11-05T11:39:38.270788Z",
     "shell.execute_reply": "2021-11-05T11:39:38.270154Z",
     "shell.execute_reply.started": "2021-11-05T10:13:27.397949Z"
    },
    "papermill": {
     "duration": 0.218814,
     "end_time": "2021-11-05T11:39:38.270949",
     "exception": false,
     "start_time": "2021-11-05T11:39:38.052135",
     "status": "completed"
    },
    "tags": []
   },
   "outputs": [
    {
     "data": {
      "text/html": [
       "<div>\n",
       "<style scoped>\n",
       "    .dataframe tbody tr th:only-of-type {\n",
       "        vertical-align: middle;\n",
       "    }\n",
       "\n",
       "    .dataframe tbody tr th {\n",
       "        vertical-align: top;\n",
       "    }\n",
       "\n",
       "    .dataframe thead th {\n",
       "        text-align: right;\n",
       "    }\n",
       "</style>\n",
       "<table border=\"1\" class=\"dataframe\">\n",
       "  <thead>\n",
       "    <tr style=\"text-align: right;\">\n",
       "      <th></th>\n",
       "      <th>Training</th>\n",
       "      <th>Testing</th>\n",
       "      <th>Training</th>\n",
       "      <th>Testing</th>\n",
       "    </tr>\n",
       "  </thead>\n",
       "  <tbody>\n",
       "    <tr>\n",
       "      <th>accuracy</th>\n",
       "      <td>0.960200</td>\n",
       "      <td>0.884046</td>\n",
       "      <td>0.904372</td>\n",
       "      <td>0.899466</td>\n",
       "    </tr>\n",
       "    <tr>\n",
       "      <th>recall</th>\n",
       "      <td>0.683913</td>\n",
       "      <td>0.284483</td>\n",
       "      <td>0.296147</td>\n",
       "      <td>0.254310</td>\n",
       "    </tr>\n",
       "    <tr>\n",
       "      <th>precission</th>\n",
       "      <td>0.948430</td>\n",
       "      <td>0.475676</td>\n",
       "      <td>0.671350</td>\n",
       "      <td>0.634409</td>\n",
       "    </tr>\n",
       "    <tr>\n",
       "      <th>F1 Score</th>\n",
       "      <td>0.794739</td>\n",
       "      <td>0.356035</td>\n",
       "      <td>0.410995</td>\n",
       "      <td>0.363077</td>\n",
       "    </tr>\n",
       "    <tr>\n",
       "      <th>ROCAUC</th>\n",
       "      <td>0.839596</td>\n",
       "      <td>0.622332</td>\n",
       "      <td>0.638870</td>\n",
       "      <td>0.617850</td>\n",
       "    </tr>\n",
       "  </tbody>\n",
       "</table>\n",
       "</div>"
      ],
      "text/plain": [
       "            Training   Testing  Training   Testing\n",
       "accuracy    0.960200  0.884046  0.904372  0.899466\n",
       "recall      0.683913  0.284483  0.296147  0.254310\n",
       "precission  0.948430  0.475676  0.671350  0.634409\n",
       "F1 Score    0.794739  0.356035  0.410995  0.363077\n",
       "ROCAUC      0.839596  0.622332  0.638870  0.617850"
      ]
     },
     "execution_count": 131,
     "metadata": {},
     "output_type": "execute_result"
    }
   ],
   "source": [
    "pd.concat([rf_evaluation,rft_evaluation], axis= 1)"
   ]
  },
  {
   "cell_type": "markdown",
   "id": "68af1d3b",
   "metadata": {
    "papermill": {
     "duration": 0.1874,
     "end_time": "2021-11-05T11:39:38.655866",
     "exception": false,
     "start_time": "2021-11-05T11:39:38.468466",
     "status": "completed"
    },
    "tags": []
   },
   "source": [
    "## Comparison XGBoost and Random Forest after Hyper Parameter Tuning"
   ]
  },
  {
   "cell_type": "code",
   "execution_count": 132,
   "id": "c8ddd3e9",
   "metadata": {
    "execution": {
     "iopub.execute_input": "2021-11-05T11:39:39.060254Z",
     "iopub.status.busy": "2021-11-05T11:39:39.059157Z",
     "iopub.status.idle": "2021-11-05T11:39:39.063308Z",
     "shell.execute_reply": "2021-11-05T11:39:39.063864Z",
     "shell.execute_reply.started": "2021-11-05T10:16:56.294956Z"
    },
    "papermill": {
     "duration": 0.21275,
     "end_time": "2021-11-05T11:39:39.064085",
     "exception": false,
     "start_time": "2021-11-05T11:39:38.851335",
     "status": "completed"
    },
    "tags": []
   },
   "outputs": [
    {
     "data": {
      "text/html": [
       "<div>\n",
       "<style scoped>\n",
       "    .dataframe tbody tr th:only-of-type {\n",
       "        vertical-align: middle;\n",
       "    }\n",
       "\n",
       "    .dataframe tbody tr th {\n",
       "        vertical-align: top;\n",
       "    }\n",
       "\n",
       "    .dataframe thead th {\n",
       "        text-align: right;\n",
       "    }\n",
       "</style>\n",
       "<table border=\"1\" class=\"dataframe\">\n",
       "  <thead>\n",
       "    <tr style=\"text-align: right;\">\n",
       "      <th></th>\n",
       "      <th>Training</th>\n",
       "      <th>Testing</th>\n",
       "      <th>Training</th>\n",
       "      <th>Testing</th>\n",
       "    </tr>\n",
       "  </thead>\n",
       "  <tbody>\n",
       "    <tr>\n",
       "      <th>accuracy</th>\n",
       "      <td>0.90</td>\n",
       "      <td>0.90</td>\n",
       "      <td>0.90</td>\n",
       "      <td>0.90</td>\n",
       "    </tr>\n",
       "    <tr>\n",
       "      <th>recall</th>\n",
       "      <td>0.26</td>\n",
       "      <td>0.22</td>\n",
       "      <td>0.30</td>\n",
       "      <td>0.25</td>\n",
       "    </tr>\n",
       "    <tr>\n",
       "      <th>precission</th>\n",
       "      <td>0.70</td>\n",
       "      <td>0.64</td>\n",
       "      <td>0.67</td>\n",
       "      <td>0.63</td>\n",
       "    </tr>\n",
       "    <tr>\n",
       "      <th>F1 Score</th>\n",
       "      <td>0.38</td>\n",
       "      <td>0.33</td>\n",
       "      <td>0.41</td>\n",
       "      <td>0.36</td>\n",
       "    </tr>\n",
       "    <tr>\n",
       "      <th>ROCAUC</th>\n",
       "      <td>0.62</td>\n",
       "      <td>0.60</td>\n",
       "      <td>0.64</td>\n",
       "      <td>0.62</td>\n",
       "    </tr>\n",
       "  </tbody>\n",
       "</table>\n",
       "</div>"
      ],
      "text/plain": [
       "            Training  Testing  Training  Testing\n",
       "accuracy        0.90     0.90      0.90     0.90\n",
       "recall          0.26     0.22      0.30     0.25\n",
       "precission      0.70     0.64      0.67     0.63\n",
       "F1 Score        0.38     0.33      0.41     0.36\n",
       "ROCAUC          0.62     0.60      0.64     0.62"
      ]
     },
     "execution_count": 132,
     "metadata": {},
     "output_type": "execute_result"
    }
   ],
   "source": [
    "pd.concat([xgbt_evaluation,rft_evaluation], axis= 1).round(2)"
   ]
  },
  {
   "cell_type": "code",
   "execution_count": 133,
   "id": "a62eb569",
   "metadata": {
    "execution": {
     "iopub.execute_input": "2021-11-05T11:39:39.466503Z",
     "iopub.status.busy": "2021-11-05T11:39:39.465656Z",
     "iopub.status.idle": "2021-11-05T11:39:39.470363Z",
     "shell.execute_reply": "2021-11-05T11:39:39.469620Z",
     "shell.execute_reply.started": "2021-11-05T10:17:33.359365Z"
    },
    "papermill": {
     "duration": 0.215779,
     "end_time": "2021-11-05T11:39:39.470529",
     "exception": false,
     "start_time": "2021-11-05T11:39:39.254750",
     "status": "completed"
    },
    "tags": []
   },
   "outputs": [
    {
     "data": {
      "text/html": [
       "<div>\n",
       "<style scoped>\n",
       "    .dataframe tbody tr th:only-of-type {\n",
       "        vertical-align: middle;\n",
       "    }\n",
       "\n",
       "    .dataframe tbody tr th {\n",
       "        vertical-align: top;\n",
       "    }\n",
       "\n",
       "    .dataframe thead th {\n",
       "        text-align: right;\n",
       "    }\n",
       "</style>\n",
       "<table border=\"1\" class=\"dataframe\">\n",
       "  <thead>\n",
       "    <tr style=\"text-align: right;\">\n",
       "      <th></th>\n",
       "      <th>pred 1</th>\n",
       "      <th>pred 0</th>\n",
       "      <th>pred 1</th>\n",
       "      <th>pred 0</th>\n",
       "    </tr>\n",
       "  </thead>\n",
       "  <tbody>\n",
       "    <tr>\n",
       "      <th>akt1</th>\n",
       "      <td>202</td>\n",
       "      <td>726</td>\n",
       "      <td>236</td>\n",
       "      <td>692</td>\n",
       "    </tr>\n",
       "    <tr>\n",
       "      <th>akt0</th>\n",
       "      <td>113</td>\n",
       "      <td>7195</td>\n",
       "      <td>136</td>\n",
       "      <td>7172</td>\n",
       "    </tr>\n",
       "  </tbody>\n",
       "</table>\n",
       "</div>"
      ],
      "text/plain": [
       "      pred 1  pred 0  pred 1  pred 0\n",
       "akt1     202     726     236     692\n",
       "akt0     113    7195     136    7172"
      ]
     },
     "execution_count": 133,
     "metadata": {},
     "output_type": "execute_result"
    }
   ],
   "source": [
    "pd.concat([xgbt_cm,rft_cm], axis= 1)"
   ]
  },
  {
   "cell_type": "markdown",
   "id": "2990e3f1",
   "metadata": {
    "papermill": {
     "duration": 0.192205,
     "end_time": "2021-11-05T11:39:39.856366",
     "exception": false,
     "start_time": "2021-11-05T11:39:39.664161",
     "status": "completed"
    },
    "tags": []
   },
   "source": [
    "Based on confussion matrix and evaluation matrix above. XGBOOST algorithm is the best model for this dataset. "
   ]
  },
  {
   "cell_type": "markdown",
   "id": "193707c1",
   "metadata": {
    "papermill": {
     "duration": 0.198517,
     "end_time": "2021-11-05T11:39:40.246795",
     "exception": false,
     "start_time": "2021-11-05T11:39:40.048278",
     "status": "completed"
    },
    "tags": []
   },
   "source": [
    "# Probability"
   ]
  },
  {
   "cell_type": "markdown",
   "id": "2f548ebf",
   "metadata": {
    "papermill": {
     "duration": 0.198705,
     "end_time": "2021-11-05T11:39:40.641037",
     "exception": false,
     "start_time": "2021-11-05T11:39:40.442332",
     "status": "completed"
    },
    "tags": []
   },
   "source": [
    "I would like to check probability of the \"Yes\" prediction by this model. By knowing this probability, we're able to prioritize which customer to call first and make the telemarketing more efficient"
   ]
  },
  {
   "cell_type": "code",
   "execution_count": 134,
   "id": "7a889ee2",
   "metadata": {
    "execution": {
     "iopub.execute_input": "2021-11-05T11:39:41.057253Z",
     "iopub.status.busy": "2021-11-05T11:39:41.049321Z",
     "iopub.status.idle": "2021-11-05T11:39:42.726259Z",
     "shell.execute_reply": "2021-11-05T11:39:42.727093Z",
     "shell.execute_reply.started": "2021-11-05T10:44:47.882996Z"
    },
    "papermill": {
     "duration": 1.88057,
     "end_time": "2021-11-05T11:39:42.727373",
     "exception": false,
     "start_time": "2021-11-05T11:39:40.846803",
     "status": "completed"
    },
    "tags": []
   },
   "outputs": [],
   "source": [
    "prob = xgb_t.predict_proba(x)"
   ]
  },
  {
   "cell_type": "code",
   "execution_count": 135,
   "id": "b88ef212",
   "metadata": {
    "execution": {
     "iopub.execute_input": "2021-11-05T11:39:43.139059Z",
     "iopub.status.busy": "2021-11-05T11:39:43.138227Z",
     "iopub.status.idle": "2021-11-05T11:39:43.150027Z",
     "shell.execute_reply": "2021-11-05T11:39:43.150567Z",
     "shell.execute_reply.started": "2021-11-05T10:44:51.092323Z"
    },
    "papermill": {
     "duration": 0.213105,
     "end_time": "2021-11-05T11:39:43.150769",
     "exception": false,
     "start_time": "2021-11-05T11:39:42.937664",
     "status": "completed"
    },
    "tags": []
   },
   "outputs": [
    {
     "data": {
      "text/html": [
       "<div>\n",
       "<style scoped>\n",
       "    .dataframe tbody tr th:only-of-type {\n",
       "        vertical-align: middle;\n",
       "    }\n",
       "\n",
       "    .dataframe tbody tr th {\n",
       "        vertical-align: top;\n",
       "    }\n",
       "\n",
       "    .dataframe thead th {\n",
       "        text-align: right;\n",
       "    }\n",
       "</style>\n",
       "<table border=\"1\" class=\"dataframe\">\n",
       "  <thead>\n",
       "    <tr style=\"text-align: right;\">\n",
       "      <th></th>\n",
       "      <th>0</th>\n",
       "      <th>1</th>\n",
       "    </tr>\n",
       "  </thead>\n",
       "  <tbody>\n",
       "    <tr>\n",
       "      <th>0</th>\n",
       "      <td>0.968294</td>\n",
       "      <td>0.031706</td>\n",
       "    </tr>\n",
       "    <tr>\n",
       "      <th>1</th>\n",
       "      <td>0.968294</td>\n",
       "      <td>0.031706</td>\n",
       "    </tr>\n",
       "    <tr>\n",
       "      <th>2</th>\n",
       "      <td>0.968968</td>\n",
       "      <td>0.031032</td>\n",
       "    </tr>\n",
       "    <tr>\n",
       "      <th>3</th>\n",
       "      <td>0.968555</td>\n",
       "      <td>0.031445</td>\n",
       "    </tr>\n",
       "    <tr>\n",
       "      <th>4</th>\n",
       "      <td>0.968294</td>\n",
       "      <td>0.031706</td>\n",
       "    </tr>\n",
       "    <tr>\n",
       "      <th>...</th>\n",
       "      <td>...</td>\n",
       "      <td>...</td>\n",
       "    </tr>\n",
       "    <tr>\n",
       "      <th>41171</th>\n",
       "      <td>0.533471</td>\n",
       "      <td>0.466529</td>\n",
       "    </tr>\n",
       "    <tr>\n",
       "      <th>41172</th>\n",
       "      <td>0.522244</td>\n",
       "      <td>0.477756</td>\n",
       "    </tr>\n",
       "    <tr>\n",
       "      <th>41173</th>\n",
       "      <td>0.529114</td>\n",
       "      <td>0.470886</td>\n",
       "    </tr>\n",
       "    <tr>\n",
       "      <th>41174</th>\n",
       "      <td>0.512174</td>\n",
       "      <td>0.487826</td>\n",
       "    </tr>\n",
       "    <tr>\n",
       "      <th>41175</th>\n",
       "      <td>0.715010</td>\n",
       "      <td>0.284990</td>\n",
       "    </tr>\n",
       "  </tbody>\n",
       "</table>\n",
       "<p>41176 rows × 2 columns</p>\n",
       "</div>"
      ],
      "text/plain": [
       "              0         1\n",
       "0      0.968294  0.031706\n",
       "1      0.968294  0.031706\n",
       "2      0.968968  0.031032\n",
       "3      0.968555  0.031445\n",
       "4      0.968294  0.031706\n",
       "...         ...       ...\n",
       "41171  0.533471  0.466529\n",
       "41172  0.522244  0.477756\n",
       "41173  0.529114  0.470886\n",
       "41174  0.512174  0.487826\n",
       "41175  0.715010  0.284990\n",
       "\n",
       "[41176 rows x 2 columns]"
      ]
     },
     "execution_count": 135,
     "metadata": {},
     "output_type": "execute_result"
    }
   ],
   "source": [
    "table_probability = pd.DataFrame(prob)\n",
    "table_probability"
   ]
  },
  {
   "cell_type": "code",
   "execution_count": 136,
   "id": "951144d1",
   "metadata": {
    "execution": {
     "iopub.execute_input": "2021-11-05T11:39:43.560304Z",
     "iopub.status.busy": "2021-11-05T11:39:43.559234Z",
     "iopub.status.idle": "2021-11-05T11:39:43.570899Z",
     "shell.execute_reply": "2021-11-05T11:39:43.571533Z",
     "shell.execute_reply.started": "2021-11-05T10:44:53.025454Z"
    },
    "papermill": {
     "duration": 0.222046,
     "end_time": "2021-11-05T11:39:43.571741",
     "exception": false,
     "start_time": "2021-11-05T11:39:43.349695",
     "status": "completed"
    },
    "tags": []
   },
   "outputs": [
    {
     "data": {
      "text/plain": [
       "0        0.0\n",
       "1        0.0\n",
       "2        0.0\n",
       "3        0.0\n",
       "4        0.0\n",
       "        ... \n",
       "41171    0.5\n",
       "41172    0.5\n",
       "41173    0.5\n",
       "41174    0.5\n",
       "41175    0.3\n",
       "Name: 1, Length: 41176, dtype: float64"
      ]
     },
     "execution_count": 136,
     "metadata": {},
     "output_type": "execute_result"
    }
   ],
   "source": [
    "table_probability[1].round(1)"
   ]
  },
  {
   "cell_type": "code",
   "execution_count": 137,
   "id": "25b6f27c",
   "metadata": {
    "execution": {
     "iopub.execute_input": "2021-11-05T11:39:43.979255Z",
     "iopub.status.busy": "2021-11-05T11:39:43.978575Z",
     "iopub.status.idle": "2021-11-05T11:39:44.274027Z",
     "shell.execute_reply": "2021-11-05T11:39:44.273473Z",
     "shell.execute_reply.started": "2021-11-05T10:44:55.067583Z"
    },
    "papermill": {
     "duration": 0.503926,
     "end_time": "2021-11-05T11:39:44.274180",
     "exception": false,
     "start_time": "2021-11-05T11:39:43.770254",
     "status": "completed"
    },
    "tags": []
   },
   "outputs": [
    {
     "data": {
      "image/png": "[encoded data removed]",
      "text/plain": [
       "<Figure size 1080x576 with 1 Axes>"
      ]
     },
     "metadata": {
      "needs_background": "light"
     },
     "output_type": "display_data"
    }
   ],
   "source": [
    "plt.figure(figsize=(15, 8))\n",
    "sns.countplot(x= table_probability[1].round(1) , data=table_probability)\n",
    "plt.title('Probality of the campaign')\n",
    "plt.show()"
   ]
  },
  {
   "cell_type": "code",
   "execution_count": 138,
   "id": "d402c585",
   "metadata": {
    "execution": {
     "iopub.execute_input": "2021-11-05T11:39:44.681245Z",
     "iopub.status.busy": "2021-11-05T11:39:44.680537Z",
     "iopub.status.idle": "2021-11-05T11:39:44.691516Z",
     "shell.execute_reply": "2021-11-05T11:39:44.692004Z",
     "shell.execute_reply.started": "2021-11-05T10:44:57.209927Z"
    },
    "papermill": {
     "duration": 0.21439,
     "end_time": "2021-11-05T11:39:44.692201",
     "exception": false,
     "start_time": "2021-11-05T11:39:44.477811",
     "status": "completed"
    },
    "tags": []
   },
   "outputs": [
    {
     "data": {
      "text/html": [
       "<div>\n",
       "<style scoped>\n",
       "    .dataframe tbody tr th:only-of-type {\n",
       "        vertical-align: middle;\n",
       "    }\n",
       "\n",
       "    .dataframe tbody tr th {\n",
       "        vertical-align: top;\n",
       "    }\n",
       "\n",
       "    .dataframe thead th {\n",
       "        text-align: right;\n",
       "    }\n",
       "</style>\n",
       "<table border=\"1\" class=\"dataframe\">\n",
       "  <thead>\n",
       "    <tr style=\"text-align: right;\">\n",
       "      <th></th>\n",
       "      <th>1</th>\n",
       "    </tr>\n",
       "  </thead>\n",
       "  <tbody>\n",
       "    <tr>\n",
       "      <th>0</th>\n",
       "      <td>0.0</td>\n",
       "    </tr>\n",
       "    <tr>\n",
       "      <th>1</th>\n",
       "      <td>0.0</td>\n",
       "    </tr>\n",
       "    <tr>\n",
       "      <th>2</th>\n",
       "      <td>0.0</td>\n",
       "    </tr>\n",
       "    <tr>\n",
       "      <th>3</th>\n",
       "      <td>0.0</td>\n",
       "    </tr>\n",
       "    <tr>\n",
       "      <th>4</th>\n",
       "      <td>0.0</td>\n",
       "    </tr>\n",
       "    <tr>\n",
       "      <th>...</th>\n",
       "      <td>...</td>\n",
       "    </tr>\n",
       "    <tr>\n",
       "      <th>41171</th>\n",
       "      <td>0.5</td>\n",
       "    </tr>\n",
       "    <tr>\n",
       "      <th>41172</th>\n",
       "      <td>0.5</td>\n",
       "    </tr>\n",
       "    <tr>\n",
       "      <th>41173</th>\n",
       "      <td>0.5</td>\n",
       "    </tr>\n",
       "    <tr>\n",
       "      <th>41174</th>\n",
       "      <td>0.5</td>\n",
       "    </tr>\n",
       "    <tr>\n",
       "      <th>41175</th>\n",
       "      <td>0.3</td>\n",
       "    </tr>\n",
       "  </tbody>\n",
       "</table>\n",
       "<p>41176 rows × 1 columns</p>\n",
       "</div>"
      ],
      "text/plain": [
       "         1\n",
       "0      0.0\n",
       "1      0.0\n",
       "2      0.0\n",
       "3      0.0\n",
       "4      0.0\n",
       "...    ...\n",
       "41171  0.5\n",
       "41172  0.5\n",
       "41173  0.5\n",
       "41174  0.5\n",
       "41175  0.3\n",
       "\n",
       "[41176 rows x 1 columns]"
      ]
     },
     "execution_count": 138,
     "metadata": {},
     "output_type": "execute_result"
    }
   ],
   "source": [
    "table_probability = table_probability.drop(columns=0).round(1)\n",
    "table_probability"
   ]
  },
  {
   "cell_type": "code",
   "execution_count": 139,
   "id": "0eb073b9",
   "metadata": {
    "execution": {
     "iopub.execute_input": "2021-11-05T11:39:45.091359Z",
     "iopub.status.busy": "2021-11-05T11:39:45.089287Z",
     "iopub.status.idle": "2021-11-05T11:39:45.099478Z",
     "shell.execute_reply": "2021-11-05T11:39:45.100114Z",
     "shell.execute_reply.started": "2021-11-05T10:44:59.217135Z"
    },
    "papermill": {
     "duration": 0.211304,
     "end_time": "2021-11-05T11:39:45.100295",
     "exception": false,
     "start_time": "2021-11-05T11:39:44.888991",
     "status": "completed"
    },
    "tags": []
   },
   "outputs": [
    {
     "data": {
      "text/plain": [
       "1  \n",
       "0.1    20310\n",
       "0.0    14260\n",
       "0.3     2010\n",
       "0.2     1363\n",
       "0.4     1087\n",
       "0.5      760\n",
       "0.6      460\n",
       "0.7      446\n",
       "0.8      429\n",
       "0.9       51\n",
       "dtype: int64"
      ]
     },
     "execution_count": 139,
     "metadata": {},
     "output_type": "execute_result"
    }
   ],
   "source": [
    "table_probability.value_counts()"
   ]
  },
  {
   "cell_type": "markdown",
   "id": "8290b045",
   "metadata": {
    "papermill": {
     "duration": 0.197474,
     "end_time": "2021-11-05T11:39:45.490954",
     "exception": false,
     "start_time": "2021-11-05T11:39:45.293480",
     "status": "completed"
    },
    "tags": []
   },
   "source": [
    "Based on value counts above. Telemarketing would focus to NOT calling those who have probability on 0.0 - 0.1 and focus on other probability instead"
   ]
  },
  {
   "cell_type": "code",
   "execution_count": null,
   "id": "cdccc5ee",
   "metadata": {
    "papermill": {
     "duration": 0.197353,
     "end_time": "2021-11-05T11:39:45.886765",
     "exception": false,
     "start_time": "2021-11-05T11:39:45.689412",
     "status": "completed"
    },
    "tags": []
   },
   "outputs": [],
   "source": []
  },
  {
   "cell_type": "code",
   "execution_count": null,
   "id": "597eef99",
   "metadata": {},
   "outputs": [],
   "source": []
  }
 ],
 "metadata": {
  "kernelspec": {
   "display_name": "Python 3 (ipykernel)",
   "language": "python",
   "name": "python3"
  },
  "language_info": {
   "codemirror_mode": {
    "name": "ipython",
    "version": 3
   },
   "file_extension": ".py",
   "mimetype": "text/x-python",
   "name": "python",
   "nbconvert_exporter": "python",
   "pygments_lexer": "ipython3",
   "version": "3.9.7"
  },
  "papermill": {
   "default_parameters": {},
   "duration": 2836.398819,
   "end_time": "2021-11-05T11:39:47.508924",
   "environment_variables": {},
   "exception": null,
   "input_path": "__notebook__.ipynb",
   "output_path": "__notebook__.ipynb",
   "parameters": {},
   "start_time": "2021-11-05T10:52:31.110105",
   "version": "2.3.3"
  }
 },
 "nbformat": 4,
 "nbformat_minor": 5
}
